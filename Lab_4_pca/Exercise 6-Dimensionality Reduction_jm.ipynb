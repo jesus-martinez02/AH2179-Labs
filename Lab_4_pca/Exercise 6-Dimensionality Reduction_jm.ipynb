{
 "cells": [
  {
   "cell_type": "markdown",
   "id": "d99b8949",
   "metadata": {},
   "source": [
    "# Exercise 6 - Dimensionality Reduction with PCA, Kernel PCA and FA(Factor Analysis)"
   ]
  },
  {
   "cell_type": "markdown",
   "id": "638c8b58-efde-47b9-b114-93b35d659f68",
   "metadata": {},
   "source": [
    "Our goal is to explore different tools for reducing the number of dimensions in our high-dimensional traffic flow dataset. Each technique has a unique approach to identifying and preserving the most important patterns and information within the data:\n",
    "\n",
    "PCA finds components that maximize explained variance.\n",
    "Kernel PCA extends this to discover non-linear patterns.\n",
    "FA models the data to uncover hidden latent factors that explain feature correlations.\n",
    "We will follow a common workflow for each:\n",
    "\n",
    "Standardize the data (a crucial step for PCA and Kernel PCA, and highly beneficial for FA).\n",
    "Apply the tool to project our data onto a new, lower-dimensional subspace.\n",
    "Analyze the results to understand what information is preserved and how to interpret it.\n",
    "Discuss the trade-offs and implications of using each technique."
   ]
  },
  {
   "cell_type": "markdown",
   "id": "de27be78",
   "metadata": {},
   "source": [
    "## Data preparation\n",
    "The provided dataset is 5-minute observations on highway microwave sensors and needs to be in a format ready for dimensionality reduction. Thus, we represent days as ordered vectors of day-time observations of size 288 (there are 288, 5-minute time observations).\n",
    "\n",
    "The original dataset is in the long format (each row represents one 5 minutes interval)."
   ]
  },
  {
   "cell_type": "code",
   "execution_count": 2,
   "id": "0dd69895",
   "metadata": {},
   "outputs": [
    {
     "data": {
      "application/vnd.microsoft.datawrangler.viewer.v0+json": {
       "columns": [
        {
         "name": "index",
         "rawType": "int64",
         "type": "integer"
        },
        {
         "name": "PORTAL",
         "rawType": "object",
         "type": "string"
        },
        {
         "name": "Date",
         "rawType": "int64",
         "type": "integer"
        },
        {
         "name": "time_from",
         "rawType": "object",
         "type": "string"
        },
        {
         "name": "time_to",
         "rawType": "object",
         "type": "string"
        },
        {
         "name": "Interval_5",
         "rawType": "int64",
         "type": "integer"
        },
        {
         "name": "SPEED_MS_AVG",
         "rawType": "float64",
         "type": "float"
        },
        {
         "name": "flow",
         "rawType": "int64",
         "type": "integer"
        }
       ],
       "ref": "2f539ecb-29ce-4a70-a738-cff1a36eac10",
       "rows": [
        [
         "0",
         "E4S 56,780",
         "20210101",
         "00:00:00",
         "00:05:00",
         "0",
         "18.56",
         "39"
        ],
        [
         "1",
         "E4S 56,780",
         "20210101",
         "00:05:00",
         "00:10:00",
         "1",
         "20.39",
         "18"
        ],
        [
         "2",
         "E4S 56,780",
         "20210101",
         "00:10:00",
         "00:15:00",
         "2",
         "19.27",
         "26"
        ],
        [
         "3",
         "E4S 56,780",
         "20210101",
         "00:15:00",
         "00:20:00",
         "3",
         "19.52",
         "52"
        ],
        [
         "4",
         "E4S 56,780",
         "20210101",
         "00:20:00",
         "00:25:00",
         "4",
         "20.52",
         "52"
        ],
        [
         "5",
         "E4S 56,780",
         "20210101",
         "00:25:00",
         "00:30:00",
         "5",
         "19.49",
         "74"
        ],
        [
         "6",
         "E4S 56,780",
         "20210101",
         "00:30:00",
         "00:35:00",
         "6",
         "20.08",
         "68"
        ],
        [
         "7",
         "E4S 56,780",
         "20210101",
         "00:35:00",
         "00:40:00",
         "7",
         "20.13",
         "109"
        ],
        [
         "8",
         "E4S 56,780",
         "20210101",
         "00:40:00",
         "00:45:00",
         "8",
         "19.54",
         "91"
        ],
        [
         "9",
         "E4S 56,780",
         "20210101",
         "00:45:00",
         "00:50:00",
         "9",
         "19.47",
         "121"
        ],
        [
         "10",
         "E4S 56,780",
         "20210101",
         "00:50:00",
         "00:55:00",
         "10",
         "20.0",
         "96"
        ],
        [
         "11",
         "E4S 56,780",
         "20210101",
         "00:55:00",
         "01:00:00",
         "11",
         "21.08",
         "122"
        ],
        [
         "12",
         "E4S 56,780",
         "20210101",
         "01:00:00",
         "01:05:00",
         "12",
         "19.74",
         "100"
        ],
        [
         "13",
         "E4S 56,780",
         "20210101",
         "01:05:00",
         "01:10:00",
         "13",
         "19.18",
         "96"
        ],
        [
         "14",
         "E4S 56,780",
         "20210101",
         "01:10:00",
         "01:15:00",
         "14",
         "18.39",
         "104"
        ],
        [
         "15",
         "E4S 56,780",
         "20210101",
         "01:15:00",
         "01:20:00",
         "15",
         "19.91",
         "101"
        ],
        [
         "16",
         "E4S 56,780",
         "20210101",
         "01:20:00",
         "01:25:00",
         "16",
         "19.21",
         "110"
        ],
        [
         "17",
         "E4S 56,780",
         "20210101",
         "01:25:00",
         "01:30:00",
         "17",
         "19.87",
         "97"
        ],
        [
         "18",
         "E4S 56,780",
         "20210101",
         "01:30:00",
         "01:35:00",
         "18",
         "19.81",
         "109"
        ],
        [
         "19",
         "E4S 56,780",
         "20210101",
         "01:35:00",
         "01:40:00",
         "19",
         "19.66",
         "85"
        ],
        [
         "20",
         "E4S 56,780",
         "20210101",
         "01:40:00",
         "01:45:00",
         "20",
         "19.07",
         "87"
        ],
        [
         "21",
         "E4S 56,780",
         "20210101",
         "01:45:00",
         "01:50:00",
         "21",
         "19.03",
         "75"
        ],
        [
         "22",
         "E4S 56,780",
         "20210101",
         "01:50:00",
         "01:55:00",
         "22",
         "20.29",
         "85"
        ],
        [
         "23",
         "E4S 56,780",
         "20210101",
         "01:55:00",
         "02:00:00",
         "23",
         "20.85",
         "96"
        ],
        [
         "24",
         "E4S 56,780",
         "20210101",
         "02:00:00",
         "02:05:00",
         "24",
         "19.98",
         "73"
        ],
        [
         "25",
         "E4S 56,780",
         "20210101",
         "02:05:00",
         "02:10:00",
         "25",
         "19.69",
         "96"
        ],
        [
         "26",
         "E4S 56,780",
         "20210101",
         "02:10:00",
         "02:15:00",
         "26",
         "19.98",
         "113"
        ],
        [
         "27",
         "E4S 56,780",
         "20210101",
         "02:15:00",
         "02:20:00",
         "27",
         "20.23",
         "88"
        ],
        [
         "28",
         "E4S 56,780",
         "20210101",
         "02:20:00",
         "02:25:00",
         "28",
         "20.23",
         "75"
        ],
        [
         "29",
         "E4S 56,780",
         "20210101",
         "02:25:00",
         "02:30:00",
         "29",
         "20.57",
         "93"
        ],
        [
         "30",
         "E4S 56,780",
         "20210101",
         "02:30:00",
         "02:35:00",
         "30",
         "20.22",
         "72"
        ],
        [
         "31",
         "E4S 56,780",
         "20210101",
         "02:35:00",
         "02:40:00",
         "31",
         "19.4",
         "64"
        ],
        [
         "32",
         "E4S 56,780",
         "20210101",
         "02:40:00",
         "02:45:00",
         "32",
         "20.02",
         "69"
        ],
        [
         "33",
         "E4S 56,780",
         "20210101",
         "02:45:00",
         "02:50:00",
         "33",
         "20.35",
         "70"
        ],
        [
         "34",
         "E4S 56,780",
         "20210101",
         "02:50:00",
         "02:55:00",
         "34",
         "19.85",
         "72"
        ],
        [
         "35",
         "E4S 56,780",
         "20210101",
         "02:55:00",
         "03:00:00",
         "35",
         "20.22",
         "56"
        ],
        [
         "36",
         "E4S 56,780",
         "20210101",
         "03:00:00",
         "03:05:00",
         "36",
         "19.62",
         "69"
        ],
        [
         "37",
         "E4S 56,780",
         "20210101",
         "03:05:00",
         "03:10:00",
         "37",
         "19.71",
         "80"
        ],
        [
         "38",
         "E4S 56,780",
         "20210101",
         "03:10:00",
         "03:15:00",
         "38",
         "19.96",
         "71"
        ],
        [
         "39",
         "E4S 56,780",
         "20210101",
         "03:15:00",
         "03:20:00",
         "39",
         "19.89",
         "70"
        ],
        [
         "40",
         "E4S 56,780",
         "20210101",
         "03:20:00",
         "03:25:00",
         "40",
         "20.52",
         "65"
        ],
        [
         "41",
         "E4S 56,780",
         "20210101",
         "03:25:00",
         "03:30:00",
         "41",
         "19.89",
         "66"
        ],
        [
         "42",
         "E4S 56,780",
         "20210101",
         "03:30:00",
         "03:35:00",
         "42",
         "20.61",
         "53"
        ],
        [
         "43",
         "E4S 56,780",
         "20210101",
         "03:35:00",
         "03:40:00",
         "43",
         "19.43",
         "51"
        ],
        [
         "44",
         "E4S 56,780",
         "20210101",
         "03:40:00",
         "03:45:00",
         "44",
         "20.39",
         "45"
        ],
        [
         "45",
         "E4S 56,780",
         "20210101",
         "03:45:00",
         "03:50:00",
         "45",
         "20.93",
         "53"
        ],
        [
         "46",
         "E4S 56,780",
         "20210101",
         "03:50:00",
         "03:55:00",
         "46",
         "20.82",
         "50"
        ],
        [
         "47",
         "E4S 56,780",
         "20210101",
         "03:55:00",
         "04:00:00",
         "47",
         "20.44",
         "39"
        ],
        [
         "48",
         "E4S 56,780",
         "20210101",
         "04:00:00",
         "04:05:00",
         "48",
         "21.05",
         "54"
        ],
        [
         "49",
         "E4S 56,780",
         "20210101",
         "04:05:00",
         "04:10:00",
         "49",
         "20.2",
         "38"
        ]
       ],
       "shape": {
        "columns": 7,
        "rows": 104843
       }
      },
      "text/html": [
       "<div>\n",
       "<style scoped>\n",
       "    .dataframe tbody tr th:only-of-type {\n",
       "        vertical-align: middle;\n",
       "    }\n",
       "\n",
       "    .dataframe tbody tr th {\n",
       "        vertical-align: top;\n",
       "    }\n",
       "\n",
       "    .dataframe thead th {\n",
       "        text-align: right;\n",
       "    }\n",
       "</style>\n",
       "<table border=\"1\" class=\"dataframe\">\n",
       "  <thead>\n",
       "    <tr style=\"text-align: right;\">\n",
       "      <th></th>\n",
       "      <th>PORTAL</th>\n",
       "      <th>Date</th>\n",
       "      <th>time_from</th>\n",
       "      <th>time_to</th>\n",
       "      <th>Interval_5</th>\n",
       "      <th>SPEED_MS_AVG</th>\n",
       "      <th>flow</th>\n",
       "    </tr>\n",
       "  </thead>\n",
       "  <tbody>\n",
       "    <tr>\n",
       "      <th>0</th>\n",
       "      <td>E4S 56,780</td>\n",
       "      <td>20210101</td>\n",
       "      <td>00:00:00</td>\n",
       "      <td>00:05:00</td>\n",
       "      <td>0</td>\n",
       "      <td>18.56</td>\n",
       "      <td>39</td>\n",
       "    </tr>\n",
       "    <tr>\n",
       "      <th>1</th>\n",
       "      <td>E4S 56,780</td>\n",
       "      <td>20210101</td>\n",
       "      <td>00:05:00</td>\n",
       "      <td>00:10:00</td>\n",
       "      <td>1</td>\n",
       "      <td>20.39</td>\n",
       "      <td>18</td>\n",
       "    </tr>\n",
       "    <tr>\n",
       "      <th>2</th>\n",
       "      <td>E4S 56,780</td>\n",
       "      <td>20210101</td>\n",
       "      <td>00:10:00</td>\n",
       "      <td>00:15:00</td>\n",
       "      <td>2</td>\n",
       "      <td>19.27</td>\n",
       "      <td>26</td>\n",
       "    </tr>\n",
       "    <tr>\n",
       "      <th>3</th>\n",
       "      <td>E4S 56,780</td>\n",
       "      <td>20210101</td>\n",
       "      <td>00:15:00</td>\n",
       "      <td>00:20:00</td>\n",
       "      <td>3</td>\n",
       "      <td>19.52</td>\n",
       "      <td>52</td>\n",
       "    </tr>\n",
       "    <tr>\n",
       "      <th>4</th>\n",
       "      <td>E4S 56,780</td>\n",
       "      <td>20210101</td>\n",
       "      <td>00:20:00</td>\n",
       "      <td>00:25:00</td>\n",
       "      <td>4</td>\n",
       "      <td>20.52</td>\n",
       "      <td>52</td>\n",
       "    </tr>\n",
       "    <tr>\n",
       "      <th>...</th>\n",
       "      <td>...</td>\n",
       "      <td>...</td>\n",
       "      <td>...</td>\n",
       "      <td>...</td>\n",
       "      <td>...</td>\n",
       "      <td>...</td>\n",
       "      <td>...</td>\n",
       "    </tr>\n",
       "    <tr>\n",
       "      <th>104838</th>\n",
       "      <td>E4S 56,780</td>\n",
       "      <td>20211231</td>\n",
       "      <td>23:35:00</td>\n",
       "      <td>23:40:00</td>\n",
       "      <td>283</td>\n",
       "      <td>19.58</td>\n",
       "      <td>115</td>\n",
       "    </tr>\n",
       "    <tr>\n",
       "      <th>104839</th>\n",
       "      <td>E4S 56,780</td>\n",
       "      <td>20211231</td>\n",
       "      <td>23:40:00</td>\n",
       "      <td>23:45:00</td>\n",
       "      <td>284</td>\n",
       "      <td>19.47</td>\n",
       "      <td>87</td>\n",
       "    </tr>\n",
       "    <tr>\n",
       "      <th>104840</th>\n",
       "      <td>E4S 56,780</td>\n",
       "      <td>20211231</td>\n",
       "      <td>23:45:00</td>\n",
       "      <td>23:50:00</td>\n",
       "      <td>285</td>\n",
       "      <td>19.77</td>\n",
       "      <td>130</td>\n",
       "    </tr>\n",
       "    <tr>\n",
       "      <th>104841</th>\n",
       "      <td>E4S 56,780</td>\n",
       "      <td>20211231</td>\n",
       "      <td>23:50:00</td>\n",
       "      <td>23:55:00</td>\n",
       "      <td>286</td>\n",
       "      <td>18.79</td>\n",
       "      <td>129</td>\n",
       "    </tr>\n",
       "    <tr>\n",
       "      <th>104842</th>\n",
       "      <td>E4S 56,780</td>\n",
       "      <td>20211231</td>\n",
       "      <td>23:55:00</td>\n",
       "      <td>24:00:00</td>\n",
       "      <td>287</td>\n",
       "      <td>18.75</td>\n",
       "      <td>117</td>\n",
       "    </tr>\n",
       "  </tbody>\n",
       "</table>\n",
       "<p>104843 rows × 7 columns</p>\n",
       "</div>"
      ],
      "text/plain": [
       "            PORTAL      Date time_from   time_to  Interval_5  SPEED_MS_AVG  \\\n",
       "0       E4S 56,780  20210101  00:00:00  00:05:00           0         18.56   \n",
       "1       E4S 56,780  20210101  00:05:00  00:10:00           1         20.39   \n",
       "2       E4S 56,780  20210101  00:10:00  00:15:00           2         19.27   \n",
       "3       E4S 56,780  20210101  00:15:00  00:20:00           3         19.52   \n",
       "4       E4S 56,780  20210101  00:20:00  00:25:00           4         20.52   \n",
       "...            ...       ...       ...       ...         ...           ...   \n",
       "104838  E4S 56,780  20211231  23:35:00  23:40:00         283         19.58   \n",
       "104839  E4S 56,780  20211231  23:40:00  23:45:00         284         19.47   \n",
       "104840  E4S 56,780  20211231  23:45:00  23:50:00         285         19.77   \n",
       "104841  E4S 56,780  20211231  23:50:00  23:55:00         286         18.79   \n",
       "104842  E4S 56,780  20211231  23:55:00  24:00:00         287         18.75   \n",
       "\n",
       "        flow  \n",
       "0         39  \n",
       "1         18  \n",
       "2         26  \n",
       "3         52  \n",
       "4         52  \n",
       "...      ...  \n",
       "104838   115  \n",
       "104839    87  \n",
       "104840   130  \n",
       "104841   129  \n",
       "104842   117  \n",
       "\n",
       "[104843 rows x 7 columns]"
      ]
     },
     "execution_count": 2,
     "metadata": {},
     "output_type": "execute_result"
    }
   ],
   "source": [
    "import pandas as pd\n",
    "import numpy as np\n",
    "#upload the dataset by downloading both datasets from canvas and upload it on colab\n",
    "data_df = pd.read_csv(\"data/dataset_exercise_5_clustering_highway_traffic.csv\",sep=\";\")\n",
    "data_df"
   ]
  },
  {
   "cell_type": "markdown",
   "id": "6dcfa5e7",
   "metadata": {},
   "source": [
    "### Long to wide transformation\n",
    "\n",
    "The following steps transform the dataset from long to wide format.\n",
    "\n",
    "The resulting format will have for each day all the 288 measured 5 minutes intervals as columns."
   ]
  },
  {
   "cell_type": "code",
   "execution_count": 3,
   "id": "233869ac",
   "metadata": {},
   "outputs": [],
   "source": [
    "# Sort the DataFrame 'data_df' by columns \"Date\" and \"Interval_5\"\n",
    "data_df.sort_values([\"Date\", \"Interval_5\"])\n",
    "# Extract unique dates from the sorted DataFrame\n",
    "days = np.unique(data_df[['Date']].values.ravel())\n",
    "# Calculate the total number of unique days\n",
    "ndays = len(days)\n",
    "# Group the DataFrame 'data_df' by the \"Date\" column\n",
    "day_subsets_df = data_df.groupby([\"Date\"])\n",
    "# Define the total number of 5-minute intervals in a day\n",
    "nintvals = 288"
   ]
  },
  {
   "cell_type": "code",
   "execution_count": 4,
   "id": "0288645a",
   "metadata": {},
   "outputs": [
    {
     "name": "stderr",
     "output_type": "stream",
     "text": [
      "C:\\Users\\jemaa\\AppData\\Local\\Temp\\ipykernel_13648\\2054488798.py:7: FutureWarning: When grouping with a length-1 list-like, you will need to pass a length-1 tuple to get_group in a future version of pandas. Pass `(name,)` instead of `name` to silence this warning.\n",
      "  df_t = day_subsets_df.get_group(days[i],)\n",
      "C:\\Users\\jemaa\\AppData\\Local\\Temp\\ipykernel_13648\\2054488798.py:11: FutureWarning: When grouping with a length-1 list-like, you will need to pass a length-1 tuple to get_group in a future version of pandas. Pass `(name,)` instead of `name` to silence this warning.\n",
      "  df_t = day_subsets_df.get_group(days[i],)\n"
     ]
    },
    {
     "name": "stdout",
     "output_type": "stream",
     "text": [
      "[[ 39.  18.  26. ...  32.  39.  34.]\n",
      " [ 30.  32.  27. ...  44.  41.  39.]\n",
      " [ 36.  44.  52. ...  50.  45.  23.]\n",
      " ...\n",
      " [ 20.  34.  31. ...  38.  42.  36.]\n",
      " [ 36.  40.  25. ...  38.  56.  35.]\n",
      " [ 33.  32.  34. ... 130. 129. 117.]]\n",
      "(365, 288)\n"
     ]
    }
   ],
   "source": [
    "# Create a matrix 'vectorized_day_dataset' filled with NaN values\n",
    "vectorized_day_dataset = np.zeros((ndays, nintvals))\n",
    "vectorized_day_dataset.fill(np.nan)\n",
    "# Loop through each unique day\n",
    "for i in range(0, ndays):\n",
    "    # Get the DataFrame corresponding to the current day\n",
    "    df_t = day_subsets_df.get_group(days[i],)\n",
    "    # Loop through each row in the current day's DataFrame\n",
    "    for j in range(len(df_t)):\n",
    "        # Get the current day's DataFrame\n",
    "        df_t = day_subsets_df.get_group(days[i],)\n",
    "        # Extract the \"Interval_5\" and \"flow\" values and populate 'vectorized_day_dataset'\n",
    "        vectorized_day_dataset[i, df_t.iloc[j][\"Interval_5\"]] = df_t.iloc[j][\"flow\"]\n",
    "# Print the resulting 'vectorized_day_dataset' and the size of vector\n",
    "print(vectorized_day_dataset)\n",
    "print(vectorized_day_dataset.shape)"
   ]
  },
  {
   "cell_type": "markdown",
   "id": "61e55477",
   "metadata": {},
   "source": [
    "### Handling missing values"
   ]
  },
  {
   "cell_type": "code",
   "execution_count": 5,
   "id": "d4f7f4f9",
   "metadata": {},
   "outputs": [
    {
     "name": "stdout",
     "output_type": "stream",
     "text": [
      "number of days with missing value: 28\n"
     ]
    }
   ],
   "source": [
    "# print the number of days with missing value\n",
    "nans_per_day = np.sum(np.isnan(vectorized_day_dataset),1)\n",
    "print('number of days with missing value:',np.size(np.where(nans_per_day > 0),1))"
   ]
  },
  {
   "cell_type": "markdown",
   "id": "e048ae3b",
   "metadata": {},
   "source": [
    "Drop the days with missing values"
   ]
  },
  {
   "cell_type": "code",
   "execution_count": 9,
   "id": "6059bf14",
   "metadata": {},
   "outputs": [
    {
     "name": "stdout",
     "output_type": "stream",
     "text": [
      "(337, 288)\n"
     ]
    }
   ],
   "source": [
    "# Drop the days with missing valus\n",
    "vectorized_day_dataset_no_nans = vectorized_day_dataset[np.where(nans_per_day == 0)[0],:]\n",
    "# days_not_nans = days[np.where(nans_per_day == 0)[0]]\n",
    "print(vectorized_day_dataset_no_nans.shape)"
   ]
  },
  {
   "cell_type": "markdown",
   "id": "3c94371a",
   "metadata": {},
   "source": [
    "### Task 1: Perform PCA in dataset 1 for dimensionality reduction"
   ]
  },
  {
   "cell_type": "code",
   "execution_count": 6,
   "id": "a29c5974",
   "metadata": {},
   "outputs": [],
   "source": [
    "# Import packages\n",
    "import pandas as pd\n",
    "import numpy as np\n",
    "from sklearn.decomposition import PCA\n",
    "from sklearn.preprocessing import StandardScaler"
   ]
  },
  {
   "cell_type": "markdown",
   "id": "4f2363c2",
   "metadata": {},
   "source": [
    " #### Step 1: Overview of the Dataset\n",
    " \n",
    " Load and inspect the dataset"
   ]
  },
  {
   "cell_type": "code",
   "execution_count": 10,
   "id": "39b91aa8",
   "metadata": {},
   "outputs": [
    {
     "data": {
      "application/vnd.microsoft.datawrangler.viewer.v0+json": {
       "columns": [
        {
         "name": "index",
         "rawType": "int64",
         "type": "integer"
        },
        {
         "name": "0",
         "rawType": "float64",
         "type": "float"
        },
        {
         "name": "1",
         "rawType": "float64",
         "type": "float"
        },
        {
         "name": "2",
         "rawType": "float64",
         "type": "float"
        },
        {
         "name": "3",
         "rawType": "float64",
         "type": "float"
        },
        {
         "name": "4",
         "rawType": "float64",
         "type": "float"
        },
        {
         "name": "5",
         "rawType": "float64",
         "type": "float"
        },
        {
         "name": "6",
         "rawType": "float64",
         "type": "float"
        },
        {
         "name": "7",
         "rawType": "float64",
         "type": "float"
        },
        {
         "name": "8",
         "rawType": "float64",
         "type": "float"
        },
        {
         "name": "9",
         "rawType": "float64",
         "type": "float"
        },
        {
         "name": "10",
         "rawType": "float64",
         "type": "float"
        },
        {
         "name": "11",
         "rawType": "float64",
         "type": "float"
        },
        {
         "name": "12",
         "rawType": "float64",
         "type": "float"
        },
        {
         "name": "13",
         "rawType": "float64",
         "type": "float"
        },
        {
         "name": "14",
         "rawType": "float64",
         "type": "float"
        },
        {
         "name": "15",
         "rawType": "float64",
         "type": "float"
        },
        {
         "name": "16",
         "rawType": "float64",
         "type": "float"
        },
        {
         "name": "17",
         "rawType": "float64",
         "type": "float"
        },
        {
         "name": "18",
         "rawType": "float64",
         "type": "float"
        },
        {
         "name": "19",
         "rawType": "float64",
         "type": "float"
        },
        {
         "name": "20",
         "rawType": "float64",
         "type": "float"
        },
        {
         "name": "21",
         "rawType": "float64",
         "type": "float"
        },
        {
         "name": "22",
         "rawType": "float64",
         "type": "float"
        },
        {
         "name": "23",
         "rawType": "float64",
         "type": "float"
        },
        {
         "name": "24",
         "rawType": "float64",
         "type": "float"
        },
        {
         "name": "25",
         "rawType": "float64",
         "type": "float"
        },
        {
         "name": "26",
         "rawType": "float64",
         "type": "float"
        },
        {
         "name": "27",
         "rawType": "float64",
         "type": "float"
        },
        {
         "name": "28",
         "rawType": "float64",
         "type": "float"
        },
        {
         "name": "29",
         "rawType": "float64",
         "type": "float"
        },
        {
         "name": "30",
         "rawType": "float64",
         "type": "float"
        },
        {
         "name": "31",
         "rawType": "float64",
         "type": "float"
        },
        {
         "name": "32",
         "rawType": "float64",
         "type": "float"
        },
        {
         "name": "33",
         "rawType": "float64",
         "type": "float"
        },
        {
         "name": "34",
         "rawType": "float64",
         "type": "float"
        },
        {
         "name": "35",
         "rawType": "float64",
         "type": "float"
        },
        {
         "name": "36",
         "rawType": "float64",
         "type": "float"
        },
        {
         "name": "37",
         "rawType": "float64",
         "type": "float"
        },
        {
         "name": "38",
         "rawType": "float64",
         "type": "float"
        },
        {
         "name": "39",
         "rawType": "float64",
         "type": "float"
        },
        {
         "name": "40",
         "rawType": "float64",
         "type": "float"
        },
        {
         "name": "41",
         "rawType": "float64",
         "type": "float"
        },
        {
         "name": "42",
         "rawType": "float64",
         "type": "float"
        },
        {
         "name": "43",
         "rawType": "float64",
         "type": "float"
        },
        {
         "name": "44",
         "rawType": "float64",
         "type": "float"
        },
        {
         "name": "45",
         "rawType": "float64",
         "type": "float"
        },
        {
         "name": "46",
         "rawType": "float64",
         "type": "float"
        },
        {
         "name": "47",
         "rawType": "float64",
         "type": "float"
        },
        {
         "name": "48",
         "rawType": "float64",
         "type": "float"
        },
        {
         "name": "49",
         "rawType": "float64",
         "type": "float"
        },
        {
         "name": "50",
         "rawType": "float64",
         "type": "float"
        },
        {
         "name": "51",
         "rawType": "float64",
         "type": "float"
        },
        {
         "name": "52",
         "rawType": "float64",
         "type": "float"
        },
        {
         "name": "53",
         "rawType": "float64",
         "type": "float"
        },
        {
         "name": "54",
         "rawType": "float64",
         "type": "float"
        },
        {
         "name": "55",
         "rawType": "float64",
         "type": "float"
        },
        {
         "name": "56",
         "rawType": "float64",
         "type": "float"
        },
        {
         "name": "57",
         "rawType": "float64",
         "type": "float"
        },
        {
         "name": "58",
         "rawType": "float64",
         "type": "float"
        },
        {
         "name": "59",
         "rawType": "float64",
         "type": "float"
        },
        {
         "name": "60",
         "rawType": "float64",
         "type": "float"
        },
        {
         "name": "61",
         "rawType": "float64",
         "type": "float"
        },
        {
         "name": "62",
         "rawType": "float64",
         "type": "float"
        },
        {
         "name": "63",
         "rawType": "float64",
         "type": "float"
        },
        {
         "name": "64",
         "rawType": "float64",
         "type": "float"
        },
        {
         "name": "65",
         "rawType": "float64",
         "type": "float"
        },
        {
         "name": "66",
         "rawType": "float64",
         "type": "float"
        },
        {
         "name": "67",
         "rawType": "float64",
         "type": "float"
        },
        {
         "name": "68",
         "rawType": "float64",
         "type": "float"
        },
        {
         "name": "69",
         "rawType": "float64",
         "type": "float"
        },
        {
         "name": "70",
         "rawType": "float64",
         "type": "float"
        },
        {
         "name": "71",
         "rawType": "float64",
         "type": "float"
        },
        {
         "name": "72",
         "rawType": "float64",
         "type": "float"
        },
        {
         "name": "73",
         "rawType": "float64",
         "type": "float"
        },
        {
         "name": "74",
         "rawType": "float64",
         "type": "float"
        },
        {
         "name": "75",
         "rawType": "float64",
         "type": "float"
        },
        {
         "name": "76",
         "rawType": "float64",
         "type": "float"
        },
        {
         "name": "77",
         "rawType": "float64",
         "type": "float"
        },
        {
         "name": "78",
         "rawType": "float64",
         "type": "float"
        },
        {
         "name": "79",
         "rawType": "float64",
         "type": "float"
        },
        {
         "name": "80",
         "rawType": "float64",
         "type": "float"
        },
        {
         "name": "81",
         "rawType": "float64",
         "type": "float"
        },
        {
         "name": "82",
         "rawType": "float64",
         "type": "float"
        },
        {
         "name": "83",
         "rawType": "float64",
         "type": "float"
        },
        {
         "name": "84",
         "rawType": "float64",
         "type": "float"
        },
        {
         "name": "85",
         "rawType": "float64",
         "type": "float"
        },
        {
         "name": "86",
         "rawType": "float64",
         "type": "float"
        },
        {
         "name": "87",
         "rawType": "float64",
         "type": "float"
        },
        {
         "name": "88",
         "rawType": "float64",
         "type": "float"
        },
        {
         "name": "89",
         "rawType": "float64",
         "type": "float"
        },
        {
         "name": "90",
         "rawType": "float64",
         "type": "float"
        },
        {
         "name": "91",
         "rawType": "float64",
         "type": "float"
        },
        {
         "name": "92",
         "rawType": "float64",
         "type": "float"
        },
        {
         "name": "93",
         "rawType": "float64",
         "type": "float"
        },
        {
         "name": "94",
         "rawType": "float64",
         "type": "float"
        },
        {
         "name": "95",
         "rawType": "float64",
         "type": "float"
        },
        {
         "name": "96",
         "rawType": "float64",
         "type": "float"
        },
        {
         "name": "97",
         "rawType": "float64",
         "type": "float"
        },
        {
         "name": "98",
         "rawType": "float64",
         "type": "float"
        },
        {
         "name": "99",
         "rawType": "float64",
         "type": "float"
        },
        {
         "name": "100",
         "rawType": "float64",
         "type": "float"
        },
        {
         "name": "101",
         "rawType": "float64",
         "type": "float"
        },
        {
         "name": "102",
         "rawType": "float64",
         "type": "float"
        },
        {
         "name": "103",
         "rawType": "float64",
         "type": "float"
        },
        {
         "name": "104",
         "rawType": "float64",
         "type": "float"
        },
        {
         "name": "105",
         "rawType": "float64",
         "type": "float"
        },
        {
         "name": "106",
         "rawType": "float64",
         "type": "float"
        },
        {
         "name": "107",
         "rawType": "float64",
         "type": "float"
        },
        {
         "name": "108",
         "rawType": "float64",
         "type": "float"
        },
        {
         "name": "109",
         "rawType": "float64",
         "type": "float"
        },
        {
         "name": "110",
         "rawType": "float64",
         "type": "float"
        },
        {
         "name": "111",
         "rawType": "float64",
         "type": "float"
        },
        {
         "name": "112",
         "rawType": "float64",
         "type": "float"
        },
        {
         "name": "113",
         "rawType": "float64",
         "type": "float"
        },
        {
         "name": "114",
         "rawType": "float64",
         "type": "float"
        },
        {
         "name": "115",
         "rawType": "float64",
         "type": "float"
        },
        {
         "name": "116",
         "rawType": "float64",
         "type": "float"
        },
        {
         "name": "117",
         "rawType": "float64",
         "type": "float"
        },
        {
         "name": "118",
         "rawType": "float64",
         "type": "float"
        },
        {
         "name": "119",
         "rawType": "float64",
         "type": "float"
        },
        {
         "name": "120",
         "rawType": "float64",
         "type": "float"
        },
        {
         "name": "121",
         "rawType": "float64",
         "type": "float"
        },
        {
         "name": "122",
         "rawType": "float64",
         "type": "float"
        },
        {
         "name": "123",
         "rawType": "float64",
         "type": "float"
        },
        {
         "name": "124",
         "rawType": "float64",
         "type": "float"
        },
        {
         "name": "125",
         "rawType": "float64",
         "type": "float"
        },
        {
         "name": "126",
         "rawType": "float64",
         "type": "float"
        },
        {
         "name": "127",
         "rawType": "float64",
         "type": "float"
        },
        {
         "name": "128",
         "rawType": "float64",
         "type": "float"
        },
        {
         "name": "129",
         "rawType": "float64",
         "type": "float"
        },
        {
         "name": "130",
         "rawType": "float64",
         "type": "float"
        },
        {
         "name": "131",
         "rawType": "float64",
         "type": "float"
        },
        {
         "name": "132",
         "rawType": "float64",
         "type": "float"
        },
        {
         "name": "133",
         "rawType": "float64",
         "type": "float"
        },
        {
         "name": "134",
         "rawType": "float64",
         "type": "float"
        },
        {
         "name": "135",
         "rawType": "float64",
         "type": "float"
        },
        {
         "name": "136",
         "rawType": "float64",
         "type": "float"
        },
        {
         "name": "137",
         "rawType": "float64",
         "type": "float"
        },
        {
         "name": "138",
         "rawType": "float64",
         "type": "float"
        },
        {
         "name": "139",
         "rawType": "float64",
         "type": "float"
        },
        {
         "name": "140",
         "rawType": "float64",
         "type": "float"
        },
        {
         "name": "141",
         "rawType": "float64",
         "type": "float"
        },
        {
         "name": "142",
         "rawType": "float64",
         "type": "float"
        },
        {
         "name": "143",
         "rawType": "float64",
         "type": "float"
        },
        {
         "name": "144",
         "rawType": "float64",
         "type": "float"
        },
        {
         "name": "145",
         "rawType": "float64",
         "type": "float"
        },
        {
         "name": "146",
         "rawType": "float64",
         "type": "float"
        },
        {
         "name": "147",
         "rawType": "float64",
         "type": "float"
        },
        {
         "name": "148",
         "rawType": "float64",
         "type": "float"
        },
        {
         "name": "149",
         "rawType": "float64",
         "type": "float"
        },
        {
         "name": "150",
         "rawType": "float64",
         "type": "float"
        },
        {
         "name": "151",
         "rawType": "float64",
         "type": "float"
        },
        {
         "name": "152",
         "rawType": "float64",
         "type": "float"
        },
        {
         "name": "153",
         "rawType": "float64",
         "type": "float"
        },
        {
         "name": "154",
         "rawType": "float64",
         "type": "float"
        },
        {
         "name": "155",
         "rawType": "float64",
         "type": "float"
        },
        {
         "name": "156",
         "rawType": "float64",
         "type": "float"
        },
        {
         "name": "157",
         "rawType": "float64",
         "type": "float"
        },
        {
         "name": "158",
         "rawType": "float64",
         "type": "float"
        },
        {
         "name": "159",
         "rawType": "float64",
         "type": "float"
        },
        {
         "name": "160",
         "rawType": "float64",
         "type": "float"
        },
        {
         "name": "161",
         "rawType": "float64",
         "type": "float"
        },
        {
         "name": "162",
         "rawType": "float64",
         "type": "float"
        },
        {
         "name": "163",
         "rawType": "float64",
         "type": "float"
        },
        {
         "name": "164",
         "rawType": "float64",
         "type": "float"
        },
        {
         "name": "165",
         "rawType": "float64",
         "type": "float"
        },
        {
         "name": "166",
         "rawType": "float64",
         "type": "float"
        },
        {
         "name": "167",
         "rawType": "float64",
         "type": "float"
        },
        {
         "name": "168",
         "rawType": "float64",
         "type": "float"
        },
        {
         "name": "169",
         "rawType": "float64",
         "type": "float"
        },
        {
         "name": "170",
         "rawType": "float64",
         "type": "float"
        },
        {
         "name": "171",
         "rawType": "float64",
         "type": "float"
        },
        {
         "name": "172",
         "rawType": "float64",
         "type": "float"
        },
        {
         "name": "173",
         "rawType": "float64",
         "type": "float"
        },
        {
         "name": "174",
         "rawType": "float64",
         "type": "float"
        },
        {
         "name": "175",
         "rawType": "float64",
         "type": "float"
        },
        {
         "name": "176",
         "rawType": "float64",
         "type": "float"
        },
        {
         "name": "177",
         "rawType": "float64",
         "type": "float"
        },
        {
         "name": "178",
         "rawType": "float64",
         "type": "float"
        },
        {
         "name": "179",
         "rawType": "float64",
         "type": "float"
        },
        {
         "name": "180",
         "rawType": "float64",
         "type": "float"
        },
        {
         "name": "181",
         "rawType": "float64",
         "type": "float"
        },
        {
         "name": "182",
         "rawType": "float64",
         "type": "float"
        },
        {
         "name": "183",
         "rawType": "float64",
         "type": "float"
        },
        {
         "name": "184",
         "rawType": "float64",
         "type": "float"
        },
        {
         "name": "185",
         "rawType": "float64",
         "type": "float"
        },
        {
         "name": "186",
         "rawType": "float64",
         "type": "float"
        },
        {
         "name": "187",
         "rawType": "float64",
         "type": "float"
        },
        {
         "name": "188",
         "rawType": "float64",
         "type": "float"
        },
        {
         "name": "189",
         "rawType": "float64",
         "type": "float"
        },
        {
         "name": "190",
         "rawType": "float64",
         "type": "float"
        },
        {
         "name": "191",
         "rawType": "float64",
         "type": "float"
        },
        {
         "name": "192",
         "rawType": "float64",
         "type": "float"
        },
        {
         "name": "193",
         "rawType": "float64",
         "type": "float"
        },
        {
         "name": "194",
         "rawType": "float64",
         "type": "float"
        },
        {
         "name": "195",
         "rawType": "float64",
         "type": "float"
        },
        {
         "name": "196",
         "rawType": "float64",
         "type": "float"
        },
        {
         "name": "197",
         "rawType": "float64",
         "type": "float"
        },
        {
         "name": "198",
         "rawType": "float64",
         "type": "float"
        },
        {
         "name": "199",
         "rawType": "float64",
         "type": "float"
        },
        {
         "name": "200",
         "rawType": "float64",
         "type": "float"
        },
        {
         "name": "201",
         "rawType": "float64",
         "type": "float"
        },
        {
         "name": "202",
         "rawType": "float64",
         "type": "float"
        },
        {
         "name": "203",
         "rawType": "float64",
         "type": "float"
        },
        {
         "name": "204",
         "rawType": "float64",
         "type": "float"
        },
        {
         "name": "205",
         "rawType": "float64",
         "type": "float"
        },
        {
         "name": "206",
         "rawType": "float64",
         "type": "float"
        },
        {
         "name": "207",
         "rawType": "float64",
         "type": "float"
        },
        {
         "name": "208",
         "rawType": "float64",
         "type": "float"
        },
        {
         "name": "209",
         "rawType": "float64",
         "type": "float"
        },
        {
         "name": "210",
         "rawType": "float64",
         "type": "float"
        },
        {
         "name": "211",
         "rawType": "float64",
         "type": "float"
        },
        {
         "name": "212",
         "rawType": "float64",
         "type": "float"
        },
        {
         "name": "213",
         "rawType": "float64",
         "type": "float"
        },
        {
         "name": "214",
         "rawType": "float64",
         "type": "float"
        },
        {
         "name": "215",
         "rawType": "float64",
         "type": "float"
        },
        {
         "name": "216",
         "rawType": "float64",
         "type": "float"
        },
        {
         "name": "217",
         "rawType": "float64",
         "type": "float"
        },
        {
         "name": "218",
         "rawType": "float64",
         "type": "float"
        },
        {
         "name": "219",
         "rawType": "float64",
         "type": "float"
        },
        {
         "name": "220",
         "rawType": "float64",
         "type": "float"
        },
        {
         "name": "221",
         "rawType": "float64",
         "type": "float"
        },
        {
         "name": "222",
         "rawType": "float64",
         "type": "float"
        },
        {
         "name": "223",
         "rawType": "float64",
         "type": "float"
        },
        {
         "name": "224",
         "rawType": "float64",
         "type": "float"
        },
        {
         "name": "225",
         "rawType": "float64",
         "type": "float"
        },
        {
         "name": "226",
         "rawType": "float64",
         "type": "float"
        },
        {
         "name": "227",
         "rawType": "float64",
         "type": "float"
        },
        {
         "name": "228",
         "rawType": "float64",
         "type": "float"
        },
        {
         "name": "229",
         "rawType": "float64",
         "type": "float"
        },
        {
         "name": "230",
         "rawType": "float64",
         "type": "float"
        },
        {
         "name": "231",
         "rawType": "float64",
         "type": "float"
        },
        {
         "name": "232",
         "rawType": "float64",
         "type": "float"
        },
        {
         "name": "233",
         "rawType": "float64",
         "type": "float"
        },
        {
         "name": "234",
         "rawType": "float64",
         "type": "float"
        },
        {
         "name": "235",
         "rawType": "float64",
         "type": "float"
        },
        {
         "name": "236",
         "rawType": "float64",
         "type": "float"
        },
        {
         "name": "237",
         "rawType": "float64",
         "type": "float"
        },
        {
         "name": "238",
         "rawType": "float64",
         "type": "float"
        },
        {
         "name": "239",
         "rawType": "float64",
         "type": "float"
        },
        {
         "name": "240",
         "rawType": "float64",
         "type": "float"
        },
        {
         "name": "241",
         "rawType": "float64",
         "type": "float"
        },
        {
         "name": "242",
         "rawType": "float64",
         "type": "float"
        },
        {
         "name": "243",
         "rawType": "float64",
         "type": "float"
        },
        {
         "name": "244",
         "rawType": "float64",
         "type": "float"
        },
        {
         "name": "245",
         "rawType": "float64",
         "type": "float"
        },
        {
         "name": "246",
         "rawType": "float64",
         "type": "float"
        },
        {
         "name": "247",
         "rawType": "float64",
         "type": "float"
        },
        {
         "name": "248",
         "rawType": "float64",
         "type": "float"
        },
        {
         "name": "249",
         "rawType": "float64",
         "type": "float"
        },
        {
         "name": "250",
         "rawType": "float64",
         "type": "float"
        },
        {
         "name": "251",
         "rawType": "float64",
         "type": "float"
        },
        {
         "name": "252",
         "rawType": "float64",
         "type": "float"
        },
        {
         "name": "253",
         "rawType": "float64",
         "type": "float"
        },
        {
         "name": "254",
         "rawType": "float64",
         "type": "float"
        },
        {
         "name": "255",
         "rawType": "float64",
         "type": "float"
        },
        {
         "name": "256",
         "rawType": "float64",
         "type": "float"
        },
        {
         "name": "257",
         "rawType": "float64",
         "type": "float"
        },
        {
         "name": "258",
         "rawType": "float64",
         "type": "float"
        },
        {
         "name": "259",
         "rawType": "float64",
         "type": "float"
        },
        {
         "name": "260",
         "rawType": "float64",
         "type": "float"
        },
        {
         "name": "261",
         "rawType": "float64",
         "type": "float"
        },
        {
         "name": "262",
         "rawType": "float64",
         "type": "float"
        },
        {
         "name": "263",
         "rawType": "float64",
         "type": "float"
        },
        {
         "name": "264",
         "rawType": "float64",
         "type": "float"
        },
        {
         "name": "265",
         "rawType": "float64",
         "type": "float"
        },
        {
         "name": "266",
         "rawType": "float64",
         "type": "float"
        },
        {
         "name": "267",
         "rawType": "float64",
         "type": "float"
        },
        {
         "name": "268",
         "rawType": "float64",
         "type": "float"
        },
        {
         "name": "269",
         "rawType": "float64",
         "type": "float"
        },
        {
         "name": "270",
         "rawType": "float64",
         "type": "float"
        },
        {
         "name": "271",
         "rawType": "float64",
         "type": "float"
        },
        {
         "name": "272",
         "rawType": "float64",
         "type": "float"
        },
        {
         "name": "273",
         "rawType": "float64",
         "type": "float"
        },
        {
         "name": "274",
         "rawType": "float64",
         "type": "float"
        },
        {
         "name": "275",
         "rawType": "float64",
         "type": "float"
        },
        {
         "name": "276",
         "rawType": "float64",
         "type": "float"
        },
        {
         "name": "277",
         "rawType": "float64",
         "type": "float"
        },
        {
         "name": "278",
         "rawType": "float64",
         "type": "float"
        },
        {
         "name": "279",
         "rawType": "float64",
         "type": "float"
        },
        {
         "name": "280",
         "rawType": "float64",
         "type": "float"
        },
        {
         "name": "281",
         "rawType": "float64",
         "type": "float"
        },
        {
         "name": "282",
         "rawType": "float64",
         "type": "float"
        },
        {
         "name": "283",
         "rawType": "float64",
         "type": "float"
        },
        {
         "name": "284",
         "rawType": "float64",
         "type": "float"
        },
        {
         "name": "285",
         "rawType": "float64",
         "type": "float"
        },
        {
         "name": "286",
         "rawType": "float64",
         "type": "float"
        },
        {
         "name": "287",
         "rawType": "float64",
         "type": "float"
        }
       ],
       "ref": "f08f885e-c9fe-4e7d-83f4-5b8c3ec930c1",
       "rows": [
        [
         "0",
         "39.0",
         "18.0",
         "26.0",
         "52.0",
         "52.0",
         "74.0",
         "68.0",
         "109.0",
         "91.0",
         "121.0",
         "96.0",
         "122.0",
         "100.0",
         "96.0",
         "104.0",
         "101.0",
         "110.0",
         "97.0",
         "109.0",
         "85.0",
         "87.0",
         "75.0",
         "85.0",
         "96.0",
         "73.0",
         "96.0",
         "113.0",
         "88.0",
         "75.0",
         "93.0",
         "72.0",
         "64.0",
         "69.0",
         "70.0",
         "72.0",
         "56.0",
         "69.0",
         "80.0",
         "71.0",
         "70.0",
         "65.0",
         "66.0",
         "53.0",
         "51.0",
         "45.0",
         "53.0",
         "50.0",
         "39.0",
         "54.0",
         "38.0",
         "40.0",
         "34.0",
         "39.0",
         "48.0",
         "47.0",
         "37.0",
         "36.0",
         "30.0",
         "36.0",
         "51.0",
         "47.0",
         "25.0",
         "41.0",
         "38.0",
         "46.0",
         "36.0",
         "37.0",
         "43.0",
         "42.0",
         "37.0",
         "35.0",
         "26.0",
         "27.0",
         "41.0",
         "30.0",
         "53.0",
         "42.0",
         "40.0",
         "32.0",
         "46.0",
         "43.0",
         "37.0",
         "31.0",
         "26.0",
         "29.0",
         "31.0",
         "37.0",
         "35.0",
         "29.0",
         "29.0",
         "30.0",
         "29.0",
         "38.0",
         "26.0",
         "35.0",
         "22.0",
         "23.0",
         "27.0",
         "27.0",
         "40.0",
         "28.0",
         "28.0",
         "32.0",
         "34.0",
         "27.0",
         "17.0",
         "24.0",
         "35.0",
         "34.0",
         "32.0",
         "28.0",
         "40.0",
         "35.0",
         "31.0",
         "37.0",
         "37.0",
         "41.0",
         "48.0",
         "34.0",
         "47.0",
         "38.0",
         "54.0",
         "40.0",
         "57.0",
         "44.0",
         "50.0",
         "66.0",
         "53.0",
         "60.0",
         "62.0",
         "49.0",
         "65.0",
         "66.0",
         "75.0",
         "96.0",
         "79.0",
         "92.0",
         "76.0",
         "100.0",
         "95.0",
         "91.0",
         "103.0",
         "88.0",
         "104.0",
         "99.0",
         "110.0",
         "121.0",
         "127.0",
         "112.0",
         "126.0",
         "144.0",
         "124.0",
         "123.0",
         "131.0",
         "77.0",
         "116.0",
         "136.0",
         "168.0",
         "146.0",
         "144.0",
         "157.0",
         "158.0",
         "173.0",
         "168.0",
         "167.0",
         "182.0",
         "169.0",
         "164.0",
         "167.0",
         "183.0",
         "200.0",
         "176.0",
         "174.0",
         "207.0",
         "183.0",
         "177.0",
         "214.0",
         "181.0",
         "195.0",
         "175.0",
         "162.0",
         "166.0",
         "175.0",
         "212.0",
         "202.0",
         "186.0",
         "171.0",
         "188.0",
         "179.0",
         "167.0",
         "209.0",
         "169.0",
         "162.0",
         "174.0",
         "165.0",
         "180.0",
         "158.0",
         "189.0",
         "186.0",
         "129.0",
         "150.0",
         "146.0",
         "183.0",
         "171.0",
         "162.0",
         "154.0",
         "155.0",
         "132.0",
         "166.0",
         "151.0",
         "155.0",
         "155.0",
         "125.0",
         "109.0",
         "111.0",
         "98.0",
         "128.0",
         "118.0",
         "160.0",
         "131.0",
         "137.0",
         "147.0",
         "119.0",
         "111.0",
         "131.0",
         "128.0",
         "131.0",
         "96.0",
         "111.0",
         "89.0",
         "104.0",
         "118.0",
         "131.0",
         "70.0",
         "93.0",
         "139.0",
         "96.0",
         "103.0",
         "104.0",
         "80.0",
         "104.0",
         "72.0",
         "101.0",
         "98.0",
         "77.0",
         "101.0",
         "100.0",
         "110.0",
         "82.0",
         "104.0",
         "102.0",
         "91.0",
         "85.0",
         "74.0",
         "103.0",
         "122.0",
         "84.0",
         "85.0",
         "96.0",
         "82.0",
         "76.0",
         "91.0",
         "82.0",
         "51.0",
         "75.0",
         "77.0",
         "64.0",
         "83.0",
         "70.0",
         "66.0",
         "48.0",
         "61.0",
         "41.0",
         "44.0",
         "44.0",
         "56.0",
         "49.0",
         "41.0",
         "52.0",
         "67.0",
         "57.0",
         "40.0",
         "43.0",
         "42.0",
         "43.0",
         "32.0",
         "39.0",
         "34.0"
        ],
        [
         "1",
         "30.0",
         "32.0",
         "27.0",
         "37.0",
         "37.0",
         "23.0",
         "39.0",
         "32.0",
         "23.0",
         "30.0",
         "24.0",
         "27.0",
         "20.0",
         "26.0",
         "22.0",
         "17.0",
         "16.0",
         "13.0",
         "31.0",
         "15.0",
         "18.0",
         "12.0",
         "14.0",
         "20.0",
         "12.0",
         "9.0",
         "17.0",
         "17.0",
         "20.0",
         "18.0",
         "13.0",
         "11.0",
         "13.0",
         "13.0",
         "11.0",
         "11.0",
         "8.0",
         "13.0",
         "15.0",
         "8.0",
         "11.0",
         "10.0",
         "5.0",
         "8.0",
         "4.0",
         "18.0",
         "11.0",
         "11.0",
         "15.0",
         "16.0",
         "13.0",
         "9.0",
         "9.0",
         "17.0",
         "17.0",
         "15.0",
         "23.0",
         "19.0",
         "13.0",
         "15.0",
         "14.0",
         "15.0",
         "19.0",
         "24.0",
         "18.0",
         "19.0",
         "19.0",
         "22.0",
         "27.0",
         "25.0",
         "27.0",
         "28.0",
         "30.0",
         "34.0",
         "38.0",
         "42.0",
         "34.0",
         "32.0",
         "40.0",
         "43.0",
         "44.0",
         "37.0",
         "33.0",
         "35.0",
         "35.0",
         "56.0",
         "41.0",
         "50.0",
         "53.0",
         "64.0",
         "37.0",
         "58.0",
         "55.0",
         "43.0",
         "51.0",
         "47.0",
         "43.0",
         "34.0",
         "48.0",
         "45.0",
         "66.0",
         "57.0",
         "79.0",
         "66.0",
         "69.0",
         "67.0",
         "54.0",
         "65.0",
         "76.0",
         "59.0",
         "74.0",
         "103.0",
         "77.0",
         "94.0",
         "84.0",
         "99.0",
         "129.0",
         "123.0",
         "119.0",
         "95.0",
         "119.0",
         "118.0",
         "101.0",
         "134.0",
         "138.0",
         "131.0",
         "149.0",
         "138.0",
         "162.0",
         "164.0",
         "189.0",
         "150.0",
         "159.0",
         "161.0",
         "167.0",
         "161.0",
         "193.0",
         "199.0",
         "224.0",
         "201.0",
         "213.0",
         "208.0",
         "226.0",
         "208.0",
         "236.0",
         "208.0",
         "226.0",
         "222.0",
         "212.0",
         "262.0",
         "237.0",
         "222.0",
         "225.0",
         "249.0",
         "211.0",
         "293.0",
         "273.0",
         "257.0",
         "244.0",
         "268.0",
         "275.0",
         "258.0",
         "213.0",
         "280.0",
         "273.0",
         "271.0",
         "274.0",
         "255.0",
         "262.0",
         "270.0",
         "286.0",
         "275.0",
         "276.0",
         "296.0",
         "260.0",
         "295.0",
         "293.0",
         "292.0",
         "285.0",
         "275.0",
         "312.0",
         "272.0",
         "272.0",
         "306.0",
         "284.0",
         "294.0",
         "304.0",
         "313.0",
         "245.0",
         "306.0",
         "283.0",
         "255.0",
         "295.0",
         "276.0",
         "304.0",
         "315.0",
         "300.0",
         "283.0",
         "263.0",
         "293.0",
         "258.0",
         "267.0",
         "271.0",
         "239.0",
         "284.0",
         "253.0",
         "262.0",
         "201.0",
         "242.0",
         "225.0",
         "208.0",
         "232.0",
         "221.0",
         "232.0",
         "191.0",
         "192.0",
         "199.0",
         "174.0",
         "203.0",
         "202.0",
         "196.0",
         "232.0",
         "157.0",
         "207.0",
         "183.0",
         "141.0",
         "186.0",
         "142.0",
         "181.0",
         "165.0",
         "180.0",
         "176.0",
         "161.0",
         "171.0",
         "140.0",
         "161.0",
         "138.0",
         "172.0",
         "149.0",
         "155.0",
         "130.0",
         "162.0",
         "165.0",
         "165.0",
         "130.0",
         "139.0",
         "135.0",
         "150.0",
         "129.0",
         "169.0",
         "133.0",
         "134.0",
         "125.0",
         "121.0",
         "127.0",
         "132.0",
         "136.0",
         "119.0",
         "86.0",
         "111.0",
         "92.0",
         "99.0",
         "98.0",
         "94.0",
         "101.0",
         "78.0",
         "81.0",
         "86.0",
         "82.0",
         "82.0",
         "76.0",
         "82.0",
         "69.0",
         "74.0",
         "84.0",
         "74.0",
         "69.0",
         "62.0",
         "58.0",
         "71.0",
         "49.0",
         "59.0",
         "68.0",
         "63.0",
         "55.0",
         "44.0",
         "41.0",
         "39.0"
        ],
        [
         "2",
         "36.0",
         "44.0",
         "52.0",
         "61.0",
         "55.0",
         "57.0",
         "55.0",
         "44.0",
         "38.0",
         "39.0",
         "30.0",
         "36.0",
         "34.0",
         "30.0",
         "36.0",
         "34.0",
         "30.0",
         "32.0",
         "29.0",
         "20.0",
         "23.0",
         "15.0",
         "26.0",
         "25.0",
         "15.0",
         "27.0",
         "18.0",
         "22.0",
         "18.0",
         "21.0",
         "14.0",
         "14.0",
         "31.0",
         "24.0",
         "22.0",
         "13.0",
         "19.0",
         "12.0",
         "11.0",
         "18.0",
         "17.0",
         "12.0",
         "20.0",
         "12.0",
         "18.0",
         "9.0",
         "22.0",
         "7.0",
         "16.0",
         "8.0",
         "11.0",
         "10.0",
         "15.0",
         "13.0",
         "18.0",
         "11.0",
         "11.0",
         "11.0",
         "16.0",
         "18.0",
         "20.0",
         "15.0",
         "18.0",
         "19.0",
         "24.0",
         "34.0",
         "25.0",
         "25.0",
         "23.0",
         "26.0",
         "28.0",
         "26.0",
         "17.0",
         "15.0",
         "29.0",
         "19.0",
         "56.0",
         "60.0",
         "39.0",
         "48.0",
         "42.0",
         "35.0",
         "26.0",
         "36.0",
         "34.0",
         "36.0",
         "54.0",
         "52.0",
         "38.0",
         "53.0",
         "55.0",
         "54.0",
         "55.0",
         "30.0",
         "43.0",
         "52.0",
         "45.0",
         "39.0",
         "30.0",
         "50.0",
         "55.0",
         "63.0",
         "62.0",
         "64.0",
         "57.0",
         "63.0",
         "67.0",
         "63.0",
         "65.0",
         "74.0",
         "54.0",
         "77.0",
         "79.0",
         "94.0",
         "86.0",
         "108.0",
         "102.0",
         "102.0",
         "93.0",
         "114.0",
         "113.0",
         "120.0",
         "92.0",
         "113.0",
         "141.0",
         "140.0",
         "160.0",
         "148.0",
         "154.0",
         "165.0",
         "174.0",
         "175.0",
         "156.0",
         "158.0",
         "167.0",
         "171.0",
         "186.0",
         "187.0",
         "187.0",
         "188.0",
         "216.0",
         "209.0",
         "196.0",
         "205.0",
         "193.0",
         "173.0",
         "169.0",
         "211.0",
         "184.0",
         "159.0",
         "236.0",
         "207.0",
         "259.0",
         "256.0",
         "225.0",
         "273.0",
         "235.0",
         "232.0",
         "237.0",
         "247.0",
         "272.0",
         "225.0",
         "223.0",
         "267.0",
         "252.0",
         "266.0",
         "274.0",
         "309.0",
         "279.0",
         "238.0",
         "307.0",
         "300.0",
         "277.0",
         "295.0",
         "265.0",
         "255.0",
         "250.0",
         "249.0",
         "265.0",
         "290.0",
         "280.0",
         "277.0",
         "276.0",
         "303.0",
         "278.0",
         "299.0",
         "291.0",
         "267.0",
         "257.0",
         "281.0",
         "282.0",
         "252.0",
         "263.0",
         "240.0",
         "257.0",
         "249.0",
         "279.0",
         "257.0",
         "275.0",
         "283.0",
         "284.0",
         "274.0",
         "296.0",
         "259.0",
         "268.0",
         "254.0",
         "243.0",
         "288.0",
         "246.0",
         "246.0",
         "231.0",
         "215.0",
         "235.0",
         "212.0",
         "212.0",
         "209.0",
         "196.0",
         "203.0",
         "182.0",
         "177.0",
         "207.0",
         "214.0",
         "200.0",
         "185.0",
         "218.0",
         "195.0",
         "180.0",
         "175.0",
         "169.0",
         "184.0",
         "155.0",
         "187.0",
         "164.0",
         "182.0",
         "136.0",
         "157.0",
         "163.0",
         "147.0",
         "156.0",
         "154.0",
         "148.0",
         "139.0",
         "147.0",
         "146.0",
         "138.0",
         "144.0",
         "132.0",
         "150.0",
         "115.0",
         "137.0",
         "143.0",
         "140.0",
         "132.0",
         "144.0",
         "109.0",
         "140.0",
         "150.0",
         "125.0",
         "112.0",
         "94.0",
         "126.0",
         "81.0",
         "67.0",
         "73.0",
         "71.0",
         "87.0",
         "61.0",
         "61.0",
         "73.0",
         "63.0",
         "81.0",
         "54.0",
         "50.0",
         "45.0",
         "53.0",
         "50.0",
         "54.0",
         "54.0",
         "47.0",
         "51.0",
         "43.0",
         "28.0",
         "57.0",
         "43.0",
         "33.0",
         "50.0",
         "45.0",
         "23.0"
        ],
        [
         "3",
         "41.0",
         "36.0",
         "37.0",
         "31.0",
         "37.0",
         "33.0",
         "31.0",
         "32.0",
         "28.0",
         "23.0",
         "23.0",
         "21.0",
         "13.0",
         "21.0",
         "24.0",
         "15.0",
         "15.0",
         "22.0",
         "26.0",
         "15.0",
         "18.0",
         "13.0",
         "19.0",
         "8.0",
         "13.0",
         "16.0",
         "10.0",
         "12.0",
         "9.0",
         "7.0",
         "13.0",
         "7.0",
         "12.0",
         "9.0",
         "11.0",
         "12.0",
         "7.0",
         "11.0",
         "14.0",
         "15.0",
         "10.0",
         "18.0",
         "13.0",
         "7.0",
         "17.0",
         "15.0",
         "9.0",
         "19.0",
         "14.0",
         "16.0",
         "22.0",
         "14.0",
         "15.0",
         "15.0",
         "29.0",
         "26.0",
         "30.0",
         "23.0",
         "30.0",
         "41.0",
         "29.0",
         "33.0",
         "35.0",
         "60.0",
         "51.0",
         "58.0",
         "72.0",
         "122.0",
         "114.0",
         "128.0",
         "178.0",
         "154.0",
         "88.0",
         "122.0",
         "129.0",
         "176.0",
         "204.0",
         "266.0",
         "228.0",
         "226.0",
         "222.0",
         "211.0",
         "226.0",
         "193.0",
         "190.0",
         "180.0",
         "180.0",
         "183.0",
         "243.0",
         "202.0",
         "227.0",
         "264.0",
         "245.0",
         "242.0",
         "215.0",
         "201.0",
         "226.0",
         "203.0",
         "209.0",
         "214.0",
         "215.0",
         "212.0",
         "215.0",
         "260.0",
         "229.0",
         "187.0",
         "202.0",
         "214.0",
         "184.0",
         "206.0",
         "163.0",
         "244.0",
         "230.0",
         "227.0",
         "251.0",
         "239.0",
         "251.0",
         "233.0",
         "239.0",
         "196.0",
         "238.0",
         "226.0",
         "253.0",
         "267.0",
         "253.0",
         "225.0",
         "243.0",
         "284.0",
         "252.0",
         "265.0",
         "268.0",
         "296.0",
         "234.0",
         "250.0",
         "235.0",
         "269.0",
         "237.0",
         "266.0",
         "226.0",
         "272.0",
         "266.0",
         "251.0",
         "239.0",
         "261.0",
         "259.0",
         "274.0",
         "257.0",
         "215.0",
         "219.0",
         "214.0",
         "234.0",
         "228.0",
         "233.0",
         "248.0",
         "254.0",
         "190.0",
         "236.0",
         "210.0",
         "232.0",
         "214.0",
         "245.0",
         "273.0",
         "259.0",
         "249.0",
         "250.0",
         "249.0",
         "244.0",
         "245.0",
         "210.0",
         "185.0",
         "231.0",
         "203.0",
         "262.0",
         "194.0",
         "199.0",
         "236.0",
         "138.0",
         "205.0",
         "174.0",
         "109.0",
         "196.0",
         "133.0",
         "223.0",
         "400.0",
         "412.0",
         "403.0",
         "382.0",
         "398.0",
         "404.0",
         "365.0",
         "366.0",
         "386.0",
         "341.0",
         "292.0",
         "336.0",
         "328.0",
         "343.0",
         "360.0",
         "317.0",
         "293.0",
         "294.0",
         "285.0",
         "265.0",
         "246.0",
         "294.0",
         "232.0",
         "258.0",
         "263.0",
         "252.0",
         "262.0",
         "268.0",
         "254.0",
         "255.0",
         "226.0",
         "224.0",
         "209.0",
         "229.0",
         "214.0",
         "232.0",
         "213.0",
         "217.0",
         "200.0",
         "271.0",
         "204.0",
         "217.0",
         "236.0",
         "188.0",
         "203.0",
         "149.0",
         "180.0",
         "179.0",
         "183.0",
         "218.0",
         "187.0",
         "169.0",
         "157.0",
         "158.0",
         "133.0",
         "139.0",
         "146.0",
         "135.0",
         "135.0",
         "146.0",
         "129.0",
         "152.0",
         "143.0",
         "138.0",
         "134.0",
         "105.0",
         "121.0",
         "121.0",
         "104.0",
         "112.0",
         "112.0",
         "119.0",
         "121.0",
         "120.0",
         "116.0",
         "110.0",
         "91.0",
         "95.0",
         "88.0",
         "101.0",
         "84.0",
         "71.0",
         "76.0",
         "62.0",
         "86.0",
         "71.0",
         "81.0",
         "52.0",
         "74.0",
         "49.0",
         "71.0",
         "58.0",
         "62.0",
         "53.0",
         "47.0",
         "54.0",
         "44.0",
         "52.0",
         "27.0",
         "54.0",
         "31.0",
         "35.0",
         "28.0",
         "43.0",
         "18.0"
        ],
        [
         "4",
         "41.0",
         "32.0",
         "40.0",
         "32.0",
         "33.0",
         "46.0",
         "28.0",
         "24.0",
         "26.0",
         "23.0",
         "28.0",
         "30.0",
         "21.0",
         "26.0",
         "18.0",
         "19.0",
         "18.0",
         "25.0",
         "10.0",
         "21.0",
         "22.0",
         "30.0",
         "17.0",
         "15.0",
         "6.0",
         "17.0",
         "9.0",
         "19.0",
         "11.0",
         "12.0",
         "14.0",
         "21.0",
         "10.0",
         "16.0",
         "15.0",
         "11.0",
         "8.0",
         "16.0",
         "12.0",
         "19.0",
         "15.0",
         "9.0",
         "18.0",
         "21.0",
         "30.0",
         "20.0",
         "20.0",
         "16.0",
         "17.0",
         "15.0",
         "15.0",
         "19.0",
         "19.0",
         "15.0",
         "20.0",
         "37.0",
         "20.0",
         "21.0",
         "24.0",
         "32.0",
         "34.0",
         "31.0",
         "31.0",
         "42.0",
         "49.0",
         "65.0",
         "75.0",
         "98.0",
         "115.0",
         "124.0",
         "163.0",
         "118.0",
         "97.0",
         "127.0",
         "143.0",
         "151.0",
         "205.0",
         "211.0",
         "183.0",
         "183.0",
         "203.0",
         "243.0",
         "175.0",
         "168.0",
         "158.0",
         "178.0",
         "161.0",
         "191.0",
         "228.0",
         "220.0",
         "188.0",
         "222.0",
         "222.0",
         "185.0",
         "172.0",
         "192.0",
         "195.0",
         "200.0",
         "179.0",
         "176.0",
         "182.0",
         "198.0",
         "209.0",
         "212.0",
         "213.0",
         "207.0",
         "212.0",
         "204.0",
         "203.0",
         "214.0",
         "211.0",
         "217.0",
         "203.0",
         "215.0",
         "236.0",
         "249.0",
         "223.0",
         "273.0",
         "263.0",
         "236.0",
         "247.0",
         "251.0",
         "253.0",
         "204.0",
         "262.0",
         "244.0",
         "268.0",
         "216.0",
         "275.0",
         "262.0",
         "249.0",
         "264.0",
         "248.0",
         "253.0",
         "272.0",
         "283.0",
         "281.0",
         "250.0",
         "286.0",
         "271.0",
         "284.0",
         "261.0",
         "282.0",
         "289.0",
         "277.0",
         "289.0",
         "298.0",
         "317.0",
         "299.0",
         "292.0",
         "308.0",
         "334.0",
         "289.0",
         "272.0",
         "285.0",
         "338.0",
         "286.0",
         "330.0",
         "298.0",
         "317.0",
         "305.0",
         "318.0",
         "325.0",
         "295.0",
         "323.0",
         "318.0",
         "288.0",
         "302.0",
         "315.0",
         "295.0",
         "307.0",
         "313.0",
         "324.0",
         "301.0",
         "301.0",
         "336.0",
         "341.0",
         "333.0",
         "346.0",
         "335.0",
         "298.0",
         "350.0",
         "340.0",
         "345.0",
         "356.0",
         "307.0",
         "334.0",
         "350.0",
         "327.0",
         "376.0",
         "349.0",
         "330.0",
         "281.0",
         "344.0",
         "335.0",
         "337.0",
         "333.0",
         "309.0",
         "291.0",
         "278.0",
         "302.0",
         "297.0",
         "300.0",
         "259.0",
         "277.0",
         "277.0",
         "247.0",
         "288.0",
         "279.0",
         "268.0",
         "248.0",
         "239.0",
         "238.0",
         "234.0",
         "253.0",
         "223.0",
         "202.0",
         "199.0",
         "178.0",
         "208.0",
         "240.0",
         "195.0",
         "210.0",
         "224.0",
         "200.0",
         "197.0",
         "201.0",
         "160.0",
         "152.0",
         "172.0",
         "162.0",
         "167.0",
         "203.0",
         "154.0",
         "163.0",
         "148.0",
         "133.0",
         "150.0",
         "163.0",
         "142.0",
         "154.0",
         "143.0",
         "151.0",
         "149.0",
         "130.0",
         "131.0",
         "125.0",
         "133.0",
         "111.0",
         "136.0",
         "133.0",
         "106.0",
         "112.0",
         "116.0",
         "112.0",
         "122.0",
         "122.0",
         "88.0",
         "100.0",
         "106.0",
         "105.0",
         "94.0",
         "97.0",
         "105.0",
         "84.0",
         "83.0",
         "90.0",
         "84.0",
         "68.0",
         "78.0",
         "70.0",
         "70.0",
         "57.0",
         "78.0",
         "57.0",
         "51.0",
         "55.0",
         "69.0",
         "56.0",
         "69.0",
         "57.0",
         "46.0",
         "49.0",
         "43.0",
         "40.0",
         "56.0",
         "31.0",
         "43.0"
        ]
       ],
       "shape": {
        "columns": 288,
        "rows": 5
       }
      },
      "text/html": [
       "<div>\n",
       "<style scoped>\n",
       "    .dataframe tbody tr th:only-of-type {\n",
       "        vertical-align: middle;\n",
       "    }\n",
       "\n",
       "    .dataframe tbody tr th {\n",
       "        vertical-align: top;\n",
       "    }\n",
       "\n",
       "    .dataframe thead th {\n",
       "        text-align: right;\n",
       "    }\n",
       "</style>\n",
       "<table border=\"1\" class=\"dataframe\">\n",
       "  <thead>\n",
       "    <tr style=\"text-align: right;\">\n",
       "      <th></th>\n",
       "      <th>0</th>\n",
       "      <th>1</th>\n",
       "      <th>2</th>\n",
       "      <th>3</th>\n",
       "      <th>4</th>\n",
       "      <th>5</th>\n",
       "      <th>6</th>\n",
       "      <th>7</th>\n",
       "      <th>8</th>\n",
       "      <th>9</th>\n",
       "      <th>...</th>\n",
       "      <th>278</th>\n",
       "      <th>279</th>\n",
       "      <th>280</th>\n",
       "      <th>281</th>\n",
       "      <th>282</th>\n",
       "      <th>283</th>\n",
       "      <th>284</th>\n",
       "      <th>285</th>\n",
       "      <th>286</th>\n",
       "      <th>287</th>\n",
       "    </tr>\n",
       "  </thead>\n",
       "  <tbody>\n",
       "    <tr>\n",
       "      <th>0</th>\n",
       "      <td>39.0</td>\n",
       "      <td>18.0</td>\n",
       "      <td>26.0</td>\n",
       "      <td>52.0</td>\n",
       "      <td>52.0</td>\n",
       "      <td>74.0</td>\n",
       "      <td>68.0</td>\n",
       "      <td>109.0</td>\n",
       "      <td>91.0</td>\n",
       "      <td>121.0</td>\n",
       "      <td>...</td>\n",
       "      <td>52.0</td>\n",
       "      <td>67.0</td>\n",
       "      <td>57.0</td>\n",
       "      <td>40.0</td>\n",
       "      <td>43.0</td>\n",
       "      <td>42.0</td>\n",
       "      <td>43.0</td>\n",
       "      <td>32.0</td>\n",
       "      <td>39.0</td>\n",
       "      <td>34.0</td>\n",
       "    </tr>\n",
       "    <tr>\n",
       "      <th>1</th>\n",
       "      <td>30.0</td>\n",
       "      <td>32.0</td>\n",
       "      <td>27.0</td>\n",
       "      <td>37.0</td>\n",
       "      <td>37.0</td>\n",
       "      <td>23.0</td>\n",
       "      <td>39.0</td>\n",
       "      <td>32.0</td>\n",
       "      <td>23.0</td>\n",
       "      <td>30.0</td>\n",
       "      <td>...</td>\n",
       "      <td>58.0</td>\n",
       "      <td>71.0</td>\n",
       "      <td>49.0</td>\n",
       "      <td>59.0</td>\n",
       "      <td>68.0</td>\n",
       "      <td>63.0</td>\n",
       "      <td>55.0</td>\n",
       "      <td>44.0</td>\n",
       "      <td>41.0</td>\n",
       "      <td>39.0</td>\n",
       "    </tr>\n",
       "    <tr>\n",
       "      <th>2</th>\n",
       "      <td>36.0</td>\n",
       "      <td>44.0</td>\n",
       "      <td>52.0</td>\n",
       "      <td>61.0</td>\n",
       "      <td>55.0</td>\n",
       "      <td>57.0</td>\n",
       "      <td>55.0</td>\n",
       "      <td>44.0</td>\n",
       "      <td>38.0</td>\n",
       "      <td>39.0</td>\n",
       "      <td>...</td>\n",
       "      <td>47.0</td>\n",
       "      <td>51.0</td>\n",
       "      <td>43.0</td>\n",
       "      <td>28.0</td>\n",
       "      <td>57.0</td>\n",
       "      <td>43.0</td>\n",
       "      <td>33.0</td>\n",
       "      <td>50.0</td>\n",
       "      <td>45.0</td>\n",
       "      <td>23.0</td>\n",
       "    </tr>\n",
       "    <tr>\n",
       "      <th>3</th>\n",
       "      <td>41.0</td>\n",
       "      <td>36.0</td>\n",
       "      <td>37.0</td>\n",
       "      <td>31.0</td>\n",
       "      <td>37.0</td>\n",
       "      <td>33.0</td>\n",
       "      <td>31.0</td>\n",
       "      <td>32.0</td>\n",
       "      <td>28.0</td>\n",
       "      <td>23.0</td>\n",
       "      <td>...</td>\n",
       "      <td>54.0</td>\n",
       "      <td>44.0</td>\n",
       "      <td>52.0</td>\n",
       "      <td>27.0</td>\n",
       "      <td>54.0</td>\n",
       "      <td>31.0</td>\n",
       "      <td>35.0</td>\n",
       "      <td>28.0</td>\n",
       "      <td>43.0</td>\n",
       "      <td>18.0</td>\n",
       "    </tr>\n",
       "    <tr>\n",
       "      <th>4</th>\n",
       "      <td>41.0</td>\n",
       "      <td>32.0</td>\n",
       "      <td>40.0</td>\n",
       "      <td>32.0</td>\n",
       "      <td>33.0</td>\n",
       "      <td>46.0</td>\n",
       "      <td>28.0</td>\n",
       "      <td>24.0</td>\n",
       "      <td>26.0</td>\n",
       "      <td>23.0</td>\n",
       "      <td>...</td>\n",
       "      <td>56.0</td>\n",
       "      <td>69.0</td>\n",
       "      <td>57.0</td>\n",
       "      <td>46.0</td>\n",
       "      <td>49.0</td>\n",
       "      <td>43.0</td>\n",
       "      <td>40.0</td>\n",
       "      <td>56.0</td>\n",
       "      <td>31.0</td>\n",
       "      <td>43.0</td>\n",
       "    </tr>\n",
       "  </tbody>\n",
       "</table>\n",
       "<p>5 rows × 288 columns</p>\n",
       "</div>"
      ],
      "text/plain": [
       "    0     1     2     3     4     5     6      7     8      9    ...   278  \\\n",
       "0  39.0  18.0  26.0  52.0  52.0  74.0  68.0  109.0  91.0  121.0  ...  52.0   \n",
       "1  30.0  32.0  27.0  37.0  37.0  23.0  39.0   32.0  23.0   30.0  ...  58.0   \n",
       "2  36.0  44.0  52.0  61.0  55.0  57.0  55.0   44.0  38.0   39.0  ...  47.0   \n",
       "3  41.0  36.0  37.0  31.0  37.0  33.0  31.0   32.0  28.0   23.0  ...  54.0   \n",
       "4  41.0  32.0  40.0  32.0  33.0  46.0  28.0   24.0  26.0   23.0  ...  56.0   \n",
       "\n",
       "    279   280   281   282   283   284   285   286   287  \n",
       "0  67.0  57.0  40.0  43.0  42.0  43.0  32.0  39.0  34.0  \n",
       "1  71.0  49.0  59.0  68.0  63.0  55.0  44.0  41.0  39.0  \n",
       "2  51.0  43.0  28.0  57.0  43.0  33.0  50.0  45.0  23.0  \n",
       "3  44.0  52.0  27.0  54.0  31.0  35.0  28.0  43.0  18.0  \n",
       "4  69.0  57.0  46.0  49.0  43.0  40.0  56.0  31.0  43.0  \n",
       "\n",
       "[5 rows x 288 columns]"
      ]
     },
     "execution_count": 10,
     "metadata": {},
     "output_type": "execute_result"
    }
   ],
   "source": [
    "data = pd.DataFrame(vectorized_day_dataset_no_nans)\n",
    "data.head()  # Display the first few rows"
   ]
  },
  {
   "cell_type": "markdown",
   "id": "78cd5a64",
   "metadata": {},
   "source": [
    "Step 2: Data Preprocessing (Normalization)\n",
    "\n",
    "PCA is sensitive to the scale of the features. Our features are all traffic flow counts, so they are on the same scale, but they might have different means and variances. Normalization (scaling to zero mean and unit variance) ensures that each feature contributes equally to the analysis. Without it, features with naturally larger ranges (flow during rush hour vs. nighttime) would dominate the principal components.\n",
    "\n",
    "StandardScaler transforms the data so that each feature has a mean of 0 and a standard deviation of 1."
   ]
  },
  {
   "cell_type": "code",
   "execution_count": 11,
   "id": "1aa131fa",
   "metadata": {},
   "outputs": [
    {
     "data": {
      "text/plain": [
       "array([[ 0.35820798, -0.96258119, -0.43235105, ..., -0.23263163,\n",
       "         0.16875098,  0.01493842],\n",
       "       [-0.20883002, -0.06328257, -0.36651178, ...,  0.43695009,\n",
       "         0.27949894,  0.3182063 ],\n",
       "       [ 0.16919531,  0.70754483,  1.27946997, ...,  0.77174095,\n",
       "         0.50099486, -0.65225092],\n",
       "       ...,\n",
       "       [-0.83887223,  0.06518867, -0.1031547 , ...,  0.10215923,\n",
       "         0.33487292,  0.13624557],\n",
       "       [ 0.16919531,  0.45060236, -0.49819032, ...,  0.10215923,\n",
       "         1.11010866,  0.07559199],\n",
       "       [-0.01981735, -0.06328257,  0.09436311, ...,  5.23561911,\n",
       "         5.1524093 ,  5.0491852 ]], shape=(337, 288))"
      ]
     },
     "execution_count": 11,
     "metadata": {},
     "output_type": "execute_result"
    }
   ],
   "source": [
    "scaler = StandardScaler()\n",
    "data_normalized = scaler.fit_transform(data)\n",
    "data_normalized"
   ]
  },
  {
   "cell_type": "markdown",
   "id": "a96db59a",
   "metadata": {},
   "source": [
    "Step 3: Perform PCA for Dimensionality Reduction\n",
    "\n",
    "We will start by arbitrarily projecting our 288-dimensional data down to 6 dimensions. We will analyze the result of this choice shortly.\n",
    "\n",
    "The fit_transform method learns the transformation (finds the components that maximize variance) and then applies it to our data."
   ]
  },
  {
   "cell_type": "code",
   "execution_count": 12,
   "id": "baf8b112",
   "metadata": {},
   "outputs": [
    {
     "name": "stdout",
     "output_type": "stream",
     "text": [
      "[[-22.5990504  -32.36356427  11.4957345   11.33153389  -8.77051135\n",
      "    5.13408565]\n",
      " [-17.25353727  -6.07639879  -3.12115793  -0.57888516  -2.98641217\n",
      "   -7.64535231]\n",
      " [-18.05538293  -8.4369415   -0.50658252  -1.80844052  -5.32582008\n",
      "   -4.60511973]\n",
      " ...\n",
      " [ -3.4775234    2.45274731  -0.9951784   -2.29675373   2.60147281\n",
      "   -2.88587592]\n",
      " [ -4.41769458  -0.10587539   0.84793378   0.18284587   4.1256069\n",
      "   -1.72302698]\n",
      " [-12.82740206 -16.62396057  -5.83039331  -0.18503468   4.24054583\n",
      "   -8.75059466]]\n",
      "(337, 6)\n"
     ]
    }
   ],
   "source": [
    "pca = PCA(n_components=6)  # Adjust the number of components (dimensions) as needed\n",
    "data_pca = pca.fit_transform(data_normalized)\n",
    "print(data_pca)\n",
    "print(data_pca.shape)"
   ]
  },
  {
   "cell_type": "markdown",
   "id": "fd6fa3b8",
   "metadata": {},
   "source": [
    "Step 4: Assess Performance of PCA\n",
    "\n",
    "How good was this reduction? Did we retain most of the information? We use the explained variance ratio to answer this. This attribute tells us the percentage of the total variance in the original dataset that is captured by each principal component."
   ]
  },
  {
   "cell_type": "code",
   "execution_count": 13,
   "id": "e7584f09",
   "metadata": {},
   "outputs": [
    {
     "name": "stdout",
     "output_type": "stream",
     "text": [
      "Explained Variance Ratio: [0.31725246 0.19340224 0.08298293 0.05444537 0.04555043 0.03011985]\n",
      "Sum of the explained variance: 0.7237532789102119\n"
     ]
    }
   ],
   "source": [
    "# Investigate Explained Variance\n",
    "explained_variance = pca.explained_variance_ratio_\n",
    "print(f'Explained Variance Ratio: {explained_variance}')\n",
    "print(f\"Sum of the explained variance: {sum(explained_variance)}\")"
   ]
  },
  {
   "cell_type": "markdown",
   "id": "d9ac384b-4168-46fb-957e-9d5c320ca787",
   "metadata": {},
   "source": [
    "The first principal component explains ~31.7% of the total variance in the data. The second explains ~19.3%. Together, our first six components explain roughly 72.4% of the total variance. This means we've compressed the data into 6 dimensions while losing about 27.6% of the original information. Is this good? It depends on our goal, which we will explore next."
   ]
  },
  {
   "cell_type": "code",
   "execution_count": 14,
   "id": "fe498f7e",
   "metadata": {},
   "outputs": [
    {
     "data": {
      "text/plain": [
       "array([[-0.08188031, -0.07577688, -0.08021798, ..., -0.0518492 ,\n",
       "        -0.05286988, -0.0463367 ],\n",
       "       [-0.0058892 , -0.00745272, -0.00547462, ...,  0.03292611,\n",
       "         0.03500989,  0.03299452],\n",
       "       [ 0.06215354,  0.06490816,  0.05943999, ..., -0.02845574,\n",
       "        -0.02205239, -0.01868297],\n",
       "       [-0.00712836, -0.00658282, -0.01463211, ...,  0.13293008,\n",
       "         0.13201361,  0.1335607 ],\n",
       "       [ 0.0201371 ,  0.03367581,  0.02508291, ...,  0.08862743,\n",
       "         0.08401167,  0.10908788],\n",
       "       [ 0.04953421,  0.06209845,  0.05768884, ..., -0.05323134,\n",
       "        -0.04948517, -0.04205651]], shape=(6, 288))"
      ]
     },
     "execution_count": 14,
     "metadata": {},
     "output_type": "execute_result"
    }
   ],
   "source": [
    "pca.components_"
   ]
  },
  {
   "cell_type": "code",
   "execution_count": 15,
   "id": "bc3b4cfd",
   "metadata": {},
   "outputs": [
    {
     "data": {
      "text/plain": [
       "(6, 288)"
      ]
     },
     "execution_count": 15,
     "metadata": {},
     "output_type": "execute_result"
    }
   ],
   "source": [
    "pca.components_.shape"
   ]
  },
  {
   "cell_type": "markdown",
   "id": "df371fbd",
   "metadata": {},
   "source": [
    "### **Task 1.1.: What is a potential issue of PCA in terms of interpretability of the results?**\n",
    "\n",
    "What do these components represent? Think about the implications that might have on the machine learning task usually following after the dimensionality reduction.\n",
    "\n",
    "Answer:\n",
    "\n",
    "Each of the components is a linear combination of features in the original dataset. Therefore, it is hard to map input features with how they affect the precition model's outputs. For instance, measures such as feature importance in Tree-Based models or the use of Shapley Values in Neural Networks, will no longer provide any interpretability to the ML models."
   ]
  },
  {
   "cell_type": "markdown",
   "id": "c7f2c2b6",
   "metadata": {},
   "source": [
    "### **Task 1.2.: How many dimensions do we need to preserve at least 85% of the variance?**\n",
    "\n",
    "Our choice of n_components=6 was arbitrary. A common rule of thumb is to choose a number of components that preserves a high percentage of the variance (85% or 95%).\n",
    "\n",
    "Let's run PCA again with different amount of components"
   ]
  },
  {
   "cell_type": "code",
   "execution_count": 23,
   "id": "eb9eb48d",
   "metadata": {},
   "outputs": [
    {
     "name": "stdout",
     "output_type": "stream",
     "text": [
      "Number of components:  22\n",
      "Sum of the explained variance: 0.8525729309509742\n",
      "Explained Variance Ratio: [0.31725246 0.19340224 0.08298293 0.05444537 0.04555043 0.03011985\n",
      " 0.02071443 0.01585592 0.01430133 0.01228154 0.00899836 0.00825017\n",
      " 0.0068257  0.00620649 0.00598668 0.00505128 0.00490393 0.00445106\n",
      " 0.00406739 0.00379029 0.00366295 0.00347215]\n"
     ]
    }
   ],
   "source": [
    "variance_thresehold = 0.85\n",
    "n_components = 6\n",
    "sum_explained_variance = 0\n",
    "while sum_explained_variance < variance_thresehold:\n",
    "    n_components += 1\n",
    "    pca = PCA(n_components=n_components)  # Adjust the number of components (dimensions) as needed\n",
    "    data_pca = pca.fit_transform(data_normalized)\n",
    "    explained_variance = pca.explained_variance_ratio_\n",
    "    sum_explained_variance = sum(explained_variance)\n",
    "\n",
    "print(\"Number of components: \", n_components)\n",
    "print(f\"Sum of the explained variance: {sum_explained_variance}\")\n",
    "print(f'Explained Variance Ratio: {explained_variance}')"
   ]
  },
  {
   "cell_type": "markdown",
   "id": "abfbdca7",
   "metadata": {},
   "source": [
    "Answer:\n",
    "We can see we need at least 22 principal components to preserve at least 85% of the variance"
   ]
  },
  {
   "cell_type": "markdown",
   "id": "ba043e84",
   "metadata": {},
   "source": [
    "### Step 5: Stability Analysis for PCA\n",
    "\n",
    "Stability Analysis for PCA involves assessing the variability of principal component scores across different random splits or subsets of the data. This can be done to ensure that the identified principal components are robust and not overly influenced by specific data points."
   ]
  },
  {
   "cell_type": "code",
   "execution_count": 16,
   "id": "5afbe4b2",
   "metadata": {},
   "outputs": [
    {
     "name": "stdout",
     "output_type": "stream",
     "text": [
      "Run 1 - Explained Variance Ratio: [0.30159503 0.20775301 0.08527151 0.05466461 0.04610385 0.03062894\n",
      " 0.02123837 0.0171295  0.01422834 0.01328075], Sum: 0.791893909723056\n",
      "Run 2 - Explained Variance Ratio: [0.32543178 0.1764913  0.08114653 0.05767051 0.04857352 0.03143354\n",
      " 0.02299712 0.01472007 0.0138373  0.0116846 ], Sum: 0.7839862741794008\n",
      "Run 3 - Explained Variance Ratio: [0.30663118 0.20493863 0.0834187  0.05375823 0.04577999 0.03122493\n",
      " 0.0219693  0.01626134 0.014428   0.01384276], Sum: 0.7922530580116003\n",
      "Run 4 - Explained Variance Ratio: [0.31092462 0.20986343 0.08308039 0.05457704 0.04629203 0.03023711\n",
      " 0.02090011 0.01538141 0.01316857 0.01244899], Sum: 0.7968736734346548\n",
      "Run 5 - Explained Variance Ratio: [0.309392   0.19707614 0.08671431 0.05614242 0.0438753  0.03078848\n",
      " 0.0211144  0.01600575 0.01450405 0.01366178], Sum: 0.7892746304575887\n",
      "Run 6 - Explained Variance Ratio: [0.33592748 0.17643648 0.08191902 0.05622311 0.04306249 0.03103088\n",
      " 0.02087454 0.01391283 0.01239768 0.01151259], Sum: 0.7832971205125571\n",
      "Run 7 - Explained Variance Ratio: [0.30908821 0.20771144 0.08270875 0.05518558 0.04599398 0.02878302\n",
      " 0.02122953 0.0164684  0.01490119 0.01242098], Sum: 0.7944910925793006\n",
      "Run 8 - Explained Variance Ratio: [0.32343572 0.19569481 0.08328987 0.05526256 0.04527702 0.03093363\n",
      " 0.01953825 0.01648086 0.01485792 0.01113864], Sum: 0.7959092964612522\n",
      "Run 9 - Explained Variance Ratio: [0.31297297 0.2028794  0.08619677 0.05487248 0.04469617 0.02773277\n",
      " 0.02160124 0.01457761 0.01396761 0.01240643], Sum: 0.7919034578775257\n",
      "Run 10 - Explained Variance Ratio: [0.33258705 0.17746483 0.08224411 0.05795967 0.04418803 0.03054983\n",
      " 0.02180119 0.01487372 0.01394856 0.01038059], Sum: 0.7859975760589861\n"
     ]
    }
   ],
   "source": [
    "# Conduct Stability Analysis\n",
    "num_runs = 10  # Number of times to run PCA with different random seeds\n",
    "\n",
    "prop_data_used = 0.8 # Define the proportion of data to use in each iteration (e.g., 80%)\n",
    "\n",
    "data_normalized_df = pd.DataFrame(data_normalized)\n",
    "\n",
    "for i in range(num_runs):\n",
    "    # Randomly select a subset of the data\n",
    "    prop_data_used\n",
    "    subset_indices = np.random.choice(data_normalized_df.shape[0], size=int(prop_data_used * data_normalized_df.shape[0]), replace=False)\n",
    "    subset_data = data_normalized_df.loc[subset_indices]\n",
    "    # Fit PCA on the subset\n",
    "    pca = PCA(n_components=10)  # Change random_state for each run\n",
    "    X_pca = pca.fit_transform(subset_data)\n",
    "    \n",
    "    explained_variance = pca.explained_variance_ratio_\n",
    "    print(f'Run {i+1} - Explained Variance Ratio: {explained_variance}, Sum: {sum(explained_variance)}')"
   ]
  },
  {
   "cell_type": "markdown",
   "id": "480cdad3",
   "metadata": {},
   "source": [
    "### **Task 1.3.: Interprete the stability analysis of the PCA**\n",
    "\n",
    "What does the result tell us?\n",
    "\n",
    "Answer:\n",
    "There are no significant fluctuations on how PCA performs depending on the random splits. We can see minimum explained variance is 78.4% while the maximum is 79.6%, so the interval is quite narrow."
   ]
  },
  {
   "cell_type": "markdown",
   "id": "dc6b82d4",
   "metadata": {},
   "source": [
    "### Task 2: Perform PCA in dataset 1 for outlier detection\n",
    "\n",
    "PCA finds the directions of maximum variance in the data. The first few principal components are designed to capture these dominant, common patterns (the daily rhythm of traffic). The remaining components often capture much less variance, which can include noise, subtle patterns, or, importantly, anomalies.\n",
    "\n",
    "Here is the process:\n",
    "\n",
    "1. We will use PCA to project our high-dimensional data onto a lower-dimensional subspace defined by the first few principal components (we'll start with 2).\n",
    "2. We will then reverse the process, transforming this reduced data back into the original 288-dimensional space. This is called reconstruction.\n",
    "3. For each data point (each day), we will calculate the reconstruction error—the difference between the original data point and its reconstructed version.\n",
    "4. Days that are \"typical\" and follow the common patterns captured by the first 2 PCs will reconstruct well, resulting in a small error. Days that are unusual outliers (a day with a bizarre traffic pattern due to an accident, a holiday, or a sensor error) will not be well-described by the main patterns. Therefore, their reconstruction error will be very high.\n",
    "\n",
    "By setting a threshold on this error, we can automatically flag potential outliers for further investigation"
   ]
  },
  {
   "cell_type": "code",
   "execution_count": 24,
   "id": "2f8f3287",
   "metadata": {},
   "outputs": [
    {
     "data": {
      "image/png": "[encoded data removed]",
      "text/plain": [
       "<Figure size 800x600 with 1 Axes>"
      ]
     },
     "metadata": {},
     "output_type": "display_data"
    },
    {
     "name": "stdout",
     "output_type": "stream",
     "text": [
      "Number of detected outliers: 19\n",
      "Detected outliers: [  0  40 113 175 176 202 213 218 230 231 248 253 258 279 280 288 299 315\n",
      " 329]\n"
     ]
    }
   ],
   "source": [
    "import numpy as np\n",
    "import pandas as pd\n",
    "from sklearn.decomposition import PCA\n",
    "from sklearn.preprocessing import StandardScaler\n",
    "import matplotlib.pyplot as plt\n",
    "\n",
    "# Load and preprocess the data\n",
    "data = pd.DataFrame(vectorized_day_dataset_no_nans)\n",
    "scaler = StandardScaler()\n",
    "X_normalized = scaler.fit_transform(data)\n",
    "\n",
    "# Apply PCA for reconstruction\n",
    "pca = PCA(n_components=2)\n",
    "X_dimensionality_reduced = pca.fit_transform(X_normalized)\n",
    "X_reconstructed = pca.inverse_transform(X_dimensionality_reduced)\n",
    "\n",
    "# Calculate reconstruction errors\n",
    "reconstruction_error = np.mean(np.square(X_normalized - X_reconstructed), axis=1)\n",
    "\n",
    "# Set a threshold for the reconstruction error\n",
    "threshold = 1  # Adjust as needed\n",
    "\n",
    "# Identify outliers\n",
    "outliers = np.where(reconstruction_error > threshold)[0]\n",
    "\n",
    "# Visual Inspection of PCA Score Plots\n",
    "pca_scores = pca.fit_transform(X_normalized)\n",
    "\n",
    "plt.figure(figsize=(8, 6))\n",
    "plt.scatter(pca_scores[:, 0], pca_scores[:, 1], c='b', alpha=0.5, label='Normal')\n",
    "plt.scatter(pca_scores[outliers, 0], pca_scores[outliers, 1], c='r', label='Outliers')\n",
    "plt.xlabel('Principal Component 1')\n",
    "plt.ylabel('Principal Component 2')\n",
    "plt.legend()\n",
    "plt.title('PCA Score Plot')\n",
    "plt.show()\n",
    "\n",
    "# Print the indices of detected outliers\n",
    "print(f'Number of detected outliers: {outliers.shape[0]}')\n",
    "print(f'Detected outliers: {outliers}')\n"
   ]
  },
  {
   "cell_type": "markdown",
   "id": "e1e76e0c",
   "metadata": {},
   "source": [
    "### Using kernel PCA\n",
    "\n",
    "Linear PCA can only find flat planes/hyperplanes of maximum variance. Kernel PCA can find curved surfaces.\n",
    "\n",
    "We will now apply Kernel PCA with an RBF (Radial Basis Function) kernel to see if it can capture the structure of our data differently. The gamma parameter defines how far the influence of a single training example reaches (a key hyperparameter for RBF). Notice that there exist many other functions such as 'linear', 'poly', 'sigmoid'."
   ]
  },
  {
   "cell_type": "code",
   "execution_count": 25,
   "id": "2ee7a3c0",
   "metadata": {},
   "outputs": [
    {
     "data": {
      "image/png": "[encoded data removed]",
      "text/plain": [
       "<Figure size 800x600 with 1 Axes>"
      ]
     },
     "metadata": {},
     "output_type": "display_data"
    },
    {
     "name": "stdout",
     "output_type": "stream",
     "text": [
      "Number of detected outliers: 19\n",
      "Detected outliers: [  0  40 113 175 176 202 213 218 230 231 248 253 258 279 280 288 299 315\n",
      " 329]\n"
     ]
    }
   ],
   "source": [
    "from sklearn.decomposition import KernelPCA\n",
    "\n",
    "# Load and preprocess the data\n",
    "data = pd.DataFrame(vectorized_day_dataset_no_nans)\n",
    "scaler = StandardScaler()\n",
    "X_normalized = scaler.fit_transform(data)\n",
    "\n",
    "# Step 1: Perform Kernel PCA\n",
    "# Kernel functions : 'linear', 'rbf', 'poly', 'sigmoid'.\n",
    "kpca = KernelPCA(kernel='linear', n_components=2, fit_inverse_transform=True)\n",
    "X_kpca = kpca.fit_transform(X_normalized)\n",
    "\n",
    "# Step 2: Detecting Outliers through Computing Reconstruction Errors\n",
    "# Reconstruct the data from the reduced kernel PCA space\n",
    "X_reconstructed = kpca.inverse_transform(X_kpca)\n",
    "\n",
    "# Calculate the reconstruction error\n",
    "reconstruction_error = np.mean(np.square(X_normalized - X_reconstructed), axis=1)\n",
    "\n",
    "# Define a threshold for outliers\n",
    "threshold = 1  # Adjust as needed\n",
    "kpca_scores = kpca.fit_transform(X_normalized)\n",
    "# Identify outliers\n",
    "outliers = np.where(reconstruction_error > threshold)[0]\n",
    "\n",
    "plt.figure(figsize=(8, 6))\n",
    "plt.scatter(kpca_scores[:, 0], kpca_scores[:, 1], c='b', alpha=0.5, label='Normal')\n",
    "plt.scatter(kpca_scores[outliers, 0], kpca_scores[outliers, 1], c='r', label='Outliers')\n",
    "plt.xlabel('Principal Component 1')\n",
    "plt.ylabel('Principal Component 2')\n",
    "plt.legend()\n",
    "plt.title('KPCA Score Plot')\n",
    "plt.show()\n",
    "# Print the number of detected outliers\n",
    "print(f'Number of detected outliers: {outliers.shape[0]}')\n",
    "print(f'Detected outliers: {outliers}')"
   ]
  },
  {
   "cell_type": "markdown",
   "id": "c897961d",
   "metadata": {},
   "source": [
    "### **Task 2.1.: Why does the Kernel PCA detects the same outliers as the standard PCA when using a linear kernel?**\n",
    "\n",
    "Answer: Because the kernel PCA with a linear kernel is equivalent to standard PCA, therefore what is consdered an outlier in the feature space does not change."
   ]
  },
  {
   "cell_type": "markdown",
   "id": "6bdb138b",
   "metadata": {},
   "source": [
    "### **Task 2.2.: Do you have an idea how we could decide if we should use PCA, kernel PCA and what kernel of kernel PCA?**\n",
    "\n",
    "Answer: One would have to check whether the structure of the data is linear or not, and what sort of structure it might have. This can be checked also running PCA and kernel PCA with different kernel types and seeing which of them seems provides lower reconstruction error."
   ]
  },
  {
   "cell_type": "markdown",
   "id": "1f4d51c7",
   "metadata": {},
   "source": [
    "### Task 3: Identify the underlying latent factors that explain the observed correlations among several variables using FA "
   ]
  },
  {
   "cell_type": "code",
   "execution_count": 28,
   "id": "c7185fa5",
   "metadata": {},
   "outputs": [
    {
     "name": "stderr",
     "output_type": "stream",
     "text": [
      "d:\\KTH\\Applied Artificial Intelligence in Transportation\\AH2179-Labs\\.venv\\Lib\\site-packages\\sklearn\\utils\\deprecation.py:132: FutureWarning: 'force_all_finite' was renamed to 'ensure_all_finite' in 1.6 and will be removed in 1.8.\n",
      "  warnings.warn(\n"
     ]
    },
    {
     "data": {
      "image/png": "[encoded data removed]",
      "text/plain": [
       "<Figure size 640x480 with 1 Axes>"
      ]
     },
     "metadata": {},
     "output_type": "display_data"
    }
   ],
   "source": [
    "import pandas as pd\n",
    "import numpy as np\n",
    "from sklearn.datasets import make_classification\n",
    "# pip install factor_analyzer\n",
    "from factor_analyzer import FactorAnalyzer\n",
    "import matplotlib.pyplot as plt\n",
    "from factor_analyzer.factor_analyzer import calculate_bartlett_sphericity, calculate_kmo\n",
    "\n",
    "# Step 1: Data Preprocessing\n",
    "# Load and preprocess the data\n",
    "data = pd.read_csv('data/Dataset 2.csv')\n",
    "\n",
    "# Step 2: Exploratory Factor Analysis\n",
    "# Initialize FactorAnalyzer object\n",
    "fa = FactorAnalyzer()\n",
    "\n",
    "# # Experiment with different rotation methods (e.g., Varimax, Promax, and Oblimin)\n",
    "# # Varimax Rotation\n",
    "# fa.set_params(rotation='varimax')\n",
    "# fa.fit(data)\n",
    "\n",
    "# # Promax Rotation\n",
    "# fa.set_params(rotation='promax')\n",
    "# fa.fit(data)\n",
    "\n",
    "# # Oblimin Rotation\n",
    "fa.set_params(rotation='oblimin')\n",
    "fa.fit(data)\n",
    "\n",
    "# Step 3: Determine the Number of Factors\n",
    "# Kaiser's Criterion\n",
    "eigenvalues, _ = fa.get_eigenvalues()\n",
    "num_factors_kaiser = sum(eigenvalues > 1)  # Select factors with eigenvalues > 1\n",
    "\n",
    "# Scree Plot Examination\n",
    "plt.scatter(range(1, data.shape[1]+1), eigenvalues)\n",
    "plt.plot(range(1, data.shape[1]+1), eigenvalues)\n",
    "plt.title('Scree Plot')\n",
    "plt.xlabel('Factor Number')\n",
    "plt.ylabel('Eigenvalue')\n",
    "plt.show()"
   ]
  },
  {
   "cell_type": "markdown",
   "id": "0eae4e50",
   "metadata": {},
   "source": [
    "### **Task 3.1.: Identify how many factors are in the dataset**"
   ]
  },
  {
   "cell_type": "code",
   "execution_count": 29,
   "id": "4f09985c",
   "metadata": {},
   "outputs": [
    {
     "name": "stdout",
     "output_type": "stream",
     "text": [
      "Factor Loadings:                      Factor 1  Factor 2  Factor 3  Factor 4  Factor 5\n",
      "Price                0.578931  0.234152 -0.108803 -0.005588 -0.069328\n",
      "Safety              -0.306536  0.229736  0.167865  0.065558 -0.243916\n",
      "Exterior_Looks       0.090185  0.050722  0.026241 -0.542464  0.312042\n",
      "Space_comfort       -0.022750  0.881709  0.041921 -0.055038  0.034016\n",
      "Technology           0.000961  0.278548  0.140475  0.061123  0.005776\n",
      "After_Sales_Service -0.012211  0.040035  0.946527 -0.005035 -0.009768\n",
      "Resale_Value         0.725386 -0.204593  0.081064 -0.052370 -0.102032\n",
      "Fuel_Type            0.025645  0.517666  0.107412  0.017839 -0.134947\n",
      "Fuel_Efficiency      0.381540  0.007924  0.329103  0.226688  0.216041\n",
      "Color                0.033070 -0.052346  0.016076  0.783525  0.090678\n",
      "Maintenance          0.552883  0.114794 -0.007430  0.263017  0.006468\n",
      "Test_drive           0.059225 -0.017722  0.234800 -0.063657  0.438696\n",
      "Product_reviews      0.331873  0.245901 -0.077326  0.123717  0.351592\n",
      "Testimonials        -0.233455  0.039087 -0.035677  0.078491  0.627388\n",
      "\n",
      "Bartlett's Test Statistic: 247.7095010748493\n",
      "P-value: 1.9300708881452006e-16\n",
      "KMO Score: (array([0.71918544, 0.47109863, 0.54865312, 0.60631158, 0.64631715,\n",
      "       0.62337744, 0.63413337, 0.6756825 , 0.62321522, 0.55717728,\n",
      "       0.6119685 , 0.63974079, 0.6915475 , 0.50455623]), np.float64(0.6144509968564967))\n"
     ]
    },
    {
     "name": "stderr",
     "output_type": "stream",
     "text": [
      "d:\\KTH\\Applied Artificial Intelligence in Transportation\\AH2179-Labs\\.venv\\Lib\\site-packages\\sklearn\\utils\\deprecation.py:132: FutureWarning: 'force_all_finite' was renamed to 'ensure_all_finite' in 1.6 and will be removed in 1.8.\n",
      "  warnings.warn(\n"
     ]
    }
   ],
   "source": [
    "# Step 4: Compute Factor Loadings\n",
    "fa.set_params(n_factors=num_factors_kaiser)  # Use the determined number of factors\n",
    "fa.fit(data)\n",
    "factor_loadings = fa.loadings_\n",
    "\n",
    "# Step 5: Interpret the Factors\n",
    "# (Based on factor loadings and variable names)\n",
    "# Provide meaningful labels/names to the identified factors based on interpretation\n",
    "factor_names = [f\"Factor {id+1}\" for id in range(0,num_factors_kaiser)]  # Adapt as needed\n",
    "\n",
    "# Print factor loadings\n",
    "factor_loadings = pd.DataFrame(factor_loadings, index=data.columns, columns=factor_names)\n",
    "print(\"Factor Loadings:\", factor_loadings)\n",
    "# print(pd.DataFrame(factor_loadings, index=data.columns, columns=factor_names))\n",
    "\n",
    "# You can further interpret and label the factors based on the loadings and variable names.\n",
    "\n",
    "# Additional: Assessing Factorability\n",
    "bartlett_test_statistic, p_value = calculate_bartlett_sphericity(data)\n",
    "kmo_score = calculate_kmo(data)\n",
    "\n",
    "print(f\"\\nBartlett's Test Statistic: {bartlett_test_statistic}\")\n",
    "print(f\"P-value: {p_value}\")\n",
    "print(f\"KMO Score: {kmo_score}\")"
   ]
  },
  {
   "cell_type": "markdown",
   "id": "cea27c83",
   "metadata": {},
   "source": [
    "### **Task 3.2. By analysing the factor loadings, specify for each factor what variables it influences**\n",
    "\n",
    "E.g.,: Factor 1: Var 1, Var 2, ...\n",
    "\n",
    "Answer: Using 0.4 as a thresehold for factor loading:\n",
    "\n",
    "- Factor 1: Price, Resale_Value, Maintenance\n",
    "- Factor 2: Space_comfort\n",
    "- Factor 3: After_Sales_Service\n",
    "- Factor 4: Color\n",
    "- Factor 5: Testimonials"
   ]
  },
  {
   "cell_type": "markdown",
   "id": "988bea92",
   "metadata": {},
   "source": [
    "### **Task 3.3: Compare the performance of PCA and kernel PCA for dimensionality reduction in dataset 1**\n",
    "\n",
    "**Your task is to do the following:**\n",
    "\n",
    "- Experiment with different kernel functions (e.g., Gaussian, polynomial, etc.) and assess their performance for dimensionality reduction.\n",
    "- Pick the most suitable kernel function to perform kernel PCA for dimensionality reduction of dataset 1.\n",
    "- Compare the performance of kernel PCA with PCA (baseline from practice task 1) for dimensionality reduction in dataset 1 and propose a suitable method to perform dimensionality reduction in dataset 1.\n",
    "- Provide a reflection on the dimensionality reduction results obtained using PCA and kernel PCA. Was PCA sufficient to capture the data’s structure? Which one would you choose to perform your dimensionality reduction task and why?"
   ]
  },
  {
   "cell_type": "code",
   "execution_count": 47,
   "id": "2dd6a0c6",
   "metadata": {},
   "outputs": [
    {
     "name": "stdout",
     "output_type": "stream",
     "text": [
      "Reconstruction Error PCA: 0.6995322000414781\n",
      "Reconstruction Error kernel PCA Gaussian: 1.0058106557486144\n",
      "Reconstruction Error kernel PCA Polynomial: 1.0200947321148601\n",
      "Reconstruction Error kernel PCA Sigmoid: 1.010221963654401\n"
     ]
    }
   ],
   "source": [
    "from sklearn.decomposition import PCA, KernelPCA\n",
    "import matplotlib.pyplot as plt\n",
    "\n",
    "input_df = pd.DataFrame(vectorized_day_dataset_no_nans)\n",
    "scaler = StandardScaler()\n",
    "data_scaled = scaler.fit_transform(input_df)\n",
    "\n",
    "\n",
    "num_components = 2 ## Set same number of components\n",
    "\n",
    "# Step 1: Perform PCA for dimensionality reduction\n",
    "pca = PCA(n_components=num_components)  # Set the desired number of components\n",
    "pca_result = pca.fit_transform(data_scaled)\n",
    "\n",
    "# Step 2: Perform Kernel PCA with different kernel functions\n",
    "# kernel functions : 'linear', 'rbf', 'poly', 'sigmoid'\n",
    "\n",
    "kernel_pca_gaussian = KernelPCA(kernel='rbf', gamma= 1/1000,n_components=num_components)  # Gaussian kernel\n",
    "kernel_pca_polynomial = KernelPCA(kernel='poly', degree=3, coef0=0.5, n_components=num_components)  # Polynomial kernel\n",
    "kernel_pca_sigmoid = KernelPCA(kernel='sigmoid', gamma=1/1000, n_components=num_components)  # Polynomial kernel\n",
    "\n",
    "kpca_gaussian_result = kernel_pca_gaussian.fit_transform(data_scaled)\n",
    "kpca_polynomial_result = kernel_pca_polynomial.fit_transform(data_scaled)\n",
    "kpca_sigmoid_result = kernel_pca_sigmoid.fit_transform(data_scaled)\n",
    "\n",
    "pca_reconstructed = pca.inverse_transform(pca_result)\n",
    "kpca_gaussian_reconstructed = pca.inverse_transform(kpca_gaussian_result)\n",
    "kpca_polynomial_reconstructed = pca.inverse_transform(kpca_polynomial_result)\n",
    "kpca_sigmoid_reconstructed = pca.inverse_transform(kpca_sigmoid_result)\n",
    "\n",
    "reconstruction_error_pca = np.sqrt(np.mean(np.mean(np.square(data_scaled - pca_reconstructed), axis=1)))\n",
    "reconstruction_error_kpca_gaussian = np.sqrt(np.mean(np.mean(np.square(data_scaled - kpca_gaussian_reconstructed), axis=1)))\n",
    "reconstruction_error_kpca_polynomial= np.sqrt(np.mean(np.mean(np.square(data_scaled - kpca_polynomial_reconstructed), axis=1)))\n",
    "reconstruction_error_kpca_sigmoid = np.sqrt(np.mean(np.mean(np.square(data_scaled - kpca_sigmoid_reconstructed), axis=1)))\n",
    "\n",
    "\n",
    "\n",
    "print(f\"Reconstruction Error PCA: {(reconstruction_error_pca)}\")\n",
    "print(f\"Reconstruction Error kernel PCA Gaussian: {(reconstruction_error_kpca_gaussian)}\")\n",
    "print(f\"Reconstruction Error kernel PCA Polynomial: {(reconstruction_error_kpca_polynomial)}\")\n",
    "print(f\"Reconstruction Error kernel PCA Sigmoid: {(reconstruction_error_kpca_sigmoid)}\")"
   ]
  },
  {
   "cell_type": "code",
   "execution_count": 49,
   "id": "ff5c94b7",
   "metadata": {},
   "outputs": [
    {
     "data": {
      "text/plain": [
       "Text(0.5, 1.0, 'Kernel PCA (Sigmoid)')"
      ]
     },
     "execution_count": 49,
     "metadata": {},
     "output_type": "execute_result"
    },
    {
     "data": {
      "image/png": "[encoded data removed]",
      "text/plain": [
       "<Figure size 2000x800 with 4 Axes>"
      ]
     },
     "metadata": {},
     "output_type": "display_data"
    }
   ],
   "source": [
    "# Plot the different PCA functions\n",
    "plt.figure(figsize=(20, 8))\n",
    "plt.subplot(2, 2, 1)\n",
    "plt.scatter(pca_result[:, 0], pca_result[:, 1], c='b', marker='o', alpha=0.7)\n",
    "plt.title('PCA')\n",
    "\n",
    "plt.subplot(2, 2, 2)\n",
    "plt.scatter(kpca_gaussian_result[:, 0], kpca_gaussian_result[:, 1], c='r', marker='o', alpha=0.7)\n",
    "plt.title('Kernel PCA (Gaussian)')\n",
    "\n",
    "plt.subplot(2, 2, 3)\n",
    "plt.scatter(kpca_polynomial_result[:, 0], kpca_polynomial_result[:, 1], c='b', marker='o', alpha=0.7)\n",
    "plt.title('Kernel PCA (Polynomial)')\n",
    "\n",
    "plt.subplot(2, 2, 4)\n",
    "plt.scatter(kpca_polynomial_result[:, 0], kpca_polynomial_result[:, 1], c='b', marker='o', alpha=0.7)\n",
    "plt.title('Kernel PCA (Sigmoid)')\n",
    "\n",
    "\n"
   ]
  },
  {
   "cell_type": "code",
   "execution_count": null,
   "id": "c893422a",
   "metadata": {},
   "outputs": [],
   "source": []
  }
 ],
 "metadata": {
  "kernelspec": {
   "display_name": ".venv",
   "language": "python",
   "name": "python3"
  },
  "language_info": {
   "codemirror_mode": {
    "name": "ipython",
    "version": 3
   },
   "file_extension": ".py",
   "mimetype": "text/x-python",
   "name": "python",
   "nbconvert_exporter": "python",
   "pygments_lexer": "ipython3",
   "version": "3.13.7"
  }
 },
 "nbformat": 4,
 "nbformat_minor": 5
}
