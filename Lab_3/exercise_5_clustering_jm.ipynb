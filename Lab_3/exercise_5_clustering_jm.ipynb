{
 "cells": [
  {
   "cell_type": "markdown",
   "metadata": {
    "id": "RAlPf9WW9D9O"
   },
   "source": [
    "# Revealing representative \"typical\" day-types using traffic data observation and clustering"
   ]
  },
  {
   "cell_type": "markdown",
   "metadata": {},
   "source": [
    "Clustering is a way of letting the data tell us its own story. Instead of assuming traffic always follows the same daily rhythm, we will use clustering to discover “typical day-types”: weekdays, weekends, holidays, incidents, straight from sensor observations. By the end of this exercise, you will learn how to prepare temporal data for clustering, explore it and reflect on what the patterns might mean for managing roads in practice.\n",
    "\n",
    "Objective: find, evaluate and choose a clustering of daily time-series (day-profiles), and show how that clustering helps a simple prediction task.\n",
    "\n",
    "what this notebook does:\n",
    "\n",
    "Data loading & Exploratory Data Analysis (visualize raw day profiles).\n",
    "Preprocessing\n",
    "Baseline experiments (k-means), time-series alternatives (k-Shape or DTW), and at least one density/soft model (GMM/DBSCAN).\n",
    "Internal evaluation (silhouette, Calinski-Harabasz, Davies-Bouldin) + stability checks.\n",
    "Time-aware external evaluation using the centroid-based historical-mean predictor (RMSE, MAPE).\n",
    "Interpretation: centroids, representative days and weekday distribution\n",
    "Glossary\n",
    "day-profile / day-matrix: one row = one day; columns = 5-minute buckets.\n",
    "centroid historical-mean predictor: for each cluster, predict a day by using the cluster centroid (or average of historical days assigned to that cluster)."
   ]
  },
  {
   "cell_type": "markdown",
   "metadata": {
    "id": "1IWUHGQ-quPi"
   },
   "source": [
    "## Data preparation"
   ]
  },
  {
   "cell_type": "code",
   "execution_count": 1,
   "metadata": {
    "colab": {
     "base_uri": "https://localhost:8080/",
     "height": 424
    },
    "executionInfo": {
     "elapsed": 1045,
     "status": "ok",
     "timestamp": 1694444740949,
     "user": {
      "displayName": "Matej Cebecauer",
      "userId": "09411166241023626672"
     },
     "user_tz": -120
    },
    "id": "YIbPBmGqxh00",
    "outputId": "dd765547-f78e-4c52-fe87-62756f392b1a"
   },
   "outputs": [
    {
     "data": {
      "application/vnd.microsoft.datawrangler.viewer.v0+json": {
       "columns": [
        {
         "name": "index",
         "rawType": "int64",
         "type": "integer"
        },
        {
         "name": "PORTAL",
         "rawType": "object",
         "type": "string"
        },
        {
         "name": "Date",
         "rawType": "int64",
         "type": "integer"
        },
        {
         "name": "time_from",
         "rawType": "object",
         "type": "string"
        },
        {
         "name": "time_to",
         "rawType": "object",
         "type": "string"
        },
        {
         "name": "Interval_5",
         "rawType": "int64",
         "type": "integer"
        },
        {
         "name": "SPEED_MS_AVG",
         "rawType": "float64",
         "type": "float"
        },
        {
         "name": "flow",
         "rawType": "int64",
         "type": "integer"
        }
       ],
       "ref": "dbfa6e41-bdf8-499f-9987-2d03da53cc2a",
       "rows": [
        [
         "0",
         "E4S 56,780",
         "20210101",
         "00:00:00",
         "00:05:00",
         "0",
         "18.56",
         "39"
        ],
        [
         "1",
         "E4S 56,780",
         "20210101",
         "00:05:00",
         "00:10:00",
         "1",
         "20.39",
         "18"
        ],
        [
         "2",
         "E4S 56,780",
         "20210101",
         "00:10:00",
         "00:15:00",
         "2",
         "19.27",
         "26"
        ],
        [
         "3",
         "E4S 56,780",
         "20210101",
         "00:15:00",
         "00:20:00",
         "3",
         "19.52",
         "52"
        ],
        [
         "4",
         "E4S 56,780",
         "20210101",
         "00:20:00",
         "00:25:00",
         "4",
         "20.52",
         "52"
        ],
        [
         "5",
         "E4S 56,780",
         "20210101",
         "00:25:00",
         "00:30:00",
         "5",
         "19.49",
         "74"
        ],
        [
         "6",
         "E4S 56,780",
         "20210101",
         "00:30:00",
         "00:35:00",
         "6",
         "20.08",
         "68"
        ],
        [
         "7",
         "E4S 56,780",
         "20210101",
         "00:35:00",
         "00:40:00",
         "7",
         "20.13",
         "109"
        ],
        [
         "8",
         "E4S 56,780",
         "20210101",
         "00:40:00",
         "00:45:00",
         "8",
         "19.54",
         "91"
        ],
        [
         "9",
         "E4S 56,780",
         "20210101",
         "00:45:00",
         "00:50:00",
         "9",
         "19.47",
         "121"
        ],
        [
         "10",
         "E4S 56,780",
         "20210101",
         "00:50:00",
         "00:55:00",
         "10",
         "20.0",
         "96"
        ],
        [
         "11",
         "E4S 56,780",
         "20210101",
         "00:55:00",
         "01:00:00",
         "11",
         "21.08",
         "122"
        ],
        [
         "12",
         "E4S 56,780",
         "20210101",
         "01:00:00",
         "01:05:00",
         "12",
         "19.74",
         "100"
        ],
        [
         "13",
         "E4S 56,780",
         "20210101",
         "01:05:00",
         "01:10:00",
         "13",
         "19.18",
         "96"
        ],
        [
         "14",
         "E4S 56,780",
         "20210101",
         "01:10:00",
         "01:15:00",
         "14",
         "18.39",
         "104"
        ],
        [
         "15",
         "E4S 56,780",
         "20210101",
         "01:15:00",
         "01:20:00",
         "15",
         "19.91",
         "101"
        ],
        [
         "16",
         "E4S 56,780",
         "20210101",
         "01:20:00",
         "01:25:00",
         "16",
         "19.21",
         "110"
        ],
        [
         "17",
         "E4S 56,780",
         "20210101",
         "01:25:00",
         "01:30:00",
         "17",
         "19.87",
         "97"
        ],
        [
         "18",
         "E4S 56,780",
         "20210101",
         "01:30:00",
         "01:35:00",
         "18",
         "19.81",
         "109"
        ],
        [
         "19",
         "E4S 56,780",
         "20210101",
         "01:35:00",
         "01:40:00",
         "19",
         "19.66",
         "85"
        ],
        [
         "20",
         "E4S 56,780",
         "20210101",
         "01:40:00",
         "01:45:00",
         "20",
         "19.07",
         "87"
        ],
        [
         "21",
         "E4S 56,780",
         "20210101",
         "01:45:00",
         "01:50:00",
         "21",
         "19.03",
         "75"
        ],
        [
         "22",
         "E4S 56,780",
         "20210101",
         "01:50:00",
         "01:55:00",
         "22",
         "20.29",
         "85"
        ],
        [
         "23",
         "E4S 56,780",
         "20210101",
         "01:55:00",
         "02:00:00",
         "23",
         "20.85",
         "96"
        ],
        [
         "24",
         "E4S 56,780",
         "20210101",
         "02:00:00",
         "02:05:00",
         "24",
         "19.98",
         "73"
        ],
        [
         "25",
         "E4S 56,780",
         "20210101",
         "02:05:00",
         "02:10:00",
         "25",
         "19.69",
         "96"
        ],
        [
         "26",
         "E4S 56,780",
         "20210101",
         "02:10:00",
         "02:15:00",
         "26",
         "19.98",
         "113"
        ],
        [
         "27",
         "E4S 56,780",
         "20210101",
         "02:15:00",
         "02:20:00",
         "27",
         "20.23",
         "88"
        ],
        [
         "28",
         "E4S 56,780",
         "20210101",
         "02:20:00",
         "02:25:00",
         "28",
         "20.23",
         "75"
        ],
        [
         "29",
         "E4S 56,780",
         "20210101",
         "02:25:00",
         "02:30:00",
         "29",
         "20.57",
         "93"
        ],
        [
         "30",
         "E4S 56,780",
         "20210101",
         "02:30:00",
         "02:35:00",
         "30",
         "20.22",
         "72"
        ],
        [
         "31",
         "E4S 56,780",
         "20210101",
         "02:35:00",
         "02:40:00",
         "31",
         "19.4",
         "64"
        ],
        [
         "32",
         "E4S 56,780",
         "20210101",
         "02:40:00",
         "02:45:00",
         "32",
         "20.02",
         "69"
        ],
        [
         "33",
         "E4S 56,780",
         "20210101",
         "02:45:00",
         "02:50:00",
         "33",
         "20.35",
         "70"
        ],
        [
         "34",
         "E4S 56,780",
         "20210101",
         "02:50:00",
         "02:55:00",
         "34",
         "19.85",
         "72"
        ],
        [
         "35",
         "E4S 56,780",
         "20210101",
         "02:55:00",
         "03:00:00",
         "35",
         "20.22",
         "56"
        ],
        [
         "36",
         "E4S 56,780",
         "20210101",
         "03:00:00",
         "03:05:00",
         "36",
         "19.62",
         "69"
        ],
        [
         "37",
         "E4S 56,780",
         "20210101",
         "03:05:00",
         "03:10:00",
         "37",
         "19.71",
         "80"
        ],
        [
         "38",
         "E4S 56,780",
         "20210101",
         "03:10:00",
         "03:15:00",
         "38",
         "19.96",
         "71"
        ],
        [
         "39",
         "E4S 56,780",
         "20210101",
         "03:15:00",
         "03:20:00",
         "39",
         "19.89",
         "70"
        ],
        [
         "40",
         "E4S 56,780",
         "20210101",
         "03:20:00",
         "03:25:00",
         "40",
         "20.52",
         "65"
        ],
        [
         "41",
         "E4S 56,780",
         "20210101",
         "03:25:00",
         "03:30:00",
         "41",
         "19.89",
         "66"
        ],
        [
         "42",
         "E4S 56,780",
         "20210101",
         "03:30:00",
         "03:35:00",
         "42",
         "20.61",
         "53"
        ],
        [
         "43",
         "E4S 56,780",
         "20210101",
         "03:35:00",
         "03:40:00",
         "43",
         "19.43",
         "51"
        ],
        [
         "44",
         "E4S 56,780",
         "20210101",
         "03:40:00",
         "03:45:00",
         "44",
         "20.39",
         "45"
        ],
        [
         "45",
         "E4S 56,780",
         "20210101",
         "03:45:00",
         "03:50:00",
         "45",
         "20.93",
         "53"
        ],
        [
         "46",
         "E4S 56,780",
         "20210101",
         "03:50:00",
         "03:55:00",
         "46",
         "20.82",
         "50"
        ],
        [
         "47",
         "E4S 56,780",
         "20210101",
         "03:55:00",
         "04:00:00",
         "47",
         "20.44",
         "39"
        ],
        [
         "48",
         "E4S 56,780",
         "20210101",
         "04:00:00",
         "04:05:00",
         "48",
         "21.05",
         "54"
        ],
        [
         "49",
         "E4S 56,780",
         "20210101",
         "04:05:00",
         "04:10:00",
         "49",
         "20.2",
         "38"
        ]
       ],
       "shape": {
        "columns": 7,
        "rows": 104843
       }
      },
      "text/html": [
       "<div>\n",
       "<style scoped>\n",
       "    .dataframe tbody tr th:only-of-type {\n",
       "        vertical-align: middle;\n",
       "    }\n",
       "\n",
       "    .dataframe tbody tr th {\n",
       "        vertical-align: top;\n",
       "    }\n",
       "\n",
       "    .dataframe thead th {\n",
       "        text-align: right;\n",
       "    }\n",
       "</style>\n",
       "<table border=\"1\" class=\"dataframe\">\n",
       "  <thead>\n",
       "    <tr style=\"text-align: right;\">\n",
       "      <th></th>\n",
       "      <th>PORTAL</th>\n",
       "      <th>Date</th>\n",
       "      <th>time_from</th>\n",
       "      <th>time_to</th>\n",
       "      <th>Interval_5</th>\n",
       "      <th>SPEED_MS_AVG</th>\n",
       "      <th>flow</th>\n",
       "    </tr>\n",
       "  </thead>\n",
       "  <tbody>\n",
       "    <tr>\n",
       "      <th>0</th>\n",
       "      <td>E4S 56,780</td>\n",
       "      <td>20210101</td>\n",
       "      <td>00:00:00</td>\n",
       "      <td>00:05:00</td>\n",
       "      <td>0</td>\n",
       "      <td>18.56</td>\n",
       "      <td>39</td>\n",
       "    </tr>\n",
       "    <tr>\n",
       "      <th>1</th>\n",
       "      <td>E4S 56,780</td>\n",
       "      <td>20210101</td>\n",
       "      <td>00:05:00</td>\n",
       "      <td>00:10:00</td>\n",
       "      <td>1</td>\n",
       "      <td>20.39</td>\n",
       "      <td>18</td>\n",
       "    </tr>\n",
       "    <tr>\n",
       "      <th>2</th>\n",
       "      <td>E4S 56,780</td>\n",
       "      <td>20210101</td>\n",
       "      <td>00:10:00</td>\n",
       "      <td>00:15:00</td>\n",
       "      <td>2</td>\n",
       "      <td>19.27</td>\n",
       "      <td>26</td>\n",
       "    </tr>\n",
       "    <tr>\n",
       "      <th>3</th>\n",
       "      <td>E4S 56,780</td>\n",
       "      <td>20210101</td>\n",
       "      <td>00:15:00</td>\n",
       "      <td>00:20:00</td>\n",
       "      <td>3</td>\n",
       "      <td>19.52</td>\n",
       "      <td>52</td>\n",
       "    </tr>\n",
       "    <tr>\n",
       "      <th>4</th>\n",
       "      <td>E4S 56,780</td>\n",
       "      <td>20210101</td>\n",
       "      <td>00:20:00</td>\n",
       "      <td>00:25:00</td>\n",
       "      <td>4</td>\n",
       "      <td>20.52</td>\n",
       "      <td>52</td>\n",
       "    </tr>\n",
       "    <tr>\n",
       "      <th>...</th>\n",
       "      <td>...</td>\n",
       "      <td>...</td>\n",
       "      <td>...</td>\n",
       "      <td>...</td>\n",
       "      <td>...</td>\n",
       "      <td>...</td>\n",
       "      <td>...</td>\n",
       "    </tr>\n",
       "    <tr>\n",
       "      <th>104838</th>\n",
       "      <td>E4S 56,780</td>\n",
       "      <td>20211231</td>\n",
       "      <td>23:35:00</td>\n",
       "      <td>23:40:00</td>\n",
       "      <td>283</td>\n",
       "      <td>19.58</td>\n",
       "      <td>115</td>\n",
       "    </tr>\n",
       "    <tr>\n",
       "      <th>104839</th>\n",
       "      <td>E4S 56,780</td>\n",
       "      <td>20211231</td>\n",
       "      <td>23:40:00</td>\n",
       "      <td>23:45:00</td>\n",
       "      <td>284</td>\n",
       "      <td>19.47</td>\n",
       "      <td>87</td>\n",
       "    </tr>\n",
       "    <tr>\n",
       "      <th>104840</th>\n",
       "      <td>E4S 56,780</td>\n",
       "      <td>20211231</td>\n",
       "      <td>23:45:00</td>\n",
       "      <td>23:50:00</td>\n",
       "      <td>285</td>\n",
       "      <td>19.77</td>\n",
       "      <td>130</td>\n",
       "    </tr>\n",
       "    <tr>\n",
       "      <th>104841</th>\n",
       "      <td>E4S 56,780</td>\n",
       "      <td>20211231</td>\n",
       "      <td>23:50:00</td>\n",
       "      <td>23:55:00</td>\n",
       "      <td>286</td>\n",
       "      <td>18.79</td>\n",
       "      <td>129</td>\n",
       "    </tr>\n",
       "    <tr>\n",
       "      <th>104842</th>\n",
       "      <td>E4S 56,780</td>\n",
       "      <td>20211231</td>\n",
       "      <td>23:55:00</td>\n",
       "      <td>24:00:00</td>\n",
       "      <td>287</td>\n",
       "      <td>18.75</td>\n",
       "      <td>117</td>\n",
       "    </tr>\n",
       "  </tbody>\n",
       "</table>\n",
       "<p>104843 rows × 7 columns</p>\n",
       "</div>"
      ],
      "text/plain": [
       "            PORTAL      Date time_from   time_to  Interval_5  SPEED_MS_AVG  \\\n",
       "0       E4S 56,780  20210101  00:00:00  00:05:00           0         18.56   \n",
       "1       E4S 56,780  20210101  00:05:00  00:10:00           1         20.39   \n",
       "2       E4S 56,780  20210101  00:10:00  00:15:00           2         19.27   \n",
       "3       E4S 56,780  20210101  00:15:00  00:20:00           3         19.52   \n",
       "4       E4S 56,780  20210101  00:20:00  00:25:00           4         20.52   \n",
       "...            ...       ...       ...       ...         ...           ...   \n",
       "104838  E4S 56,780  20211231  23:35:00  23:40:00         283         19.58   \n",
       "104839  E4S 56,780  20211231  23:40:00  23:45:00         284         19.47   \n",
       "104840  E4S 56,780  20211231  23:45:00  23:50:00         285         19.77   \n",
       "104841  E4S 56,780  20211231  23:50:00  23:55:00         286         18.79   \n",
       "104842  E4S 56,780  20211231  23:55:00  24:00:00         287         18.75   \n",
       "\n",
       "        flow  \n",
       "0         39  \n",
       "1         18  \n",
       "2         26  \n",
       "3         52  \n",
       "4         52  \n",
       "...      ...  \n",
       "104838   115  \n",
       "104839    87  \n",
       "104840   130  \n",
       "104841   129  \n",
       "104842   117  \n",
       "\n",
       "[104843 rows x 7 columns]"
      ]
     },
     "execution_count": 1,
     "metadata": {},
     "output_type": "execute_result"
    }
   ],
   "source": [
    "import pandas as pd\n",
    "import numpy as np\n",
    "#upload the dataset by downloading both datasets from canvas and upload it on colab\n",
    "\n",
    "data_df = pd.read_csv(\"data/dataset_exercise_5_clustering_highway_traffic.csv\",sep=\";\")\n",
    "data_df"
   ]
  },
  {
   "cell_type": "markdown",
   "metadata": {
    "id": "CGCheycS96cI"
   },
   "source": [
    "The provided dataset contains 5-minute observations on one highway microwave sensor and needs to be in a format ready for clustering. Clustering doesn’t work on raw tables, it needs a structured representation. In this section, we will take the raw sensor data and reformat it so that each entire day becomes a single data vector. This makes it possible to compare whole days against each other.\n",
    "\n",
    "Here’s the logic: a day is 24 hours long, and with 5-minute measurements that means 288 data points. If we line these up in order, we can represent each day as a 288-dimensional vector: one row per day, one column per time slot. Later, clustering will group these day-vectors into families of “similar days.” This is \"giving every day its own fingerprint.\""
   ]
  },
  {
   "cell_type": "code",
   "execution_count": 2,
   "metadata": {
    "colab": {
     "base_uri": "https://localhost:8080/"
    },
    "executionInfo": {
     "elapsed": 50091,
     "status": "ok",
     "timestamp": 1694444794112,
     "user": {
      "displayName": "Matej Cebecauer",
      "userId": "09411166241023626672"
     },
     "user_tz": -120
    },
    "id": "2IYSKJGoy4T4",
    "outputId": "05c5880c-d125-43a9-db39-c2941f8c6541"
   },
   "outputs": [
    {
     "name": "stderr",
     "output_type": "stream",
     "text": [
      "C:\\Users\\jemaa\\AppData\\Local\\Temp\\ipykernel_3764\\2050002240.py:22: FutureWarning: When grouping with a length-1 list-like, you will need to pass a length-1 tuple to get_group in a future version of pandas. Pass `(name,)` instead of `name` to silence this warning.\n",
      "  df_t = day_subsets_df.get_group(days[i])\n",
      "C:\\Users\\jemaa\\AppData\\Local\\Temp\\ipykernel_3764\\2050002240.py:27: FutureWarning: When grouping with a length-1 list-like, you will need to pass a length-1 tuple to get_group in a future version of pandas. Pass `(name,)` instead of `name` to silence this warning.\n",
      "  df_t = day_subsets_df.get_group(days[i])\n"
     ]
    },
    {
     "name": "stdout",
     "output_type": "stream",
     "text": [
      "[[ 39.  18.  26. ...  32.  39.  34.]\n",
      " [ 30.  32.  27. ...  44.  41.  39.]\n",
      " [ 36.  44.  52. ...  50.  45.  23.]\n",
      " ...\n",
      " [ 20.  34.  31. ...  38.  42.  36.]\n",
      " [ 36.  40.  25. ...  38.  56.  35.]\n",
      " [ 33.  32.  34. ... 130. 129. 117.]]\n"
     ]
    }
   ],
   "source": [
    "# Sort the DataFrame 'data_df' by columns \"Date\" and \"Interval_5\"\n",
    "data_df.sort_values([\"Date\", \"Interval_5\"])\n",
    "\n",
    "# Extract unique dates from the sorted DataFrame\n",
    "days = np.unique(data_df[['Date']].values.ravel())\n",
    "# Calculate the total number of unique days\n",
    "ndays = len(days)\n",
    "\n",
    "# Group the DataFrame 'data_df' by the \"Date\" column\n",
    "day_subsets_df = data_df.groupby([\"Date\"])\n",
    "\n",
    "# Define the total number of 5-minute intervals in a day\n",
    "nintvals = 288\n",
    "\n",
    "# Create a matrix 'vectorized_day_dataset' filled with NaN values\n",
    "vectorized_day_dataset = np.zeros((ndays, nintvals))\n",
    "vectorized_day_dataset.fill(np.nan)\n",
    "\n",
    "# Loop through each unique day\n",
    "for i in range(0, ndays):\n",
    "    # Get the DataFrame corresponding to the current day\n",
    "    df_t = day_subsets_df.get_group(days[i])\n",
    "\n",
    "    # Loop through each row in the current day's DataFrame\n",
    "    for j in range(len(df_t)):\n",
    "        # Get the current day's DataFrame\n",
    "        df_t = day_subsets_df.get_group(days[i])\n",
    "\n",
    "        # Extract the \"Interval_5\" and \"flow\" values and populate 'vectorized_day_dataset'\n",
    "        vectorized_day_dataset[i, df_t.iloc[j][\"Interval_5\"]] = df_t.iloc[j][\"flow\"]\n",
    "\n",
    "# Print the resulting 'vectorized_day_dataset'\n",
    "print(vectorized_day_dataset)"
   ]
  },
  {
   "cell_type": "markdown",
   "metadata": {
    "id": "G6w2V4_X_Jte"
   },
   "source": [
    "Recap of the steps the code did:\n",
    "\n",
    "STEP 1:We sorted the data to guarantee chronological order.\n",
    "STEP 2:We pulled out all unique days, so we know how many daily profiles we need.\n",
    "STEP 3:We fixed the number of time slots (288) so every day has the same length.\n",
    "STEP 4:We built a big empty matrix, one row per day, one column per 5-minute slot.\n",
    "STEP 5:Finally, we filled this matrix: for each day, we inserted the flow values into the right time slots.\n",
    "The result: a clean “day × time” dataset ready for clustering. From here on, each row can be treated like a single point in a 288-dimensional space.\n",
    "\n",
    "Note that if you plan to reveal network-wide day-types (more sensors), this day vector can be ordered vector of SENSORS * TIME-INTERVALS."
   ]
  },
  {
   "cell_type": "markdown",
   "metadata": {
    "id": "M4xan1q3Ai-v"
   },
   "source": [
    "# Part 1: Data exploration"
   ]
  },
  {
   "cell_type": "markdown",
   "metadata": {},
   "source": [
    "# 1.1 : Missing values and outliers\n",
    "\n",
    "Before we trust this matrix, we need to explore it. Clustering algorithms are very sensitive to missing values and outliers: a single \"bad day\" can distort entire clusters. Let’s check for gaps and anomalies before we hand the data to the clustering algorithm."
   ]
  },
  {
   "cell_type": "code",
   "execution_count": 3,
   "metadata": {
    "colab": {
     "base_uri": "https://localhost:8080/"
    },
    "executionInfo": {
     "elapsed": 309,
     "status": "ok",
     "timestamp": 1694444810813,
     "user": {
      "displayName": "Matej Cebecauer",
      "userId": "09411166241023626672"
     },
     "user_tz": -120
    },
    "id": "KCycuUGJXajK",
    "outputId": "1ad67bf6-a2fb-452a-dfe2-1dcc4f0b08ff"
   },
   "outputs": [
    {
     "name": "stdout",
     "output_type": "stream",
     "text": [
      "number of nans 277\n",
      "rate of nans 0.0026350837138508373\n"
     ]
    }
   ],
   "source": [
    "\n",
    "print('number of nans',np.sum(np.isnan(vectorized_day_dataset)))\n",
    "print('rate of nans',np.sum(np.isnan(vectorized_day_dataset))/(ndays*nintvals))"
   ]
  },
  {
   "cell_type": "markdown",
   "metadata": {
    "id": "BiCP8S1bAyhS"
   },
   "source": [
    "The quick check shows only 277 missing entries, which is just 0.26% of the data. That is very low but missingness is rarely random. In traffic data, it could mean times when no vehicles were detected (night hours) or moments when sensors temporarily failed. Spotting where/when these gaps happen helps us decide whether to ignore them, fill them in or treat them as a signal themselves."
   ]
  },
  {
   "cell_type": "code",
   "execution_count": 4,
   "metadata": {
    "colab": {
     "base_uri": "https://localhost:8080/",
     "height": 489
    },
    "executionInfo": {
     "elapsed": 1979,
     "status": "ok",
     "timestamp": 1694444828888,
     "user": {
      "displayName": "Matej Cebecauer",
      "userId": "09411166241023626672"
     },
     "user_tz": -120
    },
    "id": "Iz1oAfKR_LM0",
    "outputId": "11e834b4-8839-40e9-876c-81cf4c2f98fe"
   },
   "outputs": [
    {
     "name": "stdout",
     "output_type": "stream",
     "text": [
      "(288,)\n"
     ]
    },
    {
     "data": {
      "image/png": "[encoded data removed]",
      "text/plain": [
       "<Figure size 640x480 with 1 Axes>"
      ]
     },
     "metadata": {},
     "output_type": "display_data"
    }
   ],
   "source": [
    "nans_per_time = np.sum(np.isnan(vectorized_day_dataset),0)\n",
    "print(nans_per_time.shape)\n",
    "\n",
    "import matplotlib.pyplot as plt\n",
    "\n",
    "fig, ax = plt.subplots()\n",
    "# Create an array 'x_axis' representing the 5-minute intervals\n",
    "x_axis = np.arange(0, nintvals, 1, dtype=int)\n",
    "# Initialize an empty list 'x_axis_hours' to store time values in hours\n",
    "x_axis_hours = []\n",
    "# Convert interval indices to hours and append them to 'x_axis_hours'\n",
    "for i in range(0, len(x_axis)):\n",
    "  x_axis_hours.append(float(x_axis[i]*5)/60)\n",
    "ax.bar(x_axis_hours,height=nans_per_time)\n",
    "\n",
    "\n",
    "ax.set_ylabel('number of missing values')\n",
    "ax.set_xlabel('5-minute intervals')\n",
    "ax.set_title('Time profile of missing values')\n",
    "\n",
    "plt.show()"
   ]
  },
  {
   "cell_type": "markdown",
   "metadata": {
    "id": "KZjUIBmjBaWt"
   },
   "source": [
    "Are these missing values associated with just a few days?"
   ]
  },
  {
   "cell_type": "code",
   "execution_count": 5,
   "metadata": {
    "colab": {
     "base_uri": "https://localhost:8080/"
    },
    "executionInfo": {
     "elapsed": 251,
     "status": "ok",
     "timestamp": 1694444843832,
     "user": {
      "displayName": "Matej Cebecauer",
      "userId": "09411166241023626672"
     },
     "user_tz": -120
    },
    "id": "TppVTgUhDvbi",
    "outputId": "1cbfc322-ff36-4b5c-c174-8b39eb151def"
   },
   "outputs": [
    {
     "name": "stdout",
     "output_type": "stream",
     "text": [
      "number of days with missing value 28\n"
     ]
    }
   ],
   "source": [
    "nans_per_day = np.sum(np.isnan(vectorized_day_dataset),1)\n",
    "print('number of days with missing value',np.size(np.where(nans_per_day > 0),1))"
   ]
  },
  {
   "cell_type": "markdown",
   "metadata": {},
   "source": [
    "# Part 1.2 : Daily profile of flow dynamic"
   ]
  },
  {
   "cell_type": "markdown",
   "metadata": {
    "id": "jByZuZZfGCqN"
   },
   "source": [
    "Visualizing traffic flow across time of day reveals the heartbeat of the system. What does the data look like? What is the traffic pattern? You should expect sharp rises around commuting hours and dips overnight. These daily profiles are important because clustering algorithms will later decide “similarity” based on the shapes of these curves. When you see peaks or irregular bumps, think about what real world behaviors they correspond to: work commute, evening leisure, freight transport.\n",
    "\n",
    "Below is the script that can help you visualize all days where overlapping transparencies highlight some patterns. The black line is the average yearly flow for a time interval."
   ]
  },
  {
   "cell_type": "code",
   "execution_count": 6,
   "metadata": {
    "colab": {
     "base_uri": "https://localhost:8080/",
     "height": 472
    },
    "executionInfo": {
     "elapsed": 1213,
     "status": "ok",
     "timestamp": 1694444898021,
     "user": {
      "displayName": "Matej Cebecauer",
      "userId": "09411166241023626672"
     },
     "user_tz": -120
    },
    "id": "d2CEwLhwGEln",
    "outputId": "22864ee8-fea6-4cc0-970d-6e21064a7e0f"
   },
   "outputs": [
    {
     "data": {
      "image/png": "[encoded data removed]",
      "text/plain": [
       "<Figure size 640x480 with 1 Axes>"
      ]
     },
     "metadata": {},
     "output_type": "display_data"
    }
   ],
   "source": [
    "# Create a new figure and axis object using subplots\n",
    "fig, ax = plt.subplots()# a convenient way to create a new figure and a set of subplots.\n",
    "ax.plot(np.array([x_axis_hours,]*ndays).transpose(),vectorized_day_dataset.transpose(),color='#444444',alpha=0.05)\n",
    "# Above line plots the dataset with specified color and transparency.\n",
    "ax.plot(x_axis_hours,np.transpose(np.nanmean(vectorized_day_dataset,0)),color='black')\n",
    "# Above line plots the average of the dataset in black color.\n",
    "\n",
    "ax.set_ylabel('Average flow')\n",
    "ax.set_xlabel('5-minute intervals')\n",
    "plt.xlim(0,24)\n",
    "ax.set_title('Daily profile of flow dynamic')\n",
    "\n",
    "plt.show()"
   ]
  },
  {
   "cell_type": "markdown",
   "metadata": {},
   "source": [
    "Boxplots compress the daily data into distributions for each 5-minute slot. They tell us not only the average but also the spread and the outliers. Below is the code to visualize these boxplots "
   ]
  },
  {
   "cell_type": "code",
   "execution_count": 7,
   "metadata": {
    "colab": {
     "base_uri": "https://localhost:8080/",
     "height": 472
    },
    "executionInfo": {
     "elapsed": 4578,
     "status": "ok",
     "timestamp": 1694444910493,
     "user": {
      "displayName": "Matej Cebecauer",
      "userId": "09411166241023626672"
     },
     "user_tz": -120
    },
    "id": "j-7BQUzQcacL",
    "outputId": "f29da1be-1fcc-46f6-9c85-a438e4f930d3"
   },
   "outputs": [
    {
     "data": {
      "image/png": "[encoded data removed]",
      "text/plain": [
       "<Figure size 640x480 with 1 Axes>"
      ]
     },
     "metadata": {},
     "output_type": "display_data"
    }
   ],
   "source": [
    "# Create a new figure and axis object using subplots\n",
    "fig, ax = plt.subplots()  # This line is a convenient way to create a new figure and a set of subplots.\n",
    "\n",
    "# Create a boxplot for the dataset\n",
    "boxplot = ax.boxplot(vectorized_day_dataset.T, patch_artist=True)\n",
    "\n",
    "# Customize the boxplot appearance\n",
    "for patch in boxplot['boxes']:\n",
    "    patch.set_facecolor('#444444')  # Set the box color to gray\n",
    "for median in boxplot['medians']:\n",
    "    median.set(color='black', linewidth=2)  # Set median line color to black\n",
    "\n",
    "# Set the y-axis label\n",
    "ax.set_ylabel('Flow')\n",
    "\n",
    "# Set the x-axis label\n",
    "ax.set_xlabel('5-minute intervals')\n",
    "\n",
    "# Set the x-axis limits to be between 0 and 24\n",
    "plt.xlim(0, 24)\n",
    "\n",
    "# Set the title of the plot\n",
    "ax.set_title('Daily Profile of Flow Dynamics (Boxplot)')\n",
    "\n",
    "# Display the plot\n",
    "plt.show()"
   ]
  },
  {
   "cell_type": "markdown",
   "metadata": {},
   "source": [
    "Notice whether morning peaks are tight (predictable) or wide (variable). Wide distributions could mean more “noise” for clustering, the algorithm will find it harder to decide what is typical for that time slot."
   ]
  },
  {
   "cell_type": "markdown",
   "metadata": {
    "id": "XECofu54LbHT"
   },
   "source": [
    "By averaging days into weekdays vs. weekends, we test a very human hypothesis: “Mondays don’t look like Sundays.” Do the curves confirm it? This step bridges human intuition (calendar categories) with machine learning exploration (clustering). Later, we’ll see whether the algorithm rediscovers these patterns or finds something subtler, like holiday effects."
   ]
  },
  {
   "cell_type": "code",
   "execution_count": 8,
   "metadata": {
    "executionInfo": {
     "elapsed": 224,
     "status": "ok",
     "timestamp": 1694444926679,
     "user": {
      "displayName": "Matej Cebecauer",
      "userId": "09411166241023626672"
     },
     "user_tz": -120
    },
    "id": "aiYId1bLLeBr"
   },
   "outputs": [],
   "source": [
    "import datetime\n",
    "\n",
    "# Create an array 'day_of_week' to store the day of the week for each unique date\n",
    "day_of_week = np.zeros((ndays))\n",
    "\n",
    "# Loop through each unique date\n",
    "for i in range(0, ndays):\n",
    "    # Parse the current date from a string to a datetime object\n",
    "    day_dt = datetime.datetime.strptime(str(days[i]), '%Y%m%d')\n",
    "\n",
    "    # Get the day of the week (1 for Monday, 2 for Tuesday, ..., 7 for Sunday)\n",
    "    day_of_week[i] = day_dt.isoweekday()"
   ]
  },
  {
   "cell_type": "code",
   "execution_count": 9,
   "metadata": {
    "colab": {
     "base_uri": "https://localhost:8080/",
     "height": 472
    },
    "executionInfo": {
     "elapsed": 927,
     "status": "ok",
     "timestamp": 1694444930744,
     "user": {
      "displayName": "Matej Cebecauer",
      "userId": "09411166241023626672"
     },
     "user_tz": -120
    },
    "id": "UedwK90ZGdZx",
    "outputId": "b4d74890-562b-48cb-bbcf-fd7d19f3ec6e"
   },
   "outputs": [
    {
     "data": {
      "image/png": "[encoded data removed]",
      "text/plain": [
       "<Figure size 640x480 with 1 Axes>"
      ]
     },
     "metadata": {},
     "output_type": "display_data"
    }
   ],
   "source": [
    "# Create a new figure and axis object using subplots\n",
    "fig, ax = plt.subplots()\n",
    "\n",
    "# Iterate through each day of the week (from 1 to 7)\n",
    "for i in range(1, 8):\n",
    "    # Find the indices of days that correspond to the current day of the week\n",
    "    day_of_week_index_t = np.where(day_of_week == i)\n",
    "\n",
    "    # Calculate the number of days that match the current day of the week\n",
    "    ndays_t = np.size(day_of_week_index_t[0])\n",
    "\n",
    "    # Plot the average flow for the current day of the week\n",
    "    ax.plot(x_axis_hours,\n",
    "            np.nanmean(vectorized_day_dataset[day_of_week_index_t[0], :].transpose(), 1),\n",
    "            label='day-of-week ' + str(i))\n",
    "    # This line plots the average flow for the current day of the week.\n",
    "    # 'np.nanmean()' calculates the mean while handling NaN values.\n",
    "\n",
    "# Set the y-axis label\n",
    "ax.set_ylabel('Average flow')\n",
    "\n",
    "# Set the x-axis label\n",
    "ax.set_xlabel('5-minute intervals')\n",
    "\n",
    "# Set the x-axis limits to be between 0 and 24\n",
    "plt.xlim(0, 24)\n",
    "\n",
    "# Set the title of the plot\n",
    "ax.set_title('Daily Profile of Flow Dynamics')\n",
    "\n",
    "# Add a legend indicating the day of the week\n",
    "ax.legend()\n",
    "\n",
    "# Display the plot\n",
    "plt.show()"
   ]
  },
  {
   "cell_type": "markdown",
   "metadata": {
    "id": "TqtvIDWYCWqq"
   },
   "source": [
    "The day's index is from 1 - 7, where 1 is Monday. To our expectations, we can see the difference between weekdays and weekends. So far, we’ve established that traffic days differ in systematic ways: weekday/weekend, time-of-day peaks, occasional anomalies. Clustering will now formalize these differences into groups. The goal is to let the algorithm discover with patterns that we might not have thought to test manually. This we explore with clustering in the next part of the exercise."
   ]
  },
  {
   "cell_type": "markdown",
   "metadata": {
    "id": "7Jaw2R9SrfkJ"
   },
   "source": [
    "# Part 2: Clustering\n",
    "\n",
    "In the previous section, we explored our data and prepared it for analysis. Now, we reach the core of our task: clustering. Our goal is to group similar days together to discover common daily traffic patterns, or \"day-types.\"\n",
    "\n",
    "We face a fundamental question in clustering: how many clusters (k) are there? There is no single \"correct\" answer; it depends on the story the data tells and our analytical goals. Once we have our clusters, we will visualize the resulting day-types (cluster centroids) and analyze their characteristics to understand what each \"typical day\" represents ( a weekday rush hour pattern, a quiet weekend pattern, incidents)"
   ]
  },
  {
   "cell_type": "markdown",
   "metadata": {
    "id": "ON7OnUwzT-ku"
   },
   "source": [
    "## Clustering"
   ]
  },
  {
   "cell_type": "markdown",
   "metadata": {
    "id": "hagyMxjjDWmQ"
   },
   "source": [
    "Using clustering methods in scikit-learn is relatively simple, as shown below. With one line of code, you can get some clusters. However, this will need some work to search for representative clusters. This is the first step to pattern exploration."
   ]
  },
  {
   "cell_type": "code",
   "execution_count": 10,
   "metadata": {
    "executionInfo": {
     "elapsed": 1289,
     "status": "ok",
     "timestamp": 1694445009625,
     "user": {
      "displayName": "Matej Cebecauer",
      "userId": "09411166241023626672"
     },
     "user_tz": -120
    },
    "id": "sV_T3yuOr0b9"
   },
   "outputs": [],
   "source": [
    "from sklearn.cluster import KMeans, AgglomerativeClustering, DBSCAN\n",
    "from sklearn.mixture import GaussianMixture\n",
    "\n",
    "#clusters = KMeans(n_clusters=10, random_state=0, n_init=\"auto\").fit(vectorized_day_dataset)\n"
   ]
  },
  {
   "cell_type": "markdown",
   "metadata": {
    "id": "zy3KGTezDxo_"
   },
   "source": [
    "As you can see k-means clustering method can not handle missing values, so you have choices: impute data or remove them. We will just remove all days that have missing observations. Fewer days would be removed if we restrict the clustering to a particular day-time period, 06:00 - 22:00:00. Below, we prepare a new dataset without missing values and update the list of days for later visualization purposes."
   ]
  },
  {
   "cell_type": "code",
   "execution_count": 11,
   "metadata": {
    "colab": {
     "base_uri": "https://localhost:8080/"
    },
    "executionInfo": {
     "elapsed": 266,
     "status": "ok",
     "timestamp": 1694445133206,
     "user": {
      "displayName": "Matej Cebecauer",
      "userId": "09411166241023626672"
     },
     "user_tz": -120
    },
    "id": "MOfS0A8Xt6mh",
    "outputId": "0bb12929-e9b6-4423-f9dd-8d93f9357f26"
   },
   "outputs": [
    {
     "name": "stdout",
     "output_type": "stream",
     "text": [
      "[4 4 4 9 1 4 9 9 4 4 5 9 9 9 9 4 4 9 9 3 3 3 4 4 9 9 5 9 4 4 9 5 9 9 9 4 4\n",
      " 9 9 9 5 9 4 4 9 9 3 3 4 4 3 3 3 9 4 4 3 3 9 3 9 4 4 3 9 9 9 3 4 4 3 3 3 3\n",
      " 3 4 4 3 3 9 3 3 1 3 3 4 4 4 4 9 3 3 3 4 4 3 3 3 3 3 4 4 3 3 3 3 3 4 4 3 3\n",
      " 3 3 3 4 1 2 2 2 2 2 5 1 2 2 8 5 0 5 1 2 2 5 1 2 2 2 2 2 5 1 2 2 8 2 8 5 1\n",
      " 2 2 8 8 8 5 1 2 8 2 2 0 5 1 2 2 8 2 5 4 1 8 0 2 8 0 5 7 0 8 0 5 5 0 0 0 0\n",
      " 0 5 5 0 0 0 0 0 5 5 0 0 5 1 0 0 0 7 1 1 0 0 0 2 0 5 1 2 2 2 2 8 1 1 2 2 2\n",
      " 2 8 1 1 2 2 2 2 8 5 2 1 1 2 2 8 2 2 1 1 2 2 2 2 1 1 2 2 2 2 2 7 2 2 2 1 1\n",
      " 2 2 2 2 8 5 1 2 2 2 8 0 1 1 8 2 2 2 1 1 6 6 6 6 4 1 6 6 6 6 1 1 6 6 6 6 6\n",
      " 1 1 6 6 6 6 6 1 4 6 6 6 6 6 1 4 6 6 6 9 1 1 6 6 6 6 6 1 1 6 6 6 5 4 4 4 5\n",
      " 1 1 1 4]\n"
     ]
    }
   ],
   "source": [
    "n_clusters = 10\n",
    "clusters = None\n",
    "#print(np.where(nans_per_day > 0)[0])\n",
    "vectorized_day_dataset_no_nans = vectorized_day_dataset[np.where(nans_per_day == 0)[0],:]\n",
    "days_not_nans = days[np.where(nans_per_day == 0)[0]]\n",
    "\n",
    "# BELOW lines enables you to comment in and out clustering method you want to use note that GMM have different ouput and thus labels are extracted differently\n",
    "clusters = KMeans(n_clusters=n_clusters, random_state=0, n_init=\"auto\").fit(vectorized_day_dataset_no_nans) # check the parameters at https://scikit-learn.org/stable/modules/generated/sklearn.cluster.KMeans.html\n",
    "# clusters = AgglomerativeClustering(n_clusters=n_clusters,metric='euclidean', linkage='ward').fit(vectorized_day_dataset_no_nans) # check the parameters at https://scikit-learn.org/stable/modules/generated/sklearn.cluster.AgglomerativeClustering.html\n",
    "# clusters = DBSCAN(eps=500, min_samples = 2).fit(vectorized_day_dataset_no_nans) # check the parameters at https://scikit-learn.org/stable/modules/generated/sklearn.cluster.DBSCAN.html\n",
    "\n",
    "if clusters is not None:\n",
    "  cluster_labels = clusters.labels_\n",
    "\n",
    "#cluster_labels = GaussianMixture(n_components=n_clusters).fit(vectorized_day_dataset_no_nans).predict(vectorized_day_dataset_no_nans) #check the parameters at  https://scikit-learn.org/stable/auto_examples/mixture/plot_gmm_init.html#sphx-glr-auto-examples-mixture-plot-gmm-init-py\n",
    "\n",
    "\n",
    "print(cluster_labels)"
   ]
  },
  {
   "cell_type": "markdown",
   "metadata": {
    "id": "-nv6CseOTz_g"
   },
   "source": [
    "## Visualizaiton of representative day-type patterns"
   ]
  },
  {
   "cell_type": "markdown",
   "metadata": {
    "id": "v6Dr8JQ0USJk"
   },
   "source": [
    "### Special plots for visualizing day-type patterns"
   ]
  },
  {
   "cell_type": "markdown",
   "metadata": {
    "id": "IXrQhfpPujQS"
   },
   "source": [
    "the results of clusterings are assignments to the clusters, this can be hard to read and make conclusions about it, so visualization of data in right way is of high importance. Below is a script gives you set of libraries for calendar and centroid visualizaiton.\n",
    "\n",
    "***Note: The below script you do not have to understand. Consider it as an external library that will plot for you, just like a histogram plot, for which you also do not know the exact implementation. Anyway, this course does not focus on information visualization.***"
   ]
  },
  {
   "cell_type": "code",
   "execution_count": 12,
   "metadata": {
    "executionInfo": {
     "elapsed": 258,
     "status": "ok",
     "timestamp": 1694445136670,
     "user": {
      "displayName": "Matej Cebecauer",
      "userId": "09411166241023626672"
     },
     "user_tz": -120
    },
    "id": "F9A7NgRaul7A"
   },
   "outputs": [],
   "source": [
    "\n",
    "from dateutil.relativedelta import relativedelta\n",
    "from matplotlib.patches import Polygon\n",
    "from matplotlib.lines import Line2D\n",
    "from matplotlib import gridspec\n",
    "from matplotlib.patches import Patch\n",
    "from matplotlib import colors\n",
    "\n",
    "def assign_colors(n_clusters, days, assigments):\n",
    "\n",
    "    days_colors = []\n",
    "    color_to_cluster = []\n",
    "    style_to_cluster = []\n",
    "    weekend_colors = ['#67001f','#d6604d','#fdae61','#f46d43','#d53e4f','#9e0142','#f768a1','#f1c232']#,'#fe9929','#cc4c02','#e31a1c','#737373','#bdbdbd','#252525','#bcbddc']\n",
    "#    weekend_school_colors = ['#c2a5cf','#f1b6da','#8e0152','#c51b7d','#de77ae','#ae017e','#fcc5c0','#e31a1c','#737373','#bdbdbd']\n",
    "#    bank_holidays_colors = ['#543005','#dfc27d','#bf812d','#8c510a']\n",
    "    mixed_colors = ['#4d4d4d','#35978f','#bababa','#878787']\n",
    "    weekday_colors = ['#a6cee3','#1f78b4','#b2df8a','#33a02c','#cab2d6','#6a3d9a','#b15928','#8dd3c7','#bebada','#fb8072','#b3de69','#bc80bd','#fccde5','#ccebc5','#35978f','#80cdc1']\n",
    "\n",
    "    cluster_id_weekdays_share = []\n",
    "    cluster_id_weekend_share = []\n",
    "    cluster_id_all_days = []\n",
    "\n",
    "    for i in range(0,n_clusters):\n",
    "        color_to_cluster.append(None)\n",
    "        style_to_cluster.append(None)\n",
    "        cluster_id_weekdays_share.append(0)\n",
    "        cluster_id_weekend_share.append(0)\n",
    "        cluster_id_all_days.append(0)\n",
    "\n",
    "    for i in range(0,len(days)):\n",
    "        #print(i,assigments[i],len(assigments),len(cluster_id_all_days))\n",
    "        if assigments[i] is not None:\n",
    "            cluster_id_all_days[assigments[i]] += 1\n",
    "            if '-' in str(days[i]):\n",
    "                pomT = datetime.datetime.strptime(str(days[i]),'%Y-%m-%d')\n",
    "            else:\n",
    "                pomT = datetime.datetime.strptime(str(days[i]),'%Y%m%d')\n",
    "\n",
    "            if int(pomT.weekday()) < 5:\n",
    "                cluster_id_weekdays_share[assigments[i]] += 1\n",
    "            else:\n",
    "                cluster_id_weekend_share[assigments[i]] += 1\n",
    "\n",
    "    print('cluster_id_weekdays_share',cluster_id_weekdays_share)\n",
    "    print('cluster_id_weekend_share',cluster_id_weekend_share)\n",
    "    for i in range(0,len(days)):\n",
    "        if assigments[i] is not None:\n",
    "            cluster_idx = assigments[i]\n",
    "            if '-' in str(days[i]):\n",
    "                pomT = datetime.datetime.strptime(str(days[i]),'%Y-%m-%d')\n",
    "            else:\n",
    "                pomT = datetime.datetime.strptime(str(days[i]),'%Y%m%d')\n",
    "            if color_to_cluster[assigments[i]] is None:\n",
    "                if cluster_id_weekend_share[cluster_idx] / float(cluster_id_all_days[cluster_idx]) > 0.6:\n",
    "                        color_to_cluster[assigments[i]] = weekend_colors.pop()\n",
    "                        style_to_cluster[assigments[i]] = ':'\n",
    "                elif cluster_id_weekdays_share[cluster_idx] / float(cluster_id_all_days[cluster_idx]) > 0.6:\n",
    "                        color_to_cluster[assigments[i]] = weekday_colors.pop(0)\n",
    "                        style_to_cluster[assigments[i]] = '-'\n",
    "                else:\n",
    "                    color_to_cluster[assigments[i]] = mixed_colors.pop()\n",
    "                    style_to_cluster[assigments[i]] = ':'\n",
    "\n",
    "            days_colors.append(color_to_cluster[assigments[i]])\n",
    "        else:\n",
    "            days_colors.append(None)\n",
    "\n",
    "    return days_colors,color_to_cluster,style_to_cluster\n",
    "\n",
    "\n",
    "def calmap(ax, year, data, days, assigments, n_clusters,days_colors,color_to_cluster,\n",
    "           limit_graphics=False):\n",
    "\n",
    "    ax.tick_params('x', length=0, labelsize=\"medium\", which='major')\n",
    "    ax.tick_params('y', length=0, labelsize=\"x-small\", which='major')\n",
    "\n",
    "    # Month borders\n",
    "\n",
    "    xticks, labels = [], []\n",
    "    start = datetime.datetime(year,1,1).weekday()\n",
    "\n",
    "    for month in range(1,13):\n",
    "\n",
    "        first = datetime.datetime(year, month, 1)\n",
    "        last = first + relativedelta(months=1, days=-1)\n",
    "\n",
    "        y0 = first.weekday()\n",
    "        y1 = last.weekday()\n",
    "        x0 = (int(first.strftime(\"%j\"))+start-1)//7\n",
    "        x1 = (int(last.strftime(\"%j\"))+start-1)//7\n",
    "\n",
    "        P = [ (x0,   y0), (x0,    7),  (x1,   7),\n",
    "              (x1,   y1+1), (x1+1,  y1+1), (x1+1, 0),\n",
    "              (x0+1,  0), (x0+1,  y0) ]\n",
    "\n",
    "        xticks.append(x0 +(x1-x0+1)/2)\n",
    "        labels.append(first.strftime(\"%b\"))\n",
    "        poly = Polygon(P, edgecolor=\"black\", facecolor=\"None\",\n",
    "\n",
    "                       linewidth=1, zorder=20, clip_on=False)\n",
    "\n",
    "        ax.add_artist(poly)\n",
    "\n",
    "    line = Line2D([0,53],[5,5],linewidth=1, zorder = 20,color=\"black\",linestyle='dashed')\n",
    "    ax.add_artist(line)\n",
    "\n",
    "    if not limit_graphics:\n",
    "        ax.set_xticks(xticks)\n",
    "        ax.set_xticklabels(labels)\n",
    "        ax.set_yticks(0.5 + np.arange(7))\n",
    "        ax.set_yticklabels([\"Mon\", \"Tue\", \"Wed\", \"Thu\", \"Fri\", \"Sat\", \"Sun\"])\n",
    "        ax.set_title(\"{}\".format(year), weight=\"semibold\")\n",
    "    else:\n",
    "        plt.tick_params(\n",
    "            axis='x',          # changes apply to the x-axis\n",
    "            which='both',      # both major and minor ticks are affected\n",
    "            bottom=False,      # ticks along the bottom edge are off\n",
    "            top=False,         # ticks along the top edge are off\n",
    "            labelbottom=False)\n",
    "        plt.tick_params(\n",
    "            axis='y',          # changes apply to the x-axis\n",
    "            which='both',      # both major and minor ticks are affected\n",
    "            left=False,      # ticks along the bottom edge are off\n",
    "            right=False,         # ticks along the top edge are off\n",
    "            labelleft=False)\n",
    "\n",
    "    # Clearing first and last day from the data\n",
    "    valid = datetime.datetime(year, 1, 1).weekday()\n",
    "    data[:valid,0] = np.nan\n",
    "    valid = datetime.datetime(year, 12, 31).weekday()\n",
    "    # data[:,x1+1:] = np.nan\n",
    "    data[valid+1:,x1] = np.nan\n",
    "\n",
    "    for i in range(0,len(days)):\n",
    "        if '-' in str(days[i]):\n",
    "            pomT = datetime.datetime.strptime(str(days[i]),'%Y-%m-%d')\n",
    "        else:\n",
    "            pomT = datetime.datetime.strptime(str(days[i]),'%Y%m%d')\n",
    "        week_number = int(pomT.strftime(\"%W\"))\n",
    "        day_of_week = int(pomT.weekday())\n",
    "        data[day_of_week,week_number] = assigments[i]\n",
    "\n",
    "\n",
    "    act_date = datetime.datetime(year,1,1)\n",
    "    while (act_date.year == year):\n",
    "\n",
    "        week_number = int(act_date.strftime(\"%W\"))\n",
    "        day_of_week = int(act_date.weekday())\n",
    "        doy_id = act_date.timetuple().tm_yday\n",
    "        if doy_id<5 and week_number > 53:\n",
    "            week_number = 0\n",
    "\n",
    "        act_date = act_date + datetime.timedelta(days=1)\n",
    "\n",
    "    #pomT = datetime.datetime.strptime('2017-01-01','%Y-%m-%d')\n",
    "    #week_number = int(pomT.strftime(\"%V\"))\n",
    "    #day_of_week = int(pomT.weekday())\n",
    "    #print(week_number,day_of_week)\n",
    "    #doy_id = pomT.timetuple().tm_yday\n",
    "    #if doy_id<5 and week_number > 0:\n",
    "    #    week_number = 0\n",
    "    #data[day_of_week,week_number] = len(clusters)+10\n",
    "\n",
    "    # Showing data\n",
    "    cmap = plt.cm.spring  # Can be any colormap that you want after the cm\n",
    "    cmap.set_bad(color='white')\n",
    "\n",
    "    #ax.imshow(data, extent=[0,53,0,7], zorder=10, vmin=0, vmax=len(clusters)+10,\n",
    "    #          cmap=cmap, origin=\"lower\", alpha=.75)\n",
    "\n",
    "    cmap = colors.ListedColormap(color_to_cluster)\n",
    "    bounds=[-0.1]\n",
    "    step = 1\n",
    "    for i in range(0,n_clusters):\n",
    "        bounds.append(i-0.1+step)\n",
    "    norm = colors.BoundaryNorm(bounds, cmap.N)\n",
    "    #print(color_to_cluster)\n",
    "   #print(bounds)\n",
    "    #print(norm)\n",
    "\n",
    "    #print(color_to_cluster)\n",
    "    #print(bounds)\n",
    "    #print(cmap)\n",
    "    #exit(0)\n",
    "\n",
    "    ax.imshow(data, extent=[0,53,0,7], zorder=10, interpolation='nearest', origin='lower',cmap=cmap, norm=norm)\n",
    "\n",
    "def make_calendar_visualization_figure(days,assigments,n_clusters,years,days_colors,color_to_cluster,\n",
    "                                       save_figure: str = None, show_figure:bool = True, limit_graphics = False):\n",
    "\n",
    "    fig = plt.figure(figsize=(8,1.5*len(years)), dpi=100)\n",
    "    X = np.linspace(-1,1, 53*7)\n",
    "\n",
    "    for i, obj in enumerate(years):\n",
    "\n",
    "        pom_s = str(len(years))+'1'+str(i+1)\n",
    "        print(pom_s)\n",
    "\n",
    "        ax = plt.subplot(int(pom_s), xlim=[0, 53], ylim=[0, 7], frameon=False, aspect=1)\n",
    "        I = 1.2 - np.cos(X.ravel()) + np.random.normal(0,.2, X.size)\n",
    "        I = I.reshape(53,7).T\n",
    "        I.fill(np.nan)\n",
    "        calmap(ax, int(obj), I.reshape(53,7).T, days, assigments, n_clusters,days_colors,color_to_cluster, limit_graphics)\n",
    "\n",
    "    #   ax = plt.subplot(212, xlim=[0,53], ylim=[0,7], frameon=False, aspect=1)\n",
    "    #  I = 1.1 - np.cos(X.ravel()) + np.random.normal(0,.2, X.size)\n",
    "    #   calmap(ax, 2018, I.reshape(53,7).T)\n",
    "\n",
    "    #ax = plt.subplot(313, xlim=[0,53], ylim=[0,7], frameon=False, aspect=1)\n",
    "    #I = 1.0 - np.cos(X.ravel()) + np.random.normal(0,.2, X.size)\n",
    "    #calmap(ax, 2019, I.reshape(53,7).T)\n",
    "    if save_figure:\n",
    "        plt.savefig(save_figure)\n",
    "\n",
    "    if show_figure or save_figure is None:\n",
    "        plt.tight_layout()\n",
    "        plt.show()\n",
    "\n",
    "\n",
    "def make_figure_centroids(x,y,color_to_cluster,style_to_cluster,cluster_ids,minY = None,maxY = None,\n",
    "                          save_figure: str = None, show_figure:bool = True):\n",
    "\n",
    "    #print(color_to_cluster)\n",
    "    fig = plt.figure(figsize=(8,3))\n",
    "    ax = fig.add_subplot(111)\n",
    "    for i in range(0,len(x)):\n",
    "        #print(i,color_to_cluster[i],style_to_cluster[i])\n",
    "        #print(y[i])\n",
    "        ax.plot(x[i],y[i],style_to_cluster[i], color=color_to_cluster[i], label=str(cluster_ids[i]))\n",
    "    ax.set_xlabel('Time of day')\n",
    "    ax.set_ylabel('Flow')\n",
    "    if minY is not None and maxY is not None:\n",
    "        ax.set_ylim([minY, maxY])\n",
    "    plt.legend()\n",
    "\n",
    "    if save_figure:\n",
    "        plt.savefig(save_figure)\n",
    "\n",
    "    if show_figure or save_figure is None:\n",
    "        plt.tight_layout()\n",
    "        plt.show()\n",
    "\n"
   ]
  },
  {
   "cell_type": "markdown",
   "metadata": {
    "id": "-0HZj5jpUf6n"
   },
   "source": [
    "### Visualization"
   ]
  },
  {
   "cell_type": "markdown",
   "metadata": {
    "id": "AOm8M7jPUuCl"
   },
   "source": [
    "#### Calendar visualization"
   ]
  },
  {
   "cell_type": "markdown",
   "metadata": {
    "id": "s3rx31eUEuYb"
   },
   "source": [
    "Using the above functions for visualization, the representative day-type clusters can be seen in a calendar form in order to enable us by-eye analysis to make sense of these clusters. Do cluster labels form temporally coherent patterns when viewed across a calendar? In particular, do weekends, holidays or seasonal cycles explain cluster placement? Note that white cells are removed days because of missing observations"
   ]
  },
  {
   "cell_type": "code",
   "execution_count": 13,
   "metadata": {
    "colab": {
     "base_uri": "https://localhost:8080/",
     "height": 228
    },
    "executionInfo": {
     "elapsed": 272,
     "status": "ok",
     "timestamp": 1694445142788,
     "user": {
      "displayName": "Matej Cebecauer",
      "userId": "09411166241023626672"
     },
     "user_tz": -120
    },
    "id": "PPwbOdp1voEh",
    "outputId": "e5bcb85d-e808-4ceb-9370-41c69682a86d"
   },
   "outputs": [
    {
     "name": "stdout",
     "output_type": "stream",
     "text": [
      "cluster_id_weekdays_share [26, 4, 66, 42, 6, 8, 34, 1, 18, 31]\n",
      "cluster_id_weekend_share [0, 42, 0, 0, 39, 18, 0, 2, 0, 0]\n",
      "111\n"
     ]
    },
    {
     "data": {
      "image/png": "[encoded data removed]",
      "text/plain": [
       "<Figure size 800x150 with 1 Axes>"
      ]
     },
     "metadata": {},
     "output_type": "display_data"
    }
   ],
   "source": [
    "# Calculate the number of clusters by finding unique values in 'cluster_labels'\n",
    "n_clusters_t = len(np.unique(cluster_labels))\n",
    "\n",
    "# Assign colors to days based on clusters\n",
    "days_colors, color_to_cluster, style_to_cluster = assign_colors(n_clusters_t, days_not_nans, cluster_labels)\n",
    "# The function 'assign_colors' is used to determine colors and styles for visualization.\n",
    "\n",
    "# Create a calendar visualization figure\n",
    "make_calendar_visualization_figure(days_not_nans, cluster_labels, n_clusters_t, [2021], days_colors,\n",
    "                                   color_to_cluster, save_figure=None)\n",
    "# This function 'make_calendar_visualization_figure' is used to generate a visualization based on the provided data and parameters.\n",
    "# 'days_not_nans' are the days, 'cluster_labels' are the cluster labels, 'n_clusters_t' is the number of clusters,\n",
    "# '[2021]' represents the year, 'days_colors' represent the assigned colors for each day, 'color_to_cluster' maps colors to clusters,\n",
    "# and 'save_figure' is an optional parameter to save the generated figure (can be None if not saving)."
   ]
  },
  {
   "cell_type": "markdown",
   "metadata": {
    "id": "3V4Ln1QSU0fZ"
   },
   "source": [
    "#### Day-time profile of centroids"
   ]
  },
  {
   "cell_type": "code",
   "execution_count": 14,
   "metadata": {
    "colab": {
     "base_uri": "https://localhost:8080/",
     "height": 307
    },
    "executionInfo": {
     "elapsed": 913,
     "status": "ok",
     "timestamp": 1694445146494,
     "user": {
      "displayName": "Matej Cebecauer",
      "userId": "09411166241023626672"
     },
     "user_tz": -120
    },
    "id": "IeUR_UqR4e1A",
    "outputId": "e233e9e1-2bd8-4cc3-89ce-c22df10987d6"
   },
   "outputs": [
    {
     "data": {
      "image/png": "[encoded data removed]",
      "text/plain": [
       "<Figure size 800x300 with 1 Axes>"
      ]
     },
     "metadata": {},
     "output_type": "display_data"
    }
   ],
   "source": [
    "# Initialize empty lists to store centroid data\n",
    "centroids_xx = []  # x-axis values for centroids\n",
    "centroids_yy_daytypes = []  # y-axis values for centroids, grouped by day types\n",
    "cluster_ids = []  # Cluster IDs\n",
    "\n",
    "# Iterate through each cluster\n",
    "for i in range(0, n_clusters_t):\n",
    "    # Store the x-axis values for centroids (hours of the day)\n",
    "    centroids_xx.append(x_axis_hours)\n",
    "\n",
    "    # Calculate the y-axis values for centroids (average flow for each 5-minute interval)\n",
    "    centroid_yy = list(np.nanmean(vectorized_day_dataset_no_nans[np.where(cluster_labels == i)[0], :], 0).transpose())\n",
    "    centroids_yy_daytypes.append(centroid_yy)\n",
    "\n",
    "    # Store the cluster ID\n",
    "    cluster_ids.append(i)\n",
    "\n",
    "# Generate a figure displaying the centroids\n",
    "make_figure_centroids(centroids_xx, centroids_yy_daytypes, color_to_cluster, style_to_cluster, cluster_ids)\n",
    "# The function 'make_figure_centroids' is used to create a visualization of the centroids,\n",
    "# with the provided data and parameters."
   ]
  },
  {
   "cell_type": "markdown",
   "metadata": {
    "id": "p8ocQl6CGIj6"
   },
   "source": [
    "Next, we can explore the day-type profiles. Centroids compress intra-day variability into an average, smoothness and within-cluster spread must be inspected together. A sharp, narrow peak in a centroid with small within-cluster spread implies a reliable, repeatable event. A noisy centroid suggests heterogeneity or too few members."
   ]
  },
  {
   "cell_type": "markdown",
   "metadata": {
    "id": "Y1_7BaeDGOOn"
   },
   "source": [
    "As you can see with first shot using k-means we can see much more day-type patterns as we may expect, it even enable to identify potential outliers/incident like cluster 7."
   ]
  },
  {
   "cell_type": "markdown",
   "metadata": {
    "id": "Bh806WebYlyQ"
   },
   "source": [
    "# Part 3: Independent work - clustering evaluation\n",
    "\n",
    "Find the day-type clusterings that you consider most representative. Evaluate clustering quality using internal evaluation metrics such as Silhouette score and others. You can consider short-term prediction as an external metric that imitates how useful recognized patterns are compared to newly observed days. In an assignment, motivate why you consider the method selected by you as superior.\n",
    "\n",
    "**NOTE** ***This part of exercise as well with all you have learned about clustering is the basis for your reflection in mandatory grated assignment for the MODULE 5***\n",
    "\n",
    "You can use above and below scripts for experimenting with different methods, metrics and number of clusters"
   ]
  },
  {
   "cell_type": "markdown",
   "metadata": {
    "id": "ReJNTPK1ZQ2U"
   },
   "source": [
    "## Internal evaluation"
   ]
  },
  {
   "cell_type": "markdown",
   "metadata": {
    "id": "W3SQZh9zZmpp"
   },
   "source": [
    "Are clusters internally compact and well separated under the chosen metric? Below is an example for using internal metrics in scikit-learn."
   ]
  },
  {
   "cell_type": "code",
   "execution_count": 15,
   "metadata": {
    "colab": {
     "base_uri": "https://localhost:8080/"
    },
    "executionInfo": {
     "elapsed": 227,
     "status": "ok",
     "timestamp": 1694445151992,
     "user": {
      "displayName": "Matej Cebecauer",
      "userId": "09411166241023626672"
     },
     "user_tz": -120
    },
    "id": "_eAXdj_bZVAG",
    "outputId": "fde38028-d6e9-4437-aef6-88195b66c26f"
   },
   "outputs": [
    {
     "name": "stdout",
     "output_type": "stream",
     "text": [
      "Silhouette Score: 0.1888295110481911\n",
      "Davies-Bouldin Score: 1.743424444104766\n",
      "Calinski-Harabasz Score: 81.05449965897482\n"
     ]
    }
   ],
   "source": [
    "\n",
    "# Import relevant metrics from scikit-learn\n",
    "from sklearn.metrics import calinski_harabasz_score, silhouette_score, davies_bouldin_score\n",
    "\n",
    "# Calculate the Silhouette Score\n",
    "SC_score = silhouette_score(vectorized_day_dataset_no_nans, cluster_labels)\n",
    "# Silhouette Score measures the quality of clusters, higher values indicate better separation.\n",
    "\n",
    "# Calculate the Davies-Bouldin Score\n",
    "DB_score = davies_bouldin_score(vectorized_day_dataset_no_nans, cluster_labels)\n",
    "# Davies-Bouldin Score measures the average similarity between each cluster and its most similar cluster, lower values indicate better separation.\n",
    "\n",
    "# Calculate the Calinski-Harabasz Score\n",
    "CH_score = calinski_harabasz_score(vectorized_day_dataset_no_nans, cluster_labels)\n",
    "# Calinski-Harabasz Score measures the ratio of between-cluster variance to within-cluster variance, higher values indicate better separation.\n",
    "\n",
    "# Print the computed cluster quality scores\n",
    "print('Silhouette Score:', SC_score)\n",
    "print('Davies-Bouldin Score:', DB_score)\n",
    "print('Calinski-Harabasz Score:', CH_score)"
   ]
  },
  {
   "cell_type": "markdown",
   "metadata": {},
   "source": [
    "Internal metrics help tune the number of clusters and preprocessing. They are necessary but not sufficient for usefulness: good silhouette does not guarantee better prediction."
   ]
  },
  {
   "cell_type": "markdown",
   "metadata": {
    "id": "EtggY3IXZVYO"
   },
   "source": [
    "## External evaluation with short-term prediction"
   ]
  },
  {
   "cell_type": "markdown",
   "metadata": {
    "id": "a8GM5qTBZZgt"
   },
   "source": [
    "So far, we have evaluated our clusters internally using metrics like silhouette score. But how do we know if these discovered \"day-types\" are actually useful for a real-world task? Do centroids improve one-step-ahead forecasting relative to meaningful baselines?\n",
    "\n",
    "The idea is simple: if our centroids truly capture meaningful patterns, they should provide a good \"baseline\" prediction for what traffic will look like in the very near future. We will test this by using the centroids to predict the next 5-minute interval, a common task in traffic management systems.\n",
    "\n",
    "First, lets load the evaluation dataset used of evaluating short-term prediction accuracy, vectorize it to day vectors and remove missing values."
   ]
  },
  {
   "cell_type": "code",
   "execution_count": 16,
   "metadata": {
    "colab": {
     "base_uri": "https://localhost:8080/"
    },
    "executionInfo": {
     "elapsed": 22375,
     "status": "ok",
     "timestamp": 1694445209155,
     "user": {
      "displayName": "Matej Cebecauer",
      "userId": "09411166241023626672"
     },
     "user_tz": -120
    },
    "id": "-1dqEbTgZfnx",
    "outputId": "2d15eba3-caf9-4f8d-878b-35d030c9e099"
   },
   "outputs": [
    {
     "name": "stderr",
     "output_type": "stream",
     "text": [
      "C:\\Users\\jemaa\\AppData\\Local\\Temp\\ipykernel_3764\\1858473528.py:23: FutureWarning: When grouping with a length-1 list-like, you will need to pass a length-1 tuple to get_group in a future version of pandas. Pass `(name,)` instead of `name` to silence this warning.\n",
      "  df_t = day_eval_subsets_df.get_group(days_eval[i])\n",
      "C:\\Users\\jemaa\\AppData\\Local\\Temp\\ipykernel_3764\\1858473528.py:28: FutureWarning: When grouping with a length-1 list-like, you will need to pass a length-1 tuple to get_group in a future version of pandas. Pass `(name,)` instead of `name` to silence this warning.\n",
      "  df_t = day_eval_subsets_df.get_group(days_eval[i])\n"
     ]
    },
    {
     "name": "stdout",
     "output_type": "stream",
     "text": [
      "[[35. 29. 32. ... 62. 66. 71.]\n",
      " [44. 44. 51. ... 30. 31. 23.]\n",
      " [21. 22. 17. ... 20. 22. 22.]\n",
      " ...\n",
      " [17. 17. 20. ... 35. 25. 27.]\n",
      " [37. 25. 30. ... 37. 36. 49.]\n",
      " [42. 28. 32. ... 45. 49. 38.]]\n"
     ]
    }
   ],
   "source": [
    "# Read the evaluation dataset from a CSV file\n",
    "data_eval_df = pd.read_csv(\"data/evaluation_dataset_exercise_5_clustering_highway_traffic.csv\", sep=\";\")\n",
    "\n",
    "# Sort the evaluation DataFrame by columns \"Date\" and \"Interval_5\"\n",
    "data_eval_df.sort_values([\"Date\", \"Interval_5\"])\n",
    "\n",
    "# Extract unique dates from the sorted evaluation DataFrame\n",
    "days_eval = np.unique(data_eval_df[['Date']].values.ravel())\n",
    "# Calculate the total number of unique days in the evaluation dataset\n",
    "ndays_eval = len(days_eval)\n",
    "\n",
    "# Group the evaluation DataFrame by the \"Date\" column\n",
    "day_eval_subsets_df = data_eval_df.groupby([\"Date\"])\n",
    "\n",
    "# Initialize a matrix 'vectorized_day_dataset_eval' filled with NaN values\n",
    "vectorized_day_dataset_eval = np.zeros((ndays_eval, nintvals))\n",
    "vectorized_day_dataset_eval.fill(np.nan)\n",
    "# This section initializes a 2D array to store the evaluation dataset and fills it with NaN values.\n",
    "\n",
    "# Loop through each unique day in the evaluation dataset\n",
    "for i in range(0, ndays_eval):\n",
    "    # Get the DataFrame corresponding to the current day\n",
    "    df_t = day_eval_subsets_df.get_group(days_eval[i])\n",
    "\n",
    "    # Loop through each row in the current day's DataFrame\n",
    "    for j in range(len(df_t)):\n",
    "        # Get the current day's DataFrame (this line is redundant)\n",
    "        df_t = day_eval_subsets_df.get_group(days_eval[i])\n",
    "\n",
    "        # Extract the \"Interval_5\" and \"flow\" values and populate 'vectorized_day_dataset_eval'\n",
    "        vectorized_day_dataset_eval[i, df_t.iloc[j][\"Interval_5\"]] = df_t.iloc[j][\"flow\"]\n",
    "\n",
    "# Print the resulting 'vectorized_day_dataset_eval'\n",
    "print(vectorized_day_dataset_eval)"
   ]
  },
  {
   "cell_type": "code",
   "execution_count": 17,
   "metadata": {
    "colab": {
     "base_uri": "https://localhost:8080/"
    },
    "executionInfo": {
     "elapsed": 247,
     "status": "ok",
     "timestamp": 1694445220724,
     "user": {
      "displayName": "Matej Cebecauer",
      "userId": "09411166241023626672"
     },
     "user_tz": -120
    },
    "id": "nNUDJ57Uj7JZ",
    "outputId": "483484cb-5c40-4d8d-84c8-bab6283d2930"
   },
   "outputs": [
    {
     "name": "stdout",
     "output_type": "stream",
     "text": [
      "Number of NaNs: 96\n",
      "Rate of NaNs: 0.004166666666666667\n",
      "Number of days with missing values: 11\n",
      "Final number of days in evaluation dataset: 69\n",
      "List of days without missing values: [20220108 20220109 20220131 20220204 20220209 20220210 20220211 20220223\n",
      " 20220226 20220227 20220302 20220304 20220305 20220306 20220310 20220314\n",
      " 20220315 20220321 20220323 20220326 20220403 20220406 20220416 20220418\n",
      " 20220421 20220422 20220425 20220427 20220428 20220503 20220505 20220514\n",
      " 20220519 20220521 20220522 20220526 20220530 20220601 20220603 20220609\n",
      " 20220616 20220619 20220623 20220628 20220704 20220711 20220712 20220904\n",
      " 20220910 20220911 20220920 20220921 20220925 20220927 20220929 20220930\n",
      " 20221005 20221022 20221024 20221114 20221116 20221121 20221122 20221213\n",
      " 20221216 20221218 20221220 20221223 20221230]\n"
     ]
    }
   ],
   "source": [
    "# Calculate the total number of NaN values in the evaluation dataset\n",
    "print('Number of NaNs:', np.sum(np.isnan(vectorized_day_dataset_eval)))\n",
    "\n",
    "# Calculate the rate of NaN values in the evaluation dataset\n",
    "print('Rate of NaNs:', np.sum(np.isnan(vectorized_day_dataset_eval)) / (ndays_eval * nintvals))\n",
    "\n",
    "# Calculate the number of days with missing values\n",
    "nans_per_day_eval = np.sum(np.isnan(vectorized_day_dataset_eval), 1)\n",
    "print('Number of days with missing values:', np.size(np.where(nans_per_day_eval > 0)))\n",
    "\n",
    "# Filter out days with no missing values and create a new dataset\n",
    "vectorized_day_dataset_no_nans_eval = vectorized_day_dataset_eval[np.where(nans_per_day_eval == 0)[0], :]\n",
    "days_not_nans_eval = days_eval[np.where(nans_per_day_eval == 0)[0]]\n",
    "\n",
    "# Calculate the final number of days in the evaluation dataset after removing missing values\n",
    "print('Final number of days in evaluation dataset:', len(days_not_nans_eval))\n",
    "\n",
    "# Print the list of days in the evaluation dataset with no missing values\n",
    "print('List of days without missing values:', days_not_nans_eval)\n",
    "\n",
    "# Calculate the total number of days in the filtered evaluation dataset\n",
    "ndays_eval_not_nans = len(days_not_nans_eval)"
   ]
  },
  {
   "cell_type": "markdown",
   "metadata": {
    "id": "-_Yc2vg9gUrJ"
   },
   "source": [
    "Now when the dataset for evaluation is ready, below is a script for evaluating short-term prediction performance.\n",
    "\n",
    "We will implement a specific forecasting strategy:\n",
    "\n",
    "For each 5-minute interval j in a new day:\n",
    "\n",
    "1. Look at the recent past: We take the actual observed traffic flow from the last 5 intervals (the last 25 minutes: j-4 to j).\n",
    "\n",
    "2. Find the best-matching pattern: We compare this short recent history against the beginning of each of our four cluster centroids. The centroid whose first j+1 intervals most closely match the recent past is selected as our \"best guide\" for what should happen next.\n",
    "\n",
    "3. Make a prediction: We use the value of the best-matching centroid at the next time interval (j+1) as our prediction.\n",
    "\n",
    "4. Measure error: We compare this prediction to the actual observed traffic flow at interval j+1 and calculate the error.\n",
    "\n",
    "We repeat this process for every possible interval in every day in our evaluation set. This tests the centroids' predictive power in a real context."
   ]
  },
  {
   "cell_type": "code",
   "execution_count": 18,
   "metadata": {
    "colab": {
     "base_uri": "https://localhost:8080/"
    },
    "executionInfo": {
     "elapsed": 26262,
     "status": "ok",
     "timestamp": 1694445253487,
     "user": {
      "displayName": "Matej Cebecauer",
      "userId": "09411166241023626672"
     },
     "user_tz": -120
    },
    "id": "6259sc-sgVE8",
    "outputId": "ad98f258-0ec0-432d-b839-0561fb9009b3"
   },
   "outputs": [
    {
     "name": "stdout",
     "output_type": "stream",
     "text": [
      "Prediction accuracy MAE: 24.607666013093354\n",
      "Prediction accuracy MAPE: 0.24531753390066866\n"
     ]
    }
   ],
   "source": [
    "# Import the pairwise_distances function from scikit-learn's metrics library\n",
    "import sklearn.metrics.pairwise as dis_lib\n",
    "\n",
    "# Define a function to find the closest centroid to a new data point within a specified day-time interval range\n",
    "def find_the_closest_centroid(centroids, new_day, from_interval: int, to_interval: int):\n",
    "    closest_centroid = None\n",
    "    closest_dist = None\n",
    "\n",
    "    # Iterate through each centroid\n",
    "    for i in range(0, len(centroids)):\n",
    "        # Calculate the Euclidean distance between the centroid and the new data point\n",
    "        ed_t = dis_lib.paired_distances(centroids[i], new_day, metric='euclidean')\n",
    "\n",
    "        # Check if the current centroid is closer than the previously closest one\n",
    "        if closest_centroid is None or closest_dist > ed_t:\n",
    "            closest_centroid = i\n",
    "            closest_dist = ed_t\n",
    "\n",
    "    return closest_centroid\n",
    "\n",
    "# Initialize a list to store centroid data\n",
    "centroids = []\n",
    "\n",
    "# Calculate centroids for each cluster\n",
    "for i in np.unique(cluster_labels):\n",
    "    centroid = np.nanmean(vectorized_day_dataset_no_nans[np.where(cluster_labels == i)[0], :], 0).reshape(1, nintvals)\n",
    "    centroids.append(centroid)\n",
    "\n",
    "# Define the number of past intervals to consider for classification\n",
    "n_past_intervals_for_classification = 5\n",
    "\n",
    "# Initialize variables to calculate accuracy metrics\n",
    "total_mae = 0\n",
    "total_mape = 0\n",
    "prediction_counts = 0\n",
    "\n",
    "# Loop through each day in the evaluation dataset with no missing values\n",
    "for i in range(0, ndays_eval_not_nans):\n",
    "    # Loop through intervals from n_past_intervals_for_classification to nintvals - 1\n",
    "    for j in range(n_past_intervals_for_classification, nintvals - 1):\n",
    "        # Find the closest centroid for the current data point\n",
    "        centroid_index = find_the_closest_centroid(centroids, vectorized_day_dataset_no_nans_eval[i].reshape(1, nintvals), j - n_past_intervals_for_classification, j)\n",
    "\n",
    "        # Predict the value for the next interval\n",
    "        predicted_value = centroids[centroid_index][0, j + 1]\n",
    "\n",
    "        # Calculate Mean Absolute Error (MAE) and Mean Absolute Percentage Error (MAPE)\n",
    "        mae_t = abs(predicted_value - vectorized_day_dataset_no_nans_eval[i][j + 1])\n",
    "        mape_t = abs(predicted_value - vectorized_day_dataset_no_nans_eval[i][j + 1]) / float(vectorized_day_dataset_no_nans_eval[i][j + 1])\n",
    "\n",
    "        # Accumulate MAE, MAPE, and count of predictions\n",
    "        total_mae += mae_t\n",
    "        total_mape += mape_t\n",
    "        prediction_counts += 1\n",
    "\n",
    "# Calculate and print the prediction accuracy metrics\n",
    "print('Prediction accuracy MAE:', total_mae / prediction_counts)\n",
    "print('Prediction accuracy MAPE:', total_mape / prediction_counts)\n"
   ]
  },
  {
   "cell_type": "markdown",
   "metadata": {},
   "source": [
    "External evaluation quantifies the performance of the day types with their centroids, which provides generalized data model of the dataset. Furthermore, it enables the comparison of various clusterings. The better the prediction performance, the more effectively the cluster-based prediction model captures important representative patterns, and also allows for better classification of unseen partial days. This score is closer to the objective of finding representative day-types, as are the internal evaluation scores, because it measures the predictive power of recognized representative patterns, but also the classification of unseen days (by Euclidean distance in this case)"
   ]
  },
  {
   "cell_type": "markdown",
   "metadata": {},
   "source": [
    "#### Own Work"
   ]
  },
  {
   "cell_type": "markdown",
   "metadata": {},
   "source": [
    "1. Decide number of clusters for each algorithm"
   ]
  },
  {
   "cell_type": "code",
   "execution_count": 19,
   "metadata": {},
   "outputs": [
    {
     "name": "stderr",
     "output_type": "stream",
     "text": [
      "C:\\Users\\jemaa\\AppData\\Local\\Temp\\ipykernel_3764\\3743148614.py:39: FutureWarning: The behavior of DataFrame concatenation with empty or all-NA entries is deprecated. In a future version, this will no longer exclude empty or all-NA columns when determining the result dtypes. To retain the old behavior, exclude the relevant entries before the concat operation.\n",
      "  num_clusters_df = pd.concat([num_clusters_df, n_cluster_df], axis=0)\n"
     ]
    },
    {
     "data": {
      "application/vnd.microsoft.datawrangler.viewer.v0+json": {
       "columns": [
        {
         "name": "index",
         "rawType": "int64",
         "type": "integer"
        },
        {
         "name": "num_clusters",
         "rawType": "object",
         "type": "unknown"
        },
        {
         "name": "method",
         "rawType": "object",
         "type": "string"
        },
        {
         "name": "SC_score",
         "rawType": "float64",
         "type": "float"
        },
        {
         "name": "DB_score",
         "rawType": "float64",
         "type": "float"
        },
        {
         "name": "CH_score",
         "rawType": "float64",
         "type": "float"
        }
       ],
       "ref": "8a36b386-6494-4ec4-91eb-731e5032964b",
       "rows": [
        [
         "0",
         "2",
         "K-Means",
         "0.30762127308637705",
         "1.2677249598188498",
         "174.10488354932468"
        ],
        [
         "1",
         "2",
         "Agglomerative",
         "0.29094541701496657",
         "1.2791380381322435",
         "159.82150452009728"
        ],
        [
         "2",
         "2",
         "GMM",
         "0.3022832884402729",
         "1.268701225094077",
         "169.80547920139276"
        ],
        [
         "0",
         "3",
         "K-Means",
         "0.2692406087798076",
         "1.3587890766043242",
         "159.13421302277047"
        ],
        [
         "1",
         "3",
         "Agglomerative",
         "0.26811197169820694",
         "1.3138114813630548",
         "148.6076053377012"
        ],
        [
         "2",
         "3",
         "GMM",
         "0.2692406087798076",
         "1.3587890766043242",
         "159.1342130227704"
        ],
        [
         "0",
         "4",
         "K-Means",
         "0.22986034355640078",
         "1.789675247708062",
         "122.80161679824757"
        ],
        [
         "1",
         "4",
         "Agglomerative",
         "0.2576366497624237",
         "1.460274078411172",
         "127.1871520011372"
        ],
        [
         "2",
         "4",
         "GMM",
         "0.22330044765437296",
         "1.797092858896327",
         "122.5534748406834"
        ],
        [
         "0",
         "5",
         "K-Means",
         "0.22969753927464953",
         "1.5158295908096298",
         "114.69473802964787"
        ],
        [
         "1",
         "5",
         "Agglomerative",
         "0.26377798541725606",
         "1.2314039157719086",
         "118.05469625253785"
        ],
        [
         "2",
         "5",
         "GMM",
         "0.23677790666228013",
         "1.402840931741535",
         "113.55324167981074"
        ],
        [
         "0",
         "6",
         "K-Means",
         "0.23960093549116207",
         "1.454939756688444",
         "115.18521464607788"
        ],
        [
         "1",
         "6",
         "Agglomerative",
         "0.2503631303750926",
         "1.4601712668312166",
         "108.67950551006747"
        ],
        [
         "2",
         "6",
         "GMM",
         "0.23620824492136186",
         "1.5596219966738218",
         "105.09063983248767"
        ],
        [
         "0",
         "7",
         "K-Means",
         "0.24133229796735856",
         "1.4813566163658265",
         "103.05063003488678"
        ],
        [
         "1",
         "7",
         "Agglomerative",
         "0.24315720694085063",
         "1.513605998697631",
         "100.74968399031134"
        ],
        [
         "2",
         "7",
         "GMM",
         "0.2419583664893497",
         "1.3944155764853172",
         "103.51678644187042"
        ],
        [
         "0",
         "8",
         "K-Means",
         "0.22463500306883655",
         "1.57580636243424",
         "94.88778484376417"
        ],
        [
         "1",
         "8",
         "Agglomerative",
         "0.23963521944269484",
         "1.4405336809825917",
         "91.73657248722877"
        ],
        [
         "2",
         "8",
         "GMM",
         "0.1938521965604431",
         "1.6329615184425503",
         "92.6738025668879"
        ],
        [
         "0",
         "9",
         "K-Means",
         "0.21671483432113664",
         "1.6765992719650025",
         "86.61554755105767"
        ],
        [
         "1",
         "9",
         "Agglomerative",
         "0.23303907496992507",
         "1.3906874724813032",
         "84.41241965790472"
        ],
        [
         "2",
         "9",
         "GMM",
         "0.2168007940405681",
         "1.606289994839052",
         "87.40087785405419"
        ],
        [
         "0",
         "10",
         "K-Means",
         "0.1888295110481911",
         "1.743424444104766",
         "81.05449965897482"
        ],
        [
         "1",
         "10",
         "Agglomerative",
         "0.21506167345844876",
         "1.4150683146774612",
         "78.95519615286356"
        ],
        [
         "2",
         "10",
         "GMM",
         "0.17326806208433312",
         "1.6475032935778646",
         "78.66849838268912"
        ],
        [
         "0",
         "11",
         "K-Means",
         "0.1788759810150695",
         "1.7241230947264883",
         "77.74823609158022"
        ],
        [
         "1",
         "11",
         "Agglomerative",
         "0.19206199464088286",
         "1.540012967244598",
         "74.39070342646454"
        ],
        [
         "2",
         "11",
         "GMM",
         "0.16161398645733405",
         "1.8050361155382035",
         "77.35568348989844"
        ],
        [
         "0",
         "12",
         "K-Means",
         "0.18051157210274943",
         "1.6177001165697993",
         "72.4881505602889"
        ],
        [
         "1",
         "12",
         "Agglomerative",
         "0.17341463378355707",
         "1.7937037931830515",
         "70.40814062679574"
        ],
        [
         "2",
         "12",
         "GMM",
         "0.17037164219433848",
         "1.7270959301442677",
         "68.01014823736504"
        ],
        [
         "0",
         "13",
         "K-Means",
         "0.16619559756008595",
         "1.7247605301784323",
         "67.60715841104627"
        ],
        [
         "1",
         "13",
         "Agglomerative",
         "0.1496578192195879",
         "1.820251413103667",
         "66.98413107872288"
        ],
        [
         "2",
         "13",
         "GMM",
         "0.1483511401953946",
         "1.6945590023711523",
         "65.3129392162071"
        ],
        [
         "0",
         "14",
         "K-Means",
         "0.16314779819965664",
         "1.6977408585756475",
         "64.19688222055893"
        ],
        [
         "1",
         "14",
         "Agglomerative",
         "0.15178003954718486",
         "1.7372784373928714",
         "63.96887841515444"
        ],
        [
         "2",
         "14",
         "GMM",
         "0.16343265864600517",
         "1.6126616684284871",
         "65.57812932452077"
        ],
        [
         "0",
         "15",
         "K-Means",
         "0.1605062621378209",
         "1.6504154537744191",
         "60.69523101853101"
        ],
        [
         "1",
         "15",
         "Agglomerative",
         "0.15394343188439513",
         "1.6443630824594693",
         "61.11763538195128"
        ],
        [
         "2",
         "15",
         "GMM",
         "0.14170694489530103",
         "1.7568369400989297",
         "61.06688408101098"
        ]
       ],
       "shape": {
        "columns": 5,
        "rows": 42
       }
      },
      "text/html": [
       "<div>\n",
       "<style scoped>\n",
       "    .dataframe tbody tr th:only-of-type {\n",
       "        vertical-align: middle;\n",
       "    }\n",
       "\n",
       "    .dataframe tbody tr th {\n",
       "        vertical-align: top;\n",
       "    }\n",
       "\n",
       "    .dataframe thead th {\n",
       "        text-align: right;\n",
       "    }\n",
       "</style>\n",
       "<table border=\"1\" class=\"dataframe\">\n",
       "  <thead>\n",
       "    <tr style=\"text-align: right;\">\n",
       "      <th></th>\n",
       "      <th>num_clusters</th>\n",
       "      <th>method</th>\n",
       "      <th>SC_score</th>\n",
       "      <th>DB_score</th>\n",
       "      <th>CH_score</th>\n",
       "    </tr>\n",
       "  </thead>\n",
       "  <tbody>\n",
       "    <tr>\n",
       "      <th>0</th>\n",
       "      <td>2</td>\n",
       "      <td>K-Means</td>\n",
       "      <td>0.307621</td>\n",
       "      <td>1.267725</td>\n",
       "      <td>174.104884</td>\n",
       "    </tr>\n",
       "    <tr>\n",
       "      <th>1</th>\n",
       "      <td>2</td>\n",
       "      <td>Agglomerative</td>\n",
       "      <td>0.290945</td>\n",
       "      <td>1.279138</td>\n",
       "      <td>159.821505</td>\n",
       "    </tr>\n",
       "    <tr>\n",
       "      <th>2</th>\n",
       "      <td>2</td>\n",
       "      <td>GMM</td>\n",
       "      <td>0.302283</td>\n",
       "      <td>1.268701</td>\n",
       "      <td>169.805479</td>\n",
       "    </tr>\n",
       "    <tr>\n",
       "      <th>0</th>\n",
       "      <td>3</td>\n",
       "      <td>K-Means</td>\n",
       "      <td>0.269241</td>\n",
       "      <td>1.358789</td>\n",
       "      <td>159.134213</td>\n",
       "    </tr>\n",
       "    <tr>\n",
       "      <th>1</th>\n",
       "      <td>3</td>\n",
       "      <td>Agglomerative</td>\n",
       "      <td>0.268112</td>\n",
       "      <td>1.313811</td>\n",
       "      <td>148.607605</td>\n",
       "    </tr>\n",
       "    <tr>\n",
       "      <th>2</th>\n",
       "      <td>3</td>\n",
       "      <td>GMM</td>\n",
       "      <td>0.269241</td>\n",
       "      <td>1.358789</td>\n",
       "      <td>159.134213</td>\n",
       "    </tr>\n",
       "    <tr>\n",
       "      <th>0</th>\n",
       "      <td>4</td>\n",
       "      <td>K-Means</td>\n",
       "      <td>0.229860</td>\n",
       "      <td>1.789675</td>\n",
       "      <td>122.801617</td>\n",
       "    </tr>\n",
       "    <tr>\n",
       "      <th>1</th>\n",
       "      <td>4</td>\n",
       "      <td>Agglomerative</td>\n",
       "      <td>0.257637</td>\n",
       "      <td>1.460274</td>\n",
       "      <td>127.187152</td>\n",
       "    </tr>\n",
       "    <tr>\n",
       "      <th>2</th>\n",
       "      <td>4</td>\n",
       "      <td>GMM</td>\n",
       "      <td>0.223300</td>\n",
       "      <td>1.797093</td>\n",
       "      <td>122.553475</td>\n",
       "    </tr>\n",
       "    <tr>\n",
       "      <th>0</th>\n",
       "      <td>5</td>\n",
       "      <td>K-Means</td>\n",
       "      <td>0.229698</td>\n",
       "      <td>1.515830</td>\n",
       "      <td>114.694738</td>\n",
       "    </tr>\n",
       "    <tr>\n",
       "      <th>1</th>\n",
       "      <td>5</td>\n",
       "      <td>Agglomerative</td>\n",
       "      <td>0.263778</td>\n",
       "      <td>1.231404</td>\n",
       "      <td>118.054696</td>\n",
       "    </tr>\n",
       "    <tr>\n",
       "      <th>2</th>\n",
       "      <td>5</td>\n",
       "      <td>GMM</td>\n",
       "      <td>0.236778</td>\n",
       "      <td>1.402841</td>\n",
       "      <td>113.553242</td>\n",
       "    </tr>\n",
       "    <tr>\n",
       "      <th>0</th>\n",
       "      <td>6</td>\n",
       "      <td>K-Means</td>\n",
       "      <td>0.239601</td>\n",
       "      <td>1.454940</td>\n",
       "      <td>115.185215</td>\n",
       "    </tr>\n",
       "    <tr>\n",
       "      <th>1</th>\n",
       "      <td>6</td>\n",
       "      <td>Agglomerative</td>\n",
       "      <td>0.250363</td>\n",
       "      <td>1.460171</td>\n",
       "      <td>108.679506</td>\n",
       "    </tr>\n",
       "    <tr>\n",
       "      <th>2</th>\n",
       "      <td>6</td>\n",
       "      <td>GMM</td>\n",
       "      <td>0.236208</td>\n",
       "      <td>1.559622</td>\n",
       "      <td>105.090640</td>\n",
       "    </tr>\n",
       "    <tr>\n",
       "      <th>0</th>\n",
       "      <td>7</td>\n",
       "      <td>K-Means</td>\n",
       "      <td>0.241332</td>\n",
       "      <td>1.481357</td>\n",
       "      <td>103.050630</td>\n",
       "    </tr>\n",
       "    <tr>\n",
       "      <th>1</th>\n",
       "      <td>7</td>\n",
       "      <td>Agglomerative</td>\n",
       "      <td>0.243157</td>\n",
       "      <td>1.513606</td>\n",
       "      <td>100.749684</td>\n",
       "    </tr>\n",
       "    <tr>\n",
       "      <th>2</th>\n",
       "      <td>7</td>\n",
       "      <td>GMM</td>\n",
       "      <td>0.241958</td>\n",
       "      <td>1.394416</td>\n",
       "      <td>103.516786</td>\n",
       "    </tr>\n",
       "    <tr>\n",
       "      <th>0</th>\n",
       "      <td>8</td>\n",
       "      <td>K-Means</td>\n",
       "      <td>0.224635</td>\n",
       "      <td>1.575806</td>\n",
       "      <td>94.887785</td>\n",
       "    </tr>\n",
       "    <tr>\n",
       "      <th>1</th>\n",
       "      <td>8</td>\n",
       "      <td>Agglomerative</td>\n",
       "      <td>0.239635</td>\n",
       "      <td>1.440534</td>\n",
       "      <td>91.736572</td>\n",
       "    </tr>\n",
       "    <tr>\n",
       "      <th>2</th>\n",
       "      <td>8</td>\n",
       "      <td>GMM</td>\n",
       "      <td>0.193852</td>\n",
       "      <td>1.632962</td>\n",
       "      <td>92.673803</td>\n",
       "    </tr>\n",
       "    <tr>\n",
       "      <th>0</th>\n",
       "      <td>9</td>\n",
       "      <td>K-Means</td>\n",
       "      <td>0.216715</td>\n",
       "      <td>1.676599</td>\n",
       "      <td>86.615548</td>\n",
       "    </tr>\n",
       "    <tr>\n",
       "      <th>1</th>\n",
       "      <td>9</td>\n",
       "      <td>Agglomerative</td>\n",
       "      <td>0.233039</td>\n",
       "      <td>1.390687</td>\n",
       "      <td>84.412420</td>\n",
       "    </tr>\n",
       "    <tr>\n",
       "      <th>2</th>\n",
       "      <td>9</td>\n",
       "      <td>GMM</td>\n",
       "      <td>0.216801</td>\n",
       "      <td>1.606290</td>\n",
       "      <td>87.400878</td>\n",
       "    </tr>\n",
       "    <tr>\n",
       "      <th>0</th>\n",
       "      <td>10</td>\n",
       "      <td>K-Means</td>\n",
       "      <td>0.188830</td>\n",
       "      <td>1.743424</td>\n",
       "      <td>81.054500</td>\n",
       "    </tr>\n",
       "    <tr>\n",
       "      <th>1</th>\n",
       "      <td>10</td>\n",
       "      <td>Agglomerative</td>\n",
       "      <td>0.215062</td>\n",
       "      <td>1.415068</td>\n",
       "      <td>78.955196</td>\n",
       "    </tr>\n",
       "    <tr>\n",
       "      <th>2</th>\n",
       "      <td>10</td>\n",
       "      <td>GMM</td>\n",
       "      <td>0.173268</td>\n",
       "      <td>1.647503</td>\n",
       "      <td>78.668498</td>\n",
       "    </tr>\n",
       "    <tr>\n",
       "      <th>0</th>\n",
       "      <td>11</td>\n",
       "      <td>K-Means</td>\n",
       "      <td>0.178876</td>\n",
       "      <td>1.724123</td>\n",
       "      <td>77.748236</td>\n",
       "    </tr>\n",
       "    <tr>\n",
       "      <th>1</th>\n",
       "      <td>11</td>\n",
       "      <td>Agglomerative</td>\n",
       "      <td>0.192062</td>\n",
       "      <td>1.540013</td>\n",
       "      <td>74.390703</td>\n",
       "    </tr>\n",
       "    <tr>\n",
       "      <th>2</th>\n",
       "      <td>11</td>\n",
       "      <td>GMM</td>\n",
       "      <td>0.161614</td>\n",
       "      <td>1.805036</td>\n",
       "      <td>77.355683</td>\n",
       "    </tr>\n",
       "    <tr>\n",
       "      <th>0</th>\n",
       "      <td>12</td>\n",
       "      <td>K-Means</td>\n",
       "      <td>0.180512</td>\n",
       "      <td>1.617700</td>\n",
       "      <td>72.488151</td>\n",
       "    </tr>\n",
       "    <tr>\n",
       "      <th>1</th>\n",
       "      <td>12</td>\n",
       "      <td>Agglomerative</td>\n",
       "      <td>0.173415</td>\n",
       "      <td>1.793704</td>\n",
       "      <td>70.408141</td>\n",
       "    </tr>\n",
       "    <tr>\n",
       "      <th>2</th>\n",
       "      <td>12</td>\n",
       "      <td>GMM</td>\n",
       "      <td>0.170372</td>\n",
       "      <td>1.727096</td>\n",
       "      <td>68.010148</td>\n",
       "    </tr>\n",
       "    <tr>\n",
       "      <th>0</th>\n",
       "      <td>13</td>\n",
       "      <td>K-Means</td>\n",
       "      <td>0.166196</td>\n",
       "      <td>1.724761</td>\n",
       "      <td>67.607158</td>\n",
       "    </tr>\n",
       "    <tr>\n",
       "      <th>1</th>\n",
       "      <td>13</td>\n",
       "      <td>Agglomerative</td>\n",
       "      <td>0.149658</td>\n",
       "      <td>1.820251</td>\n",
       "      <td>66.984131</td>\n",
       "    </tr>\n",
       "    <tr>\n",
       "      <th>2</th>\n",
       "      <td>13</td>\n",
       "      <td>GMM</td>\n",
       "      <td>0.148351</td>\n",
       "      <td>1.694559</td>\n",
       "      <td>65.312939</td>\n",
       "    </tr>\n",
       "    <tr>\n",
       "      <th>0</th>\n",
       "      <td>14</td>\n",
       "      <td>K-Means</td>\n",
       "      <td>0.163148</td>\n",
       "      <td>1.697741</td>\n",
       "      <td>64.196882</td>\n",
       "    </tr>\n",
       "    <tr>\n",
       "      <th>1</th>\n",
       "      <td>14</td>\n",
       "      <td>Agglomerative</td>\n",
       "      <td>0.151780</td>\n",
       "      <td>1.737278</td>\n",
       "      <td>63.968878</td>\n",
       "    </tr>\n",
       "    <tr>\n",
       "      <th>2</th>\n",
       "      <td>14</td>\n",
       "      <td>GMM</td>\n",
       "      <td>0.163433</td>\n",
       "      <td>1.612662</td>\n",
       "      <td>65.578129</td>\n",
       "    </tr>\n",
       "    <tr>\n",
       "      <th>0</th>\n",
       "      <td>15</td>\n",
       "      <td>K-Means</td>\n",
       "      <td>0.160506</td>\n",
       "      <td>1.650415</td>\n",
       "      <td>60.695231</td>\n",
       "    </tr>\n",
       "    <tr>\n",
       "      <th>1</th>\n",
       "      <td>15</td>\n",
       "      <td>Agglomerative</td>\n",
       "      <td>0.153943</td>\n",
       "      <td>1.644363</td>\n",
       "      <td>61.117635</td>\n",
       "    </tr>\n",
       "    <tr>\n",
       "      <th>2</th>\n",
       "      <td>15</td>\n",
       "      <td>GMM</td>\n",
       "      <td>0.141707</td>\n",
       "      <td>1.756837</td>\n",
       "      <td>61.066884</td>\n",
       "    </tr>\n",
       "  </tbody>\n",
       "</table>\n",
       "</div>"
      ],
      "text/plain": [
       "  num_clusters         method  SC_score  DB_score    CH_score\n",
       "0            2        K-Means  0.307621  1.267725  174.104884\n",
       "1            2  Agglomerative  0.290945  1.279138  159.821505\n",
       "2            2            GMM  0.302283  1.268701  169.805479\n",
       "0            3        K-Means  0.269241  1.358789  159.134213\n",
       "1            3  Agglomerative  0.268112  1.313811  148.607605\n",
       "2            3            GMM  0.269241  1.358789  159.134213\n",
       "0            4        K-Means  0.229860  1.789675  122.801617\n",
       "1            4  Agglomerative  0.257637  1.460274  127.187152\n",
       "2            4            GMM  0.223300  1.797093  122.553475\n",
       "0            5        K-Means  0.229698  1.515830  114.694738\n",
       "1            5  Agglomerative  0.263778  1.231404  118.054696\n",
       "2            5            GMM  0.236778  1.402841  113.553242\n",
       "0            6        K-Means  0.239601  1.454940  115.185215\n",
       "1            6  Agglomerative  0.250363  1.460171  108.679506\n",
       "2            6            GMM  0.236208  1.559622  105.090640\n",
       "0            7        K-Means  0.241332  1.481357  103.050630\n",
       "1            7  Agglomerative  0.243157  1.513606  100.749684\n",
       "2            7            GMM  0.241958  1.394416  103.516786\n",
       "0            8        K-Means  0.224635  1.575806   94.887785\n",
       "1            8  Agglomerative  0.239635  1.440534   91.736572\n",
       "2            8            GMM  0.193852  1.632962   92.673803\n",
       "0            9        K-Means  0.216715  1.676599   86.615548\n",
       "1            9  Agglomerative  0.233039  1.390687   84.412420\n",
       "2            9            GMM  0.216801  1.606290   87.400878\n",
       "0           10        K-Means  0.188830  1.743424   81.054500\n",
       "1           10  Agglomerative  0.215062  1.415068   78.955196\n",
       "2           10            GMM  0.173268  1.647503   78.668498\n",
       "0           11        K-Means  0.178876  1.724123   77.748236\n",
       "1           11  Agglomerative  0.192062  1.540013   74.390703\n",
       "2           11            GMM  0.161614  1.805036   77.355683\n",
       "0           12        K-Means  0.180512  1.617700   72.488151\n",
       "1           12  Agglomerative  0.173415  1.793704   70.408141\n",
       "2           12            GMM  0.170372  1.727096   68.010148\n",
       "0           13        K-Means  0.166196  1.724761   67.607158\n",
       "1           13  Agglomerative  0.149658  1.820251   66.984131\n",
       "2           13            GMM  0.148351  1.694559   65.312939\n",
       "0           14        K-Means  0.163148  1.697741   64.196882\n",
       "1           14  Agglomerative  0.151780  1.737278   63.968878\n",
       "2           14            GMM  0.163433  1.612662   65.578129\n",
       "0           15        K-Means  0.160506  1.650415   60.695231\n",
       "1           15  Agglomerative  0.153943  1.644363   61.117635\n",
       "2           15            GMM  0.141707  1.756837   61.066884"
      ]
     },
     "execution_count": 19,
     "metadata": {},
     "output_type": "execute_result"
    }
   ],
   "source": [
    "from sklearn.metrics import calinski_harabasz_score, silhouette_score, davies_bouldin_score\n",
    "\n",
    "vect_clusters = [2,3,4,5,6,7,8,9,10,11,12,13,14,15]\n",
    "clusters = None\n",
    "\n",
    "#print(np.where(nans_per_day > 0)[0])\n",
    "vectorized_day_dataset_no_nans = vectorized_day_dataset[np.where(nans_per_day == 0)[0],:]\n",
    "days_not_nans = days[np.where(nans_per_day == 0)[0]]\n",
    "\n",
    "num_clusters_df = pd.DataFrame(columns = [\"num_clusters\", \"method\", \"SC_score\",\n",
    "                                          \"DB_score\", \"CH_score\"])\n",
    "\n",
    "for n_clusters in vect_clusters:\n",
    "    clusters_k_means = KMeans(n_clusters=n_clusters, random_state=0, n_init=\"auto\").fit(vectorized_day_dataset_no_nans) # check the parameters at https://scikit-learn.org/stable/modules/generated/sklearn.cluster.KMeans.html\n",
    "    clusters_agg = AgglomerativeClustering(n_clusters=n_clusters,metric='euclidean', linkage='ward').fit(vectorized_day_dataset_no_nans) # check the parameters at https://scikit-learn.org/stable/modules/generated/sklearn.cluster.AgglomerativeClustering.html\n",
    "\n",
    "    cluster_labels_k_means = clusters_k_means.labels_\n",
    "    cluster_labels_agg = clusters_agg.labels_\n",
    "    cluster_labels_gmm = GaussianMixture(n_components=n_clusters).fit(vectorized_day_dataset_no_nans).predict(vectorized_day_dataset_no_nans) #check the parameters at  https://scikit-learn.org/stable/auto_examples/mixture/plot_gmm_init.html#sphx-glr-auto-examples-mixture-plot-gmm-init-py\n",
    "\n",
    "    SC_score_k_means = silhouette_score(vectorized_day_dataset_no_nans, cluster_labels_k_means)\n",
    "    DB_score_k_means = davies_bouldin_score(vectorized_day_dataset_no_nans, cluster_labels_k_means)\n",
    "    CH_score_k_means = calinski_harabasz_score(vectorized_day_dataset_no_nans, cluster_labels_k_means)\n",
    "\n",
    "    SC_score_agg = silhouette_score(vectorized_day_dataset_no_nans, cluster_labels_agg)\n",
    "    DB_score_agg= davies_bouldin_score(vectorized_day_dataset_no_nans, cluster_labels_agg)\n",
    "    CH_score_agg = calinski_harabasz_score(vectorized_day_dataset_no_nans, cluster_labels_agg)\n",
    "\n",
    "    SC_score_gmm = silhouette_score(vectorized_day_dataset_no_nans, cluster_labels_gmm)\n",
    "    DB_score_gmm = davies_bouldin_score(vectorized_day_dataset_no_nans, cluster_labels_gmm)\n",
    "    CH_score_gmm = calinski_harabasz_score(vectorized_day_dataset_no_nans, cluster_labels_gmm)\n",
    "\n",
    "\n",
    "    n_cluster_df = pd.DataFrame(data=[[n_clusters, \"K-Means\" ,SC_score_k_means,DB_score_k_means,CH_score_k_means],\n",
    "                               [n_clusters, \"Agglomerative\" ,SC_score_agg,DB_score_agg,CH_score_agg], \n",
    "                               [n_clusters, \"GMM\" ,SC_score_gmm, DB_score_gmm, CH_score_gmm]], columns = [\"num_clusters\", \"method\", \"SC_score\",\n",
    "                                          \"DB_score\", \"CH_score\"])\n",
    "    \n",
    "    num_clusters_df = pd.concat([num_clusters_df, n_cluster_df], axis=0)\n",
    "    \n",
    "num_clusters_df"
   ]
  },
  {
   "cell_type": "code",
   "execution_count": 20,
   "metadata": {},
   "outputs": [
    {
     "data": {
      "text/plain": [
       "Text(0.5, 1.0, 'Calinski Harabasz Score')"
      ]
     },
     "execution_count": 20,
     "metadata": {},
     "output_type": "execute_result"
    },
    {
     "data": {
      "image/png": "[encoded data removed]",
      "text/plain": [
       "<Figure size 640x480 with 1 Axes>"
      ]
     },
     "metadata": {},
     "output_type": "display_data"
    },
    {
     "data": {
      "image/png": "[encoded data removed]",
      "text/plain": [
       "<Figure size 640x480 with 1 Axes>"
      ]
     },
     "metadata": {},
     "output_type": "display_data"
    },
    {
     "data": {
      "image/png": "[encoded data removed]",
      "text/plain": [
       "<Figure size 640x480 with 1 Axes>"
      ]
     },
     "metadata": {},
     "output_type": "display_data"
    }
   ],
   "source": [
    "import seaborn as sns\n",
    "\n",
    "plt.figure()\n",
    "sns.lineplot(\n",
    "    data=num_clusters_df,\n",
    "    x=\"num_clusters\",\n",
    "    y=\"SC_score\",\n",
    "    hue=\"method\",\n",
    "    marker=\"o\"\n",
    ")\n",
    "plt.title(\"Sillhouete Score\")\n",
    "\n",
    "plt.figure()\n",
    "sns.lineplot(\n",
    "    data=num_clusters_df,\n",
    "    x=\"num_clusters\",\n",
    "    y=\"DB_score\",\n",
    "    hue=\"method\",\n",
    "    marker=\"o\"\n",
    ")\n",
    "plt.title(\"Davies Bouldin Score\")\n",
    "\n",
    "plt.figure()\n",
    "sns.lineplot(\n",
    "    data=num_clusters_df,\n",
    "    x=\"num_clusters\",\n",
    "    y=\"CH_score\",\n",
    "    hue=\"method\",\n",
    "    marker=\"o\"\n",
    ")\n",
    "plt.title(\"Calinski Harabasz Score\")\n"
   ]
  },
  {
   "cell_type": "code",
   "execution_count": 22,
   "metadata": {},
   "outputs": [
    {
     "name": "stdout",
     "output_type": "stream",
     "text": [
      "cluster_id_weekdays_share [3, 108, 68, 6, 51]\n",
      "cluster_id_weekend_share [60, 0, 0, 20, 21]\n",
      "111\n"
     ]
    },
    {
     "data": {
      "image/png": "[encoded data removed]",
      "text/plain": [
       "<Figure size 800x150 with 1 Axes>"
      ]
     },
     "metadata": {},
     "output_type": "display_data"
    }
   ],
   "source": [
    "## Plot resulting clusters\n",
    "number_clusters = 5\n",
    "\n",
    "cluster_labels = GaussianMixture(n_components=number_clusters).fit(vectorized_day_dataset_no_nans).predict(vectorized_day_dataset_no_nans) #check the parameters at  https://scikit-learn.org/stable/auto_examples/mixture/plot_gmm_init.html#sphx-glr-auto-examples-mixture-plot-gmm-init-py# Calculate the number of clusters by finding unique values in 'cluster_labels'\n",
    "#clusters = KMeans(n_clusters=number_clusters, random_state=0, n_init=\"auto\").fit(vectorized_day_dataset_no_nans) # check the parameters at https://scikit-learn.org/stable/modules/generated/sklearn.cluster.KMeans.html\n",
    "#cluster_labels = clusters.labels_\n",
    "\n",
    "n_clusters_t = len(np.unique(cluster_labels))\n",
    "\n",
    "days_colors, color_to_cluster, style_to_cluster = assign_colors(n_clusters_t, days_not_nans, cluster_labels)\n",
    "# The function 'assign_colors' is used to determine colors and styles for visualization.\n",
    "\n",
    "# Create a calendar visualization figure\n",
    "make_calendar_visualization_figure(days_not_nans, cluster_labels, n_clusters_t, [2021], days_colors,\n",
    "                                   color_to_cluster, save_figure=None)\n",
    "# This function 'make_calendar_visualization_figure' is used to generate a visualization based on the provided data and parameters.\n",
    "# 'days_not_nans' are the days, 'cluster_labels' are the cluster labels, 'n_clusters_t' is the number of clusters,\n",
    "# '[2021]' represents the year, 'days_colors' represent the assigned colors for each day, 'color_to_cluster' maps colors to clusters,\n",
    "# and 'save_figure' is an optional parameter to save the generated figure (can be None if not saving)."
   ]
  },
  {
   "cell_type": "code",
   "execution_count": null,
   "metadata": {},
   "outputs": [
    {
     "name": "stderr",
     "output_type": "stream",
     "text": [
      "C:\\Users\\jemaa\\AppData\\Local\\Temp\\ipykernel_3764\\1916952492.py:27: FutureWarning: The behavior of DataFrame concatenation with empty or all-NA entries is deprecated. In a future version, this will no longer exclude empty or all-NA columns when determining the result dtypes. To retain the old behavior, exclude the relevant entries before the concat operation.\n",
      "  dbscan_df = pd.concat([dbscan_df, new_dbscan_df], axis=0)\n"
     ]
    },
    {
     "data": {
      "application/vnd.microsoft.datawrangler.viewer.v0+json": {
       "columns": [
        {
         "name": "index",
         "rawType": "int64",
         "type": "integer"
        },
        {
         "name": "eps",
         "rawType": "object",
         "type": "unknown"
        },
        {
         "name": "min_samples",
         "rawType": "object",
         "type": "unknown"
        },
        {
         "name": "num_clusters",
         "rawType": "object",
         "type": "unknown"
        },
        {
         "name": "SC_score",
         "rawType": "float64",
         "type": "float"
        },
        {
         "name": "DB_score",
         "rawType": "float64",
         "type": "float"
        },
        {
         "name": "CH_score",
         "rawType": "float64",
         "type": "float"
        }
       ],
       "ref": "c732b0b8-189d-4d78-8e42-83d7fdee5f83",
       "rows": [
        [
         "0",
         "400",
         "2",
         "13",
         "-0.26410623387663185",
         "1.5815951620091844",
         "5.733530307241479"
        ],
        [
         "0",
         "400",
         "3",
         "9",
         "-0.2598312999407931",
         "1.7136832344015955",
         "7.555521812919324"
        ],
        [
         "0",
         "400",
         "4",
         "6",
         "-0.28617595532331136",
         "1.7809620706090599",
         "6.893147947718722"
        ],
        [
         "0",
         "400",
         "5",
         "3",
         "0.06937934663490246",
         "1.0935432977920796",
         "10.068327295898397"
        ],
        [
         "0",
         "500",
         "2",
         "7",
         "-0.02772100330028316",
         "2.379572091416308",
         "35.32790633175143"
        ],
        [
         "0",
         "500",
         "3",
         "7",
         "-0.02772100330028316",
         "2.379572091416308",
         "35.32790633175143"
        ],
        [
         "0",
         "500",
         "4",
         "8",
         "-0.08626688979370234",
         "2.167100015154213",
         "29.590313849579793"
        ],
        [
         "0",
         "500",
         "5",
         "6",
         "-0.03292934109604593",
         "2.308556400819587",
         "39.48673277064966"
        ],
        [
         "0",
         "500",
         "6",
         "6",
         "-0.05216977160448344",
         "2.2717313768244414",
         "36.47209620373899"
        ],
        [
         "0",
         "500",
         "7",
         "6",
         "-0.06128715206200303",
         "2.2395617894619395",
         "35.70945141149681"
        ],
        [
         "0",
         "500",
         "8",
         "8",
         "-0.13916309577442068",
         "2.229278623879938",
         "23.205504200863786"
        ],
        [
         "0",
         "500",
         "9",
         "8",
         "-0.19509212961837127",
         "2.1966646974961535",
         "19.521884288405474"
        ],
        [
         "0",
         "500",
         "10",
         "6",
         "-0.1877148841672483",
         "2.152105363897916",
         "23.882420228513674"
        ],
        [
         "0",
         "600",
         "2",
         "4",
         "-0.16186227929004296",
         "3.014417283481145",
         "8.644470169328441"
        ],
        [
         "0",
         "600",
         "3",
         "3",
         "-0.06057239379359187",
         "3.4156107201782464",
         "12.464270451188156"
        ],
        [
         "0",
         "600",
         "4",
         "3",
         "-0.06057239379359187",
         "3.4156107201782464",
         "12.464270451188156"
        ],
        [
         "0",
         "600",
         "5",
         "3",
         "-0.06521681782205292",
         "3.4667335216834956",
         "11.846426359964653"
        ],
        [
         "0",
         "600",
         "6",
         "3",
         "-0.0655080465685721",
         "3.4702360715732",
         "11.847410909008019"
        ],
        [
         "0",
         "600",
         "7",
         "3",
         "-0.0655080465685721",
         "3.4702360715732",
         "11.847410909008019"
        ],
        [
         "0",
         "600",
         "8",
         "3",
         "-0.06544023150081346",
         "3.4231822012081445",
         "11.678828529711335"
        ],
        [
         "0",
         "600",
         "9",
         "4",
         "0.06199565636008773",
         "2.281905403602316",
         "51.309542891437815"
        ],
        [
         "0",
         "600",
         "10",
         "4",
         "0.05602024025752227",
         "2.293026147321866",
         "49.316556502978116"
        ],
        [
         "0",
         "600",
         "15",
         "4",
         "0.14430149946180315",
         "2.0881989843698685",
         "73.13756983616766"
        ],
        [
         "0",
         "600",
         "30",
         "4",
         "0.08580989962044445",
         "1.6080461083480952",
         "68.47637090736477"
        ],
        [
         "0",
         "700",
         "2",
         "2",
         "0.16543201222710258",
         "4.1115666614355435",
         "10.057882293713005"
        ],
        [
         "0",
         "700",
         "3",
         "2",
         "0.16543201222710258",
         "4.1115666614355435",
         "10.057882293713005"
        ],
        [
         "0",
         "700",
         "4",
         "2",
         "0.16543201222710258",
         "4.1115666614355435",
         "10.057882293713005"
        ],
        [
         "0",
         "700",
         "5",
         "2",
         "0.16192882802841554",
         "4.146051952119209",
         "10.030623716075896"
        ],
        [
         "0",
         "700",
         "6",
         "2",
         "0.16192882802841554",
         "4.146051952119209",
         "10.030623716075896"
        ],
        [
         "0",
         "700",
         "7",
         "2",
         "0.15814938086417832",
         "4.1677974410046295",
         "10.037934057641484"
        ],
        [
         "0",
         "700",
         "8",
         "2",
         "0.16041422755529494",
         "4.266244746299728",
         "9.836080002034953"
        ],
        [
         "0",
         "700",
         "9",
         "2",
         "0.16041422755529494",
         "4.266244746299728",
         "9.836080002034953"
        ],
        [
         "0",
         "700",
         "10",
         "2",
         "0.16041422755529494",
         "4.266244746299728",
         "9.836080002034953"
        ],
        [
         "0",
         "700",
         "15",
         "2",
         "0.1590163402819332",
         "4.195443774540454",
         "10.490602188615458"
        ],
        [
         "0",
         "700",
         "30",
         "3",
         "0.20725763513041867",
         "2.1863296545929227",
         "84.15984958583157"
        ],
        [
         "0",
         "700",
         "50",
         "3",
         "0.11884764537399199",
         "1.8024259835160927",
         "64.60603105443121"
        ],
        [
         "0",
         "800",
         "2",
         "3",
         "0.10097709896644623",
         "2.801558151381285",
         "6.970070606152024"
        ],
        [
         "0",
         "800",
         "3",
         "2",
         "0.22928687047081595",
         "3.2925906631007176",
         "11.896283065969389"
        ],
        [
         "0",
         "800",
         "4",
         "2",
         "0.22928687047081595",
         "3.2925906631007176",
         "11.896283065969389"
        ],
        [
         "0",
         "800",
         "5",
         "2",
         "0.22928687047081595",
         "3.2925906631007176",
         "11.896283065969389"
        ],
        [
         "0",
         "800",
         "6",
         "2",
         "0.22279854374423474",
         "3.4576078382679576",
         "11.091512669027603"
        ],
        [
         "0",
         "800",
         "7",
         "2",
         "0.22279854374423474",
         "3.4576078382679576",
         "11.091512669027603"
        ],
        [
         "0",
         "800",
         "8",
         "2",
         "0.22279854374423474",
         "3.4576078382679576",
         "11.091512669027603"
        ],
        [
         "0",
         "800",
         "9",
         "2",
         "0.22279854374423474",
         "3.4576078382679576",
         "11.091512669027603"
        ],
        [
         "0",
         "800",
         "10",
         "2",
         "0.22279854374423474",
         "3.4576078382679576",
         "11.091512669027603"
        ],
        [
         "0",
         "800",
         "15",
         "2",
         "0.22279854374423474",
         "3.4576078382679576",
         "11.091512669027603"
        ],
        [
         "0",
         "800",
         "30",
         "2",
         "0.19380906322728816",
         "3.728187297764744",
         "10.446081447717264"
        ],
        [
         "0",
         "800",
         "50",
         "2",
         "0.14648239031399166",
         "4.2177161880106215",
         "11.058019996556105"
        ],
        [
         "0",
         "1000",
         "2",
         "3",
         "0.2835750981116442",
         "2.2254060141342302",
         "9.938030272461075"
        ],
        [
         "0",
         "1000",
         "3",
         "2",
         "0.34354697960895075",
         "2.4368464397800373",
         "11.023697758834574"
        ]
       ],
       "shape": {
        "columns": 6,
        "rows": 74
       }
      },
      "text/html": [
       "<div>\n",
       "<style scoped>\n",
       "    .dataframe tbody tr th:only-of-type {\n",
       "        vertical-align: middle;\n",
       "    }\n",
       "\n",
       "    .dataframe tbody tr th {\n",
       "        vertical-align: top;\n",
       "    }\n",
       "\n",
       "    .dataframe thead th {\n",
       "        text-align: right;\n",
       "    }\n",
       "</style>\n",
       "<table border=\"1\" class=\"dataframe\">\n",
       "  <thead>\n",
       "    <tr style=\"text-align: right;\">\n",
       "      <th></th>\n",
       "      <th>eps</th>\n",
       "      <th>min_samples</th>\n",
       "      <th>num_clusters</th>\n",
       "      <th>SC_score</th>\n",
       "      <th>DB_score</th>\n",
       "      <th>CH_score</th>\n",
       "    </tr>\n",
       "  </thead>\n",
       "  <tbody>\n",
       "    <tr>\n",
       "      <th>0</th>\n",
       "      <td>400</td>\n",
       "      <td>2</td>\n",
       "      <td>13</td>\n",
       "      <td>-0.264106</td>\n",
       "      <td>1.581595</td>\n",
       "      <td>5.733530</td>\n",
       "    </tr>\n",
       "    <tr>\n",
       "      <th>0</th>\n",
       "      <td>400</td>\n",
       "      <td>3</td>\n",
       "      <td>9</td>\n",
       "      <td>-0.259831</td>\n",
       "      <td>1.713683</td>\n",
       "      <td>7.555522</td>\n",
       "    </tr>\n",
       "    <tr>\n",
       "      <th>0</th>\n",
       "      <td>400</td>\n",
       "      <td>4</td>\n",
       "      <td>6</td>\n",
       "      <td>-0.286176</td>\n",
       "      <td>1.780962</td>\n",
       "      <td>6.893148</td>\n",
       "    </tr>\n",
       "    <tr>\n",
       "      <th>0</th>\n",
       "      <td>400</td>\n",
       "      <td>5</td>\n",
       "      <td>3</td>\n",
       "      <td>0.069379</td>\n",
       "      <td>1.093543</td>\n",
       "      <td>10.068327</td>\n",
       "    </tr>\n",
       "    <tr>\n",
       "      <th>0</th>\n",
       "      <td>500</td>\n",
       "      <td>2</td>\n",
       "      <td>7</td>\n",
       "      <td>-0.027721</td>\n",
       "      <td>2.379572</td>\n",
       "      <td>35.327906</td>\n",
       "    </tr>\n",
       "    <tr>\n",
       "      <th>...</th>\n",
       "      <td>...</td>\n",
       "      <td>...</td>\n",
       "      <td>...</td>\n",
       "      <td>...</td>\n",
       "      <td>...</td>\n",
       "      <td>...</td>\n",
       "    </tr>\n",
       "    <tr>\n",
       "      <th>0</th>\n",
       "      <td>1500</td>\n",
       "      <td>10</td>\n",
       "      <td>2</td>\n",
       "      <td>0.491689</td>\n",
       "      <td>1.028358</td>\n",
       "      <td>17.650820</td>\n",
       "    </tr>\n",
       "    <tr>\n",
       "      <th>0</th>\n",
       "      <td>1500</td>\n",
       "      <td>15</td>\n",
       "      <td>2</td>\n",
       "      <td>0.491689</td>\n",
       "      <td>1.028358</td>\n",
       "      <td>17.650820</td>\n",
       "    </tr>\n",
       "    <tr>\n",
       "      <th>0</th>\n",
       "      <td>1500</td>\n",
       "      <td>30</td>\n",
       "      <td>2</td>\n",
       "      <td>0.491689</td>\n",
       "      <td>1.028358</td>\n",
       "      <td>17.650820</td>\n",
       "    </tr>\n",
       "    <tr>\n",
       "      <th>0</th>\n",
       "      <td>1500</td>\n",
       "      <td>50</td>\n",
       "      <td>2</td>\n",
       "      <td>0.491689</td>\n",
       "      <td>1.028358</td>\n",
       "      <td>17.650820</td>\n",
       "    </tr>\n",
       "    <tr>\n",
       "      <th>0</th>\n",
       "      <td>1500</td>\n",
       "      <td>100</td>\n",
       "      <td>2</td>\n",
       "      <td>0.491689</td>\n",
       "      <td>1.028358</td>\n",
       "      <td>17.650820</td>\n",
       "    </tr>\n",
       "  </tbody>\n",
       "</table>\n",
       "<p>74 rows × 6 columns</p>\n",
       "</div>"
      ],
      "text/plain": [
       "     eps min_samples num_clusters  SC_score  DB_score   CH_score\n",
       "0    400           2           13 -0.264106  1.581595   5.733530\n",
       "0    400           3            9 -0.259831  1.713683   7.555522\n",
       "0    400           4            6 -0.286176  1.780962   6.893148\n",
       "0    400           5            3  0.069379  1.093543  10.068327\n",
       "0    500           2            7 -0.027721  2.379572  35.327906\n",
       "..   ...         ...          ...       ...       ...        ...\n",
       "0   1500          10            2  0.491689  1.028358  17.650820\n",
       "0   1500          15            2  0.491689  1.028358  17.650820\n",
       "0   1500          30            2  0.491689  1.028358  17.650820\n",
       "0   1500          50            2  0.491689  1.028358  17.650820\n",
       "0   1500         100            2  0.491689  1.028358  17.650820\n",
       "\n",
       "[74 rows x 6 columns]"
      ]
     },
     "execution_count": 23,
     "metadata": {},
     "output_type": "execute_result"
    }
   ],
   "source": [
    "### Finetune DBSCAN algorithm\n",
    "\n",
    "### Own made grid search\n",
    "eps_list = [400,500,600,700,800,1000,1500,3000]\n",
    "min_samples_list = [2,3,4,5,6,7,8,9,10,15,30,50,100,500]\n",
    "dbscan_df = pd.DataFrame(columns=[\"eps\", \"min_samples\", \"num_clusters\",\"SC_score\",\n",
    "                                          \"DB_score\", \"CH_score\"])\n",
    "\n",
    "for eps in eps_list:\n",
    "    for min_samples in min_samples_list:\n",
    "        clusters_dbscan = DBSCAN(eps=eps, min_samples = min_samples).fit(vectorized_day_dataset_no_nans)\n",
    "\n",
    "        clusters_labels_dbscan = clusters_dbscan.labels_\n",
    "\n",
    "        num_clusters = len(np.unique(clusters_labels_dbscan))\n",
    "        if  num_clusters == 1: # Only 1 cluster\n",
    "            continue\n",
    "        \n",
    "        SC_score_dbscan = silhouette_score(vectorized_day_dataset_no_nans, clusters_labels_dbscan)\n",
    "        DB_score_dbscan  = davies_bouldin_score(vectorized_day_dataset_no_nans, clusters_labels_dbscan)\n",
    "        CH_score_dbscan  = calinski_harabasz_score(vectorized_day_dataset_no_nans, clusters_labels_dbscan)\n",
    "\n",
    "        new_dbscan_df = pd.DataFrame(data=[[eps, min_samples , num_clusters,SC_score_dbscan,DB_score_dbscan,CH_score_dbscan]], \n",
    "                                     columns=[\"eps\", \"min_samples\",  \"num_clusters\", \"SC_score\",\n",
    "                                          \"DB_score\", \"CH_score\"])\n",
    "    \n",
    "        dbscan_df = pd.concat([dbscan_df, new_dbscan_df], axis=0)\n",
    "\n",
    "dbscan_df\n"
   ]
  },
  {
   "cell_type": "code",
   "execution_count": 24,
   "metadata": {},
   "outputs": [
    {
     "data": {
      "application/vnd.microsoft.datawrangler.viewer.v0+json": {
       "columns": [
        {
         "name": "index",
         "rawType": "int64",
         "type": "integer"
        },
        {
         "name": "eps",
         "rawType": "object",
         "type": "unknown"
        },
        {
         "name": "min_samples",
         "rawType": "object",
         "type": "unknown"
        },
        {
         "name": "num_clusters",
         "rawType": "object",
         "type": "unknown"
        },
        {
         "name": "SC_score",
         "rawType": "float64",
         "type": "float"
        },
        {
         "name": "DB_score",
         "rawType": "float64",
         "type": "float"
        },
        {
         "name": "CH_score",
         "rawType": "float64",
         "type": "float"
        }
       ],
       "ref": "e63a9f03-4314-4a16-9c3a-a27138f0c5c1",
       "rows": [
        [
         "0",
         "400",
         "2",
         "13",
         "-0.26410623387663185",
         "1.5815951620091844",
         "5.733530307241479"
        ],
        [
         "0",
         "400",
         "3",
         "9",
         "-0.2598312999407931",
         "1.7136832344015955",
         "7.555521812919324"
        ],
        [
         "0",
         "400",
         "4",
         "6",
         "-0.28617595532331136",
         "1.7809620706090599",
         "6.893147947718722"
        ],
        [
         "0",
         "400",
         "5",
         "3",
         "0.06937934663490246",
         "1.0935432977920796",
         "10.068327295898397"
        ],
        [
         "0",
         "500",
         "2",
         "7",
         "-0.02772100330028316",
         "2.379572091416308",
         "35.32790633175143"
        ],
        [
         "0",
         "500",
         "3",
         "7",
         "-0.02772100330028316",
         "2.379572091416308",
         "35.32790633175143"
        ],
        [
         "0",
         "500",
         "4",
         "8",
         "-0.08626688979370234",
         "2.167100015154213",
         "29.590313849579793"
        ],
        [
         "0",
         "500",
         "5",
         "6",
         "-0.03292934109604593",
         "2.308556400819587",
         "39.48673277064966"
        ],
        [
         "0",
         "500",
         "6",
         "6",
         "-0.05216977160448344",
         "2.2717313768244414",
         "36.47209620373899"
        ],
        [
         "0",
         "500",
         "7",
         "6",
         "-0.06128715206200303",
         "2.2395617894619395",
         "35.70945141149681"
        ],
        [
         "0",
         "500",
         "8",
         "8",
         "-0.13916309577442068",
         "2.229278623879938",
         "23.205504200863786"
        ],
        [
         "0",
         "500",
         "9",
         "8",
         "-0.19509212961837127",
         "2.1966646974961535",
         "19.521884288405474"
        ],
        [
         "0",
         "500",
         "10",
         "6",
         "-0.1877148841672483",
         "2.152105363897916",
         "23.882420228513674"
        ],
        [
         "0",
         "600",
         "2",
         "4",
         "-0.16186227929004296",
         "3.014417283481145",
         "8.644470169328441"
        ],
        [
         "0",
         "600",
         "3",
         "3",
         "-0.06057239379359187",
         "3.4156107201782464",
         "12.464270451188156"
        ],
        [
         "0",
         "600",
         "4",
         "3",
         "-0.06057239379359187",
         "3.4156107201782464",
         "12.464270451188156"
        ],
        [
         "0",
         "600",
         "5",
         "3",
         "-0.06521681782205292",
         "3.4667335216834956",
         "11.846426359964653"
        ],
        [
         "0",
         "600",
         "6",
         "3",
         "-0.0655080465685721",
         "3.4702360715732",
         "11.847410909008019"
        ],
        [
         "0",
         "600",
         "7",
         "3",
         "-0.0655080465685721",
         "3.4702360715732",
         "11.847410909008019"
        ],
        [
         "0",
         "600",
         "8",
         "3",
         "-0.06544023150081346",
         "3.4231822012081445",
         "11.678828529711335"
        ],
        [
         "0",
         "600",
         "9",
         "4",
         "0.06199565636008773",
         "2.281905403602316",
         "51.309542891437815"
        ],
        [
         "0",
         "600",
         "10",
         "4",
         "0.05602024025752227",
         "2.293026147321866",
         "49.316556502978116"
        ],
        [
         "0",
         "600",
         "15",
         "4",
         "0.14430149946180315",
         "2.0881989843698685",
         "73.13756983616766"
        ],
        [
         "0",
         "600",
         "30",
         "4",
         "0.08580989962044445",
         "1.6080461083480952",
         "68.47637090736477"
        ],
        [
         "0",
         "700",
         "30",
         "3",
         "0.20725763513041867",
         "2.1863296545929227",
         "84.15984958583157"
        ],
        [
         "0",
         "700",
         "50",
         "3",
         "0.11884764537399199",
         "1.8024259835160927",
         "64.60603105443121"
        ],
        [
         "0",
         "800",
         "2",
         "3",
         "0.10097709896644623",
         "2.801558151381285",
         "6.970070606152024"
        ],
        [
         "0",
         "1000",
         "2",
         "3",
         "0.2835750981116442",
         "2.2254060141342302",
         "9.938030272461075"
        ],
        [
         "0",
         "1500",
         "2",
         "3",
         "0.32834409658989633",
         "0.5756930454509807",
         "11.985172961219988"
        ],
        [
         "0",
         "1500",
         "3",
         "3",
         "0.32834409658989633",
         "0.5756930454509807",
         "11.985172961219988"
        ]
       ],
       "shape": {
        "columns": 6,
        "rows": 30
       }
      },
      "text/html": [
       "<div>\n",
       "<style scoped>\n",
       "    .dataframe tbody tr th:only-of-type {\n",
       "        vertical-align: middle;\n",
       "    }\n",
       "\n",
       "    .dataframe tbody tr th {\n",
       "        vertical-align: top;\n",
       "    }\n",
       "\n",
       "    .dataframe thead th {\n",
       "        text-align: right;\n",
       "    }\n",
       "</style>\n",
       "<table border=\"1\" class=\"dataframe\">\n",
       "  <thead>\n",
       "    <tr style=\"text-align: right;\">\n",
       "      <th></th>\n",
       "      <th>eps</th>\n",
       "      <th>min_samples</th>\n",
       "      <th>num_clusters</th>\n",
       "      <th>SC_score</th>\n",
       "      <th>DB_score</th>\n",
       "      <th>CH_score</th>\n",
       "    </tr>\n",
       "  </thead>\n",
       "  <tbody>\n",
       "    <tr>\n",
       "      <th>0</th>\n",
       "      <td>400</td>\n",
       "      <td>2</td>\n",
       "      <td>13</td>\n",
       "      <td>-0.264106</td>\n",
       "      <td>1.581595</td>\n",
       "      <td>5.733530</td>\n",
       "    </tr>\n",
       "    <tr>\n",
       "      <th>0</th>\n",
       "      <td>400</td>\n",
       "      <td>3</td>\n",
       "      <td>9</td>\n",
       "      <td>-0.259831</td>\n",
       "      <td>1.713683</td>\n",
       "      <td>7.555522</td>\n",
       "    </tr>\n",
       "    <tr>\n",
       "      <th>0</th>\n",
       "      <td>400</td>\n",
       "      <td>4</td>\n",
       "      <td>6</td>\n",
       "      <td>-0.286176</td>\n",
       "      <td>1.780962</td>\n",
       "      <td>6.893148</td>\n",
       "    </tr>\n",
       "    <tr>\n",
       "      <th>0</th>\n",
       "      <td>400</td>\n",
       "      <td>5</td>\n",
       "      <td>3</td>\n",
       "      <td>0.069379</td>\n",
       "      <td>1.093543</td>\n",
       "      <td>10.068327</td>\n",
       "    </tr>\n",
       "    <tr>\n",
       "      <th>0</th>\n",
       "      <td>500</td>\n",
       "      <td>2</td>\n",
       "      <td>7</td>\n",
       "      <td>-0.027721</td>\n",
       "      <td>2.379572</td>\n",
       "      <td>35.327906</td>\n",
       "    </tr>\n",
       "    <tr>\n",
       "      <th>0</th>\n",
       "      <td>500</td>\n",
       "      <td>3</td>\n",
       "      <td>7</td>\n",
       "      <td>-0.027721</td>\n",
       "      <td>2.379572</td>\n",
       "      <td>35.327906</td>\n",
       "    </tr>\n",
       "    <tr>\n",
       "      <th>0</th>\n",
       "      <td>500</td>\n",
       "      <td>4</td>\n",
       "      <td>8</td>\n",
       "      <td>-0.086267</td>\n",
       "      <td>2.167100</td>\n",
       "      <td>29.590314</td>\n",
       "    </tr>\n",
       "    <tr>\n",
       "      <th>0</th>\n",
       "      <td>500</td>\n",
       "      <td>5</td>\n",
       "      <td>6</td>\n",
       "      <td>-0.032929</td>\n",
       "      <td>2.308556</td>\n",
       "      <td>39.486733</td>\n",
       "    </tr>\n",
       "    <tr>\n",
       "      <th>0</th>\n",
       "      <td>500</td>\n",
       "      <td>6</td>\n",
       "      <td>6</td>\n",
       "      <td>-0.052170</td>\n",
       "      <td>2.271731</td>\n",
       "      <td>36.472096</td>\n",
       "    </tr>\n",
       "    <tr>\n",
       "      <th>0</th>\n",
       "      <td>500</td>\n",
       "      <td>7</td>\n",
       "      <td>6</td>\n",
       "      <td>-0.061287</td>\n",
       "      <td>2.239562</td>\n",
       "      <td>35.709451</td>\n",
       "    </tr>\n",
       "    <tr>\n",
       "      <th>0</th>\n",
       "      <td>500</td>\n",
       "      <td>8</td>\n",
       "      <td>8</td>\n",
       "      <td>-0.139163</td>\n",
       "      <td>2.229279</td>\n",
       "      <td>23.205504</td>\n",
       "    </tr>\n",
       "    <tr>\n",
       "      <th>0</th>\n",
       "      <td>500</td>\n",
       "      <td>9</td>\n",
       "      <td>8</td>\n",
       "      <td>-0.195092</td>\n",
       "      <td>2.196665</td>\n",
       "      <td>19.521884</td>\n",
       "    </tr>\n",
       "    <tr>\n",
       "      <th>0</th>\n",
       "      <td>500</td>\n",
       "      <td>10</td>\n",
       "      <td>6</td>\n",
       "      <td>-0.187715</td>\n",
       "      <td>2.152105</td>\n",
       "      <td>23.882420</td>\n",
       "    </tr>\n",
       "    <tr>\n",
       "      <th>0</th>\n",
       "      <td>600</td>\n",
       "      <td>2</td>\n",
       "      <td>4</td>\n",
       "      <td>-0.161862</td>\n",
       "      <td>3.014417</td>\n",
       "      <td>8.644470</td>\n",
       "    </tr>\n",
       "    <tr>\n",
       "      <th>0</th>\n",
       "      <td>600</td>\n",
       "      <td>3</td>\n",
       "      <td>3</td>\n",
       "      <td>-0.060572</td>\n",
       "      <td>3.415611</td>\n",
       "      <td>12.464270</td>\n",
       "    </tr>\n",
       "    <tr>\n",
       "      <th>0</th>\n",
       "      <td>600</td>\n",
       "      <td>4</td>\n",
       "      <td>3</td>\n",
       "      <td>-0.060572</td>\n",
       "      <td>3.415611</td>\n",
       "      <td>12.464270</td>\n",
       "    </tr>\n",
       "    <tr>\n",
       "      <th>0</th>\n",
       "      <td>600</td>\n",
       "      <td>5</td>\n",
       "      <td>3</td>\n",
       "      <td>-0.065217</td>\n",
       "      <td>3.466734</td>\n",
       "      <td>11.846426</td>\n",
       "    </tr>\n",
       "    <tr>\n",
       "      <th>0</th>\n",
       "      <td>600</td>\n",
       "      <td>6</td>\n",
       "      <td>3</td>\n",
       "      <td>-0.065508</td>\n",
       "      <td>3.470236</td>\n",
       "      <td>11.847411</td>\n",
       "    </tr>\n",
       "    <tr>\n",
       "      <th>0</th>\n",
       "      <td>600</td>\n",
       "      <td>7</td>\n",
       "      <td>3</td>\n",
       "      <td>-0.065508</td>\n",
       "      <td>3.470236</td>\n",
       "      <td>11.847411</td>\n",
       "    </tr>\n",
       "    <tr>\n",
       "      <th>0</th>\n",
       "      <td>600</td>\n",
       "      <td>8</td>\n",
       "      <td>3</td>\n",
       "      <td>-0.065440</td>\n",
       "      <td>3.423182</td>\n",
       "      <td>11.678829</td>\n",
       "    </tr>\n",
       "    <tr>\n",
       "      <th>0</th>\n",
       "      <td>600</td>\n",
       "      <td>9</td>\n",
       "      <td>4</td>\n",
       "      <td>0.061996</td>\n",
       "      <td>2.281905</td>\n",
       "      <td>51.309543</td>\n",
       "    </tr>\n",
       "    <tr>\n",
       "      <th>0</th>\n",
       "      <td>600</td>\n",
       "      <td>10</td>\n",
       "      <td>4</td>\n",
       "      <td>0.056020</td>\n",
       "      <td>2.293026</td>\n",
       "      <td>49.316557</td>\n",
       "    </tr>\n",
       "    <tr>\n",
       "      <th>0</th>\n",
       "      <td>600</td>\n",
       "      <td>15</td>\n",
       "      <td>4</td>\n",
       "      <td>0.144301</td>\n",
       "      <td>2.088199</td>\n",
       "      <td>73.137570</td>\n",
       "    </tr>\n",
       "    <tr>\n",
       "      <th>0</th>\n",
       "      <td>600</td>\n",
       "      <td>30</td>\n",
       "      <td>4</td>\n",
       "      <td>0.085810</td>\n",
       "      <td>1.608046</td>\n",
       "      <td>68.476371</td>\n",
       "    </tr>\n",
       "    <tr>\n",
       "      <th>0</th>\n",
       "      <td>700</td>\n",
       "      <td>30</td>\n",
       "      <td>3</td>\n",
       "      <td>0.207258</td>\n",
       "      <td>2.186330</td>\n",
       "      <td>84.159850</td>\n",
       "    </tr>\n",
       "    <tr>\n",
       "      <th>0</th>\n",
       "      <td>700</td>\n",
       "      <td>50</td>\n",
       "      <td>3</td>\n",
       "      <td>0.118848</td>\n",
       "      <td>1.802426</td>\n",
       "      <td>64.606031</td>\n",
       "    </tr>\n",
       "    <tr>\n",
       "      <th>0</th>\n",
       "      <td>800</td>\n",
       "      <td>2</td>\n",
       "      <td>3</td>\n",
       "      <td>0.100977</td>\n",
       "      <td>2.801558</td>\n",
       "      <td>6.970071</td>\n",
       "    </tr>\n",
       "    <tr>\n",
       "      <th>0</th>\n",
       "      <td>1000</td>\n",
       "      <td>2</td>\n",
       "      <td>3</td>\n",
       "      <td>0.283575</td>\n",
       "      <td>2.225406</td>\n",
       "      <td>9.938030</td>\n",
       "    </tr>\n",
       "    <tr>\n",
       "      <th>0</th>\n",
       "      <td>1500</td>\n",
       "      <td>2</td>\n",
       "      <td>3</td>\n",
       "      <td>0.328344</td>\n",
       "      <td>0.575693</td>\n",
       "      <td>11.985173</td>\n",
       "    </tr>\n",
       "    <tr>\n",
       "      <th>0</th>\n",
       "      <td>1500</td>\n",
       "      <td>3</td>\n",
       "      <td>3</td>\n",
       "      <td>0.328344</td>\n",
       "      <td>0.575693</td>\n",
       "      <td>11.985173</td>\n",
       "    </tr>\n",
       "  </tbody>\n",
       "</table>\n",
       "</div>"
      ],
      "text/plain": [
       "    eps min_samples num_clusters  SC_score  DB_score   CH_score\n",
       "0   400           2           13 -0.264106  1.581595   5.733530\n",
       "0   400           3            9 -0.259831  1.713683   7.555522\n",
       "0   400           4            6 -0.286176  1.780962   6.893148\n",
       "0   400           5            3  0.069379  1.093543  10.068327\n",
       "0   500           2            7 -0.027721  2.379572  35.327906\n",
       "0   500           3            7 -0.027721  2.379572  35.327906\n",
       "0   500           4            8 -0.086267  2.167100  29.590314\n",
       "0   500           5            6 -0.032929  2.308556  39.486733\n",
       "0   500           6            6 -0.052170  2.271731  36.472096\n",
       "0   500           7            6 -0.061287  2.239562  35.709451\n",
       "0   500           8            8 -0.139163  2.229279  23.205504\n",
       "0   500           9            8 -0.195092  2.196665  19.521884\n",
       "0   500          10            6 -0.187715  2.152105  23.882420\n",
       "0   600           2            4 -0.161862  3.014417   8.644470\n",
       "0   600           3            3 -0.060572  3.415611  12.464270\n",
       "0   600           4            3 -0.060572  3.415611  12.464270\n",
       "0   600           5            3 -0.065217  3.466734  11.846426\n",
       "0   600           6            3 -0.065508  3.470236  11.847411\n",
       "0   600           7            3 -0.065508  3.470236  11.847411\n",
       "0   600           8            3 -0.065440  3.423182  11.678829\n",
       "0   600           9            4  0.061996  2.281905  51.309543\n",
       "0   600          10            4  0.056020  2.293026  49.316557\n",
       "0   600          15            4  0.144301  2.088199  73.137570\n",
       "0   600          30            4  0.085810  1.608046  68.476371\n",
       "0   700          30            3  0.207258  2.186330  84.159850\n",
       "0   700          50            3  0.118848  1.802426  64.606031\n",
       "0   800           2            3  0.100977  2.801558   6.970071\n",
       "0  1000           2            3  0.283575  2.225406   9.938030\n",
       "0  1500           2            3  0.328344  0.575693  11.985173\n",
       "0  1500           3            3  0.328344  0.575693  11.985173"
      ]
     },
     "execution_count": 24,
     "metadata": {},
     "output_type": "execute_result"
    }
   ],
   "source": [
    "dbscan_df[dbscan_df[\"num_clusters\"] > 2]"
   ]
  },
  {
   "cell_type": "markdown",
   "metadata": {},
   "source": [
    "After observing the results, 3 different configurations seem to perform better on the internal evaluation:\n",
    "- eps = 1500 and min_samples = 2 with 3 clusters, highest Sillhouete Score and DB Score\n",
    "- eps = 700 and min_samples = 30 with 3 clusters, highest CH_score\n",
    "- eps = 600 and min_samples = 15 using 4 clusters, best perofrming configuration overall with more than 3 clusters"
   ]
  },
  {
   "cell_type": "code",
   "execution_count": 25,
   "metadata": {},
   "outputs": [
    {
     "name": "stdout",
     "output_type": "stream",
     "text": [
      "cluster_id_weekdays_share [8, 52, 73, 103]\n",
      "cluster_id_weekend_share [88, 0, 0, 13]\n",
      "111\n"
     ]
    },
    {
     "data": {
      "image/png": "[encoded data removed]",
      "text/plain": [
       "<Figure size 800x150 with 1 Axes>"
      ]
     },
     "metadata": {},
     "output_type": "display_data"
    }
   ],
   "source": [
    "clusters = DBSCAN(eps=600, min_samples = 15).fit(vectorized_day_dataset_no_nans)\n",
    "cluster_labels = clusters.labels_\n",
    "# Calculate the number of clusters by finding unique values in 'cluster_labels'\n",
    "n_clusters_t = len(np.unique(cluster_labels))\n",
    "\n",
    "# Assign colors to days based on clusters\n",
    "days_colors, color_to_cluster, style_to_cluster = assign_colors(n_clusters_t, days_not_nans, cluster_labels)\n",
    "# The function 'assign_colors' is used to determine colors and styles for visualization.\n",
    "\n",
    "# Create a calendar visualization figure\n",
    "make_calendar_visualization_figure(days_not_nans, cluster_labels, n_clusters_t, [2021], days_colors,\n",
    "                                   color_to_cluster, save_figure=None)\n",
    "# This function 'make_calendar_visualization_figure' is used to generate a visualization based on the provided data and parameters.\n",
    "# 'days_not_nans' are the days, 'cluster_labels' are the cluster labels, 'n_clusters_t' is the number of clusters,\n",
    "# '[2021]' represents the year, 'days_colors' represent the assigned colors for each day, 'color_to_cluster' maps colors to clusters,\n",
    "# and 'save_figure' is an optional parameter to save the generated figure (can be None if not saving)."
   ]
  },
  {
   "cell_type": "markdown",
   "metadata": {},
   "source": [
    "But in the calendars above we can see the clusters generated by DBSCAN are not very good"
   ]
  },
  {
   "cell_type": "markdown",
   "metadata": {},
   "source": [
    "### 2. Perform external evaluation"
   ]
  },
  {
   "cell_type": "code",
   "execution_count": 109,
   "metadata": {},
   "outputs": [],
   "source": [
    "## Function to perform external evaluation using various methods\n",
    "\n",
    "def find_the_closest_centroid(centroids, new_day, from_interval: int, to_interval: int):\n",
    "    closest_centroid = None\n",
    "    closest_dist = None\n",
    "\n",
    "    # Iterate through each centroid\n",
    "    for i in range(0, len(centroids)):\n",
    "        # Calculate the Euclidean distance between the centroid and the new data point\n",
    "        ed_t = dis_lib.paired_distances(centroids[i], new_day, metric='euclidean')\n",
    "\n",
    "        # Check if the current centroid is closer than the previously closest one\n",
    "        if closest_centroid is None or closest_dist > ed_t:\n",
    "            closest_centroid = i\n",
    "            closest_dist = ed_t\n",
    "\n",
    "    return closest_centroid\n",
    "\n",
    "\n",
    "def external_evaluation_clustering(cluster_labels, method):\n",
    "    centroids = []\n",
    "\n",
    "\n",
    "    # Calculate centroids for each cluster\n",
    "    for i in np.unique(cluster_labels):\n",
    "        if method in \"mean_centroid\": ## Use centroid as centroid\n",
    "            centroid = np.nanmean(vectorized_day_dataset_no_nans[np.where(cluster_labels == i)[0], :], 0).reshape(1, nintvals)\n",
    "        elif method == \"mean_medoid\": ## Use medoid instead of centroid\n",
    "            centroid = np.nanmedian(vectorized_day_dataset_no_nans[np.where(cluster_labels == i)[0], :], axis = 0, keepdims=False).reshape(1, nintvals)\n",
    "        else:\n",
    "            raise Exception(\"Invalid method\")\n",
    "        centroids.append(centroid)\n",
    "\n",
    "    # Define the number of past intervals to consider for classification\n",
    "    n_past_intervals_for_classification = 5\n",
    "\n",
    "    # Initialize variables to calculate accuracy metrics\n",
    "    total_mae = 0\n",
    "    total_mape = 0\n",
    "    prediction_counts = 0\n",
    "\n",
    "    # Loop through each day in the evaluation dataset with no missing values\n",
    "    for i in range(0, ndays_eval_not_nans):\n",
    "        # Loop through intervals from n_past_intervals_for_classification to nintvals - 1\n",
    "        for j in range(n_past_intervals_for_classification, nintvals - 1):\n",
    "            # Find the closest centroid for the current data point\n",
    "            centroid_index = find_the_closest_centroid(centroids, vectorized_day_dataset_no_nans_eval[i].reshape(1, nintvals), j - n_past_intervals_for_classification, j)\n",
    "\n",
    "            # Predict the value for the next interval\n",
    "            predicted_value = centroids[centroid_index][0, j + 1]\n",
    "            #print(np.shape(centroids[centroid_index][0, j + 1]))\n",
    "\n",
    "            # Calculate Mean Absolute Error (MAE) and Mean Absolute Percentage Error (MAPE)\n",
    "            mae_t = abs(predicted_value - vectorized_day_dataset_no_nans_eval[i][j + 1])\n",
    "            mape_t = abs(predicted_value - vectorized_day_dataset_no_nans_eval[i][j + 1]) / float(vectorized_day_dataset_no_nans_eval[i][j + 1])\n",
    "\n",
    "            # Accumulate MAE, MAPE, and count of predictions\n",
    "            total_mae += mae_t\n",
    "            total_mape += mape_t\n",
    "            prediction_counts += 1\n",
    "\n",
    "    # Calculate the prediction accuracy metrics\n",
    "    mae = total_mae / prediction_counts\n",
    "    mape = total_mape / prediction_counts\n",
    "\n",
    "\n",
    "    return [mae,mape]"
   ]
  },
  {
   "cell_type": "code",
   "execution_count": 110,
   "metadata": {},
   "outputs": [
    {
     "name": "stderr",
     "output_type": "stream",
     "text": [
      "C:\\Users\\jemaa\\AppData\\Local\\Temp\\ipykernel_3764\\3007889909.py:29: FutureWarning: The behavior of DataFrame concatenation with empty or all-NA entries is deprecated. In a future version, this will no longer exclude empty or all-NA columns when determining the result dtypes. To retain the old behavior, exclude the relevant entries before the concat operation.\n",
      "  initial_evaluation_df = pd.concat([initial_evaluation_df, curr_eval_df], axis=0)\n"
     ]
    },
    {
     "data": {
      "application/vnd.microsoft.datawrangler.viewer.v0+json": {
       "columns": [
        {
         "name": "index",
         "rawType": "int64",
         "type": "integer"
        },
        {
         "name": "num_clusters",
         "rawType": "object",
         "type": "unknown"
        },
        {
         "name": "clustering_method",
         "rawType": "object",
         "type": "string"
        },
        {
         "name": "prediction_method",
         "rawType": "object",
         "type": "string"
        },
        {
         "name": "mae",
         "rawType": "float64",
         "type": "float"
        },
        {
         "name": "mape",
         "rawType": "float64",
         "type": "float"
        }
       ],
       "ref": "63daabac-606d-4380-86f1-0acfbc7c9b6a",
       "rows": [
        [
         "0",
         "5",
         "K-Means",
         "mean_centroid",
         "27.619317805790065",
         "0.2773115163252373"
        ],
        [
         "1",
         "5",
         "Agglomerative",
         "mean_centroid",
         "28.65384718437549",
         "0.29082985204795475"
        ],
        [
         "2",
         "5",
         "GMM",
         "mean_centroid",
         "27.237027852487845",
         "0.37256470930006597"
        ],
        [
         "0",
         "5",
         "K-Means",
         "mean_medoid",
         "27.74956316168157",
         "0.2690742168671187"
        ],
        [
         "1",
         "5",
         "Agglomerative",
         "mean_medoid",
         "28.228903278857025",
         "0.28216341909868564"
        ],
        [
         "2",
         "5",
         "GMM",
         "mean_medoid",
         "26.97563983965464",
         "0.36920942227179937"
        ],
        [
         "0",
         "10",
         "K-Means",
         "mean_centroid",
         "24.607666013093354",
         "0.24531753390066866"
        ],
        [
         "1",
         "10",
         "Agglomerative",
         "mean_centroid",
         "24.122646513924682",
         "0.23292646916785487"
        ],
        [
         "2",
         "10",
         "GMM",
         "mean_centroid",
         "23.686555327749943",
         "0.24035369224727585"
        ],
        [
         "0",
         "10",
         "K-Means",
         "mean_medoid",
         "24.49892075238976",
         "0.24352414720612583"
        ],
        [
         "1",
         "10",
         "Agglomerative",
         "mean_medoid",
         "23.923322026929796",
         "0.22710089118073706"
        ],
        [
         "2",
         "10",
         "GMM",
         "mean_medoid",
         "24.324904923424814",
         "0.24644818965073872"
        ]
       ],
       "shape": {
        "columns": 5,
        "rows": 12
       }
      },
      "text/html": [
       "<div>\n",
       "<style scoped>\n",
       "    .dataframe tbody tr th:only-of-type {\n",
       "        vertical-align: middle;\n",
       "    }\n",
       "\n",
       "    .dataframe tbody tr th {\n",
       "        vertical-align: top;\n",
       "    }\n",
       "\n",
       "    .dataframe thead th {\n",
       "        text-align: right;\n",
       "    }\n",
       "</style>\n",
       "<table border=\"1\" class=\"dataframe\">\n",
       "  <thead>\n",
       "    <tr style=\"text-align: right;\">\n",
       "      <th></th>\n",
       "      <th>num_clusters</th>\n",
       "      <th>clustering_method</th>\n",
       "      <th>prediction_method</th>\n",
       "      <th>mae</th>\n",
       "      <th>mape</th>\n",
       "    </tr>\n",
       "  </thead>\n",
       "  <tbody>\n",
       "    <tr>\n",
       "      <th>0</th>\n",
       "      <td>5</td>\n",
       "      <td>K-Means</td>\n",
       "      <td>mean_centroid</td>\n",
       "      <td>27.619318</td>\n",
       "      <td>0.277312</td>\n",
       "    </tr>\n",
       "    <tr>\n",
       "      <th>1</th>\n",
       "      <td>5</td>\n",
       "      <td>Agglomerative</td>\n",
       "      <td>mean_centroid</td>\n",
       "      <td>28.653847</td>\n",
       "      <td>0.290830</td>\n",
       "    </tr>\n",
       "    <tr>\n",
       "      <th>2</th>\n",
       "      <td>5</td>\n",
       "      <td>GMM</td>\n",
       "      <td>mean_centroid</td>\n",
       "      <td>27.237028</td>\n",
       "      <td>0.372565</td>\n",
       "    </tr>\n",
       "    <tr>\n",
       "      <th>0</th>\n",
       "      <td>5</td>\n",
       "      <td>K-Means</td>\n",
       "      <td>mean_medoid</td>\n",
       "      <td>27.749563</td>\n",
       "      <td>0.269074</td>\n",
       "    </tr>\n",
       "    <tr>\n",
       "      <th>1</th>\n",
       "      <td>5</td>\n",
       "      <td>Agglomerative</td>\n",
       "      <td>mean_medoid</td>\n",
       "      <td>28.228903</td>\n",
       "      <td>0.282163</td>\n",
       "    </tr>\n",
       "    <tr>\n",
       "      <th>2</th>\n",
       "      <td>5</td>\n",
       "      <td>GMM</td>\n",
       "      <td>mean_medoid</td>\n",
       "      <td>26.975640</td>\n",
       "      <td>0.369209</td>\n",
       "    </tr>\n",
       "    <tr>\n",
       "      <th>0</th>\n",
       "      <td>10</td>\n",
       "      <td>K-Means</td>\n",
       "      <td>mean_centroid</td>\n",
       "      <td>24.607666</td>\n",
       "      <td>0.245318</td>\n",
       "    </tr>\n",
       "    <tr>\n",
       "      <th>1</th>\n",
       "      <td>10</td>\n",
       "      <td>Agglomerative</td>\n",
       "      <td>mean_centroid</td>\n",
       "      <td>24.122647</td>\n",
       "      <td>0.232926</td>\n",
       "    </tr>\n",
       "    <tr>\n",
       "      <th>2</th>\n",
       "      <td>10</td>\n",
       "      <td>GMM</td>\n",
       "      <td>mean_centroid</td>\n",
       "      <td>23.686555</td>\n",
       "      <td>0.240354</td>\n",
       "    </tr>\n",
       "    <tr>\n",
       "      <th>0</th>\n",
       "      <td>10</td>\n",
       "      <td>K-Means</td>\n",
       "      <td>mean_medoid</td>\n",
       "      <td>24.498921</td>\n",
       "      <td>0.243524</td>\n",
       "    </tr>\n",
       "    <tr>\n",
       "      <th>1</th>\n",
       "      <td>10</td>\n",
       "      <td>Agglomerative</td>\n",
       "      <td>mean_medoid</td>\n",
       "      <td>23.923322</td>\n",
       "      <td>0.227101</td>\n",
       "    </tr>\n",
       "    <tr>\n",
       "      <th>2</th>\n",
       "      <td>10</td>\n",
       "      <td>GMM</td>\n",
       "      <td>mean_medoid</td>\n",
       "      <td>24.324905</td>\n",
       "      <td>0.246448</td>\n",
       "    </tr>\n",
       "  </tbody>\n",
       "</table>\n",
       "</div>"
      ],
      "text/plain": [
       "  num_clusters clustering_method prediction_method        mae      mape\n",
       "0            5           K-Means     mean_centroid  27.619318  0.277312\n",
       "1            5     Agglomerative     mean_centroid  28.653847  0.290830\n",
       "2            5               GMM     mean_centroid  27.237028  0.372565\n",
       "0            5           K-Means       mean_medoid  27.749563  0.269074\n",
       "1            5     Agglomerative       mean_medoid  28.228903  0.282163\n",
       "2            5               GMM       mean_medoid  26.975640  0.369209\n",
       "0           10           K-Means     mean_centroid  24.607666  0.245318\n",
       "1           10     Agglomerative     mean_centroid  24.122647  0.232926\n",
       "2           10               GMM     mean_centroid  23.686555  0.240354\n",
       "0           10           K-Means       mean_medoid  24.498921  0.243524\n",
       "1           10     Agglomerative       mean_medoid  23.923322  0.227101\n",
       "2           10               GMM       mean_medoid  24.324905  0.246448"
      ]
     },
     "execution_count": 110,
     "metadata": {},
     "output_type": "execute_result"
    }
   ],
   "source": [
    "\n",
    "vect_clusters = [5,10] ## Number of clusters to try\n",
    "list_methods = [\"mean_centroid\",\"mean_medoid\"]  ## Different methods to test\n",
    "\n",
    "\n",
    "initial_evaluation_df = pd.DataFrame(columns = [\"num_clusters\", \"clustering_method\", \"prediction_method\" ,\"mae\",\n",
    "                                          \"mape\"])\n",
    "\n",
    "for n_clusters in vect_clusters:\n",
    "    for prediction_method in list_methods:\n",
    "        clusters_k_means = KMeans(n_clusters=n_clusters, random_state=0, n_init=\"auto\").fit(vectorized_day_dataset_no_nans) # check the parameters at https://scikit-learn.org/stable/modules/generated/sklearn.cluster.KMeans.html\n",
    "        clusters_agg = AgglomerativeClustering(n_clusters=n_clusters,metric='euclidean', linkage='ward').fit(vectorized_day_dataset_no_nans) # check the parameters at https://scikit-learn.org/stable/modules/generated/sklearn.cluster.AgglomerativeClustering.html\n",
    "\n",
    "        cluster_labels_k_means = clusters_k_means.labels_\n",
    "        cluster_labels_agg = clusters_agg.labels_\n",
    "        cluster_labels_gmm = GaussianMixture(n_components=n_clusters).fit(vectorized_day_dataset_no_nans).predict(vectorized_day_dataset_no_nans) #check the parameters at  https://scikit-learn.org/stable/auto_examples/mixture/plot_gmm_init.html#sphx-glr-auto-examples-mixture-plot-gmm-init-py\n",
    "\n",
    "        [mae_k_mans, mape_k_means] = external_evaluation_clustering(cluster_labels_k_means, prediction_method)\n",
    "        [mae_agg, mape_agg] = external_evaluation_clustering(cluster_labels_agg, prediction_method)\n",
    "        [mae_gmm, mape_gmm] = external_evaluation_clustering(cluster_labels_gmm, prediction_method)\n",
    "\n",
    "\n",
    "\n",
    "        curr_eval_df = pd.DataFrame(data=[[n_clusters, \"K-Means\" ,prediction_method,mae_k_mans, mape_k_means],\n",
    "                                [n_clusters, \"Agglomerative\" ,prediction_method,mae_agg, mape_agg], \n",
    "                                [n_clusters, \"GMM\" ,prediction_method, mae_gmm, mape_gmm]], \n",
    "                                columns = [\"num_clusters\", \"clustering_method\", \"prediction_method\" ,\"mae\",\n",
    "                                          \"mape\"])\n",
    "        \n",
    "        initial_evaluation_df = pd.concat([initial_evaluation_df, curr_eval_df], axis=0)\n",
    "        \n",
    "initial_evaluation_df"
   ]
  },
  {
   "cell_type": "code",
   "execution_count": 113,
   "metadata": {},
   "outputs": [
    {
     "data": {
      "application/vnd.microsoft.datawrangler.viewer.v0+json": {
       "columns": [
        {
         "name": "index",
         "rawType": "int64",
         "type": "integer"
        },
        {
         "name": "num_clusters",
         "rawType": "object",
         "type": "unknown"
        },
        {
         "name": "clustering_method",
         "rawType": "object",
         "type": "string"
        },
        {
         "name": "mae_centroid",
         "rawType": "float64",
         "type": "float"
        },
        {
         "name": "mape_centroid",
         "rawType": "float64",
         "type": "float"
        },
        {
         "name": "mae_medoid",
         "rawType": "float64",
         "type": "float"
        },
        {
         "name": "mape_medoid",
         "rawType": "float64",
         "type": "float"
        }
       ],
       "ref": "372eec81-8394-43ba-ad17-d57e54b268ac",
       "rows": [
        [
         "0",
         "5",
         "K-Means",
         "27.6193",
         "0.2773",
         "27.7496",
         "0.2691"
        ],
        [
         "1",
         "5",
         "Agglomerative",
         "28.6538",
         "0.2908",
         "28.2289",
         "0.2822"
        ],
        [
         "2",
         "5",
         "GMM",
         "27.237",
         "0.3726",
         "26.9756",
         "0.3692"
        ],
        [
         "3",
         "10",
         "K-Means",
         "24.6077",
         "0.2453",
         "24.4989",
         "0.2435"
        ],
        [
         "4",
         "10",
         "Agglomerative",
         "24.1226",
         "0.2329",
         "23.9233",
         "0.2271"
        ],
        [
         "5",
         "10",
         "GMM",
         "23.6866",
         "0.2404",
         "24.3249",
         "0.2464"
        ]
       ],
       "shape": {
        "columns": 6,
        "rows": 6
       }
      },
      "text/html": [
       "<div>\n",
       "<style scoped>\n",
       "    .dataframe tbody tr th:only-of-type {\n",
       "        vertical-align: middle;\n",
       "    }\n",
       "\n",
       "    .dataframe tbody tr th {\n",
       "        vertical-align: top;\n",
       "    }\n",
       "\n",
       "    .dataframe thead th {\n",
       "        text-align: right;\n",
       "    }\n",
       "</style>\n",
       "<table border=\"1\" class=\"dataframe\">\n",
       "  <thead>\n",
       "    <tr style=\"text-align: right;\">\n",
       "      <th></th>\n",
       "      <th>num_clusters</th>\n",
       "      <th>clustering_method</th>\n",
       "      <th>mae_centroid</th>\n",
       "      <th>mape_centroid</th>\n",
       "      <th>mae_medoid</th>\n",
       "      <th>mape_medoid</th>\n",
       "    </tr>\n",
       "  </thead>\n",
       "  <tbody>\n",
       "    <tr>\n",
       "      <th>0</th>\n",
       "      <td>5</td>\n",
       "      <td>K-Means</td>\n",
       "      <td>27.6193</td>\n",
       "      <td>0.2773</td>\n",
       "      <td>27.7496</td>\n",
       "      <td>0.2691</td>\n",
       "    </tr>\n",
       "    <tr>\n",
       "      <th>1</th>\n",
       "      <td>5</td>\n",
       "      <td>Agglomerative</td>\n",
       "      <td>28.6538</td>\n",
       "      <td>0.2908</td>\n",
       "      <td>28.2289</td>\n",
       "      <td>0.2822</td>\n",
       "    </tr>\n",
       "    <tr>\n",
       "      <th>2</th>\n",
       "      <td>5</td>\n",
       "      <td>GMM</td>\n",
       "      <td>27.2370</td>\n",
       "      <td>0.3726</td>\n",
       "      <td>26.9756</td>\n",
       "      <td>0.3692</td>\n",
       "    </tr>\n",
       "    <tr>\n",
       "      <th>3</th>\n",
       "      <td>10</td>\n",
       "      <td>K-Means</td>\n",
       "      <td>24.6077</td>\n",
       "      <td>0.2453</td>\n",
       "      <td>24.4989</td>\n",
       "      <td>0.2435</td>\n",
       "    </tr>\n",
       "    <tr>\n",
       "      <th>4</th>\n",
       "      <td>10</td>\n",
       "      <td>Agglomerative</td>\n",
       "      <td>24.1226</td>\n",
       "      <td>0.2329</td>\n",
       "      <td>23.9233</td>\n",
       "      <td>0.2271</td>\n",
       "    </tr>\n",
       "    <tr>\n",
       "      <th>5</th>\n",
       "      <td>10</td>\n",
       "      <td>GMM</td>\n",
       "      <td>23.6866</td>\n",
       "      <td>0.2404</td>\n",
       "      <td>24.3249</td>\n",
       "      <td>0.2464</td>\n",
       "    </tr>\n",
       "  </tbody>\n",
       "</table>\n",
       "</div>"
      ],
      "text/plain": [
       "  num_clusters clustering_method  mae_centroid  mape_centroid  mae_medoid  \\\n",
       "0            5           K-Means       27.6193         0.2773     27.7496   \n",
       "1            5     Agglomerative       28.6538         0.2908     28.2289   \n",
       "2            5               GMM       27.2370         0.3726     26.9756   \n",
       "3           10           K-Means       24.6077         0.2453     24.4989   \n",
       "4           10     Agglomerative       24.1226         0.2329     23.9233   \n",
       "5           10               GMM       23.6866         0.2404     24.3249   \n",
       "\n",
       "   mape_medoid  \n",
       "0       0.2691  \n",
       "1       0.2822  \n",
       "2       0.3692  \n",
       "3       0.2435  \n",
       "4       0.2271  \n",
       "5       0.2464  "
      ]
     },
     "execution_count": 113,
     "metadata": {},
     "output_type": "execute_result"
    }
   ],
   "source": [
    "centroid_eval_df = initial_evaluation_df[initial_evaluation_df[\"prediction_method\"] == \"mean_centroid\"][[\"num_clusters\", \"clustering_method\", \"mae\", \"mape\"]]\n",
    "medoid_eval_df = initial_evaluation_df[initial_evaluation_df[\"prediction_method\"] == \"mean_medoid\"][[\"num_clusters\", \"clustering_method\", \"mae\", \"mape\"]]\n",
    "merged_eval_df = pd.merge(left=centroid_eval_df, right=medoid_eval_df, on=[\"num_clusters\",\"clustering_method\"], suffixes=(\"_centroid\", \"_medoid\"))\n",
    "merged_eval_df.round(4)"
   ]
  },
  {
   "cell_type": "markdown",
   "metadata": {},
   "source": [
    "#### Try to train prediction models for each day type\n",
    "\n",
    "In this part, for the relevant clustering methods (K-Means, Agglomerative Clustering and GMM), 2 Time Series Models are tested for prediction, ARIMA wth 5 time lags ARIMA(5,0,0) and Weighted Moving Averages: "
   ]
  },
  {
   "cell_type": "code",
   "execution_count": null,
   "metadata": {},
   "outputs": [],
   "source": [
    "from sklearn.linear_model import LinearRegression\n",
    "from sklearn.metrics import mean_absolute_percentage_error, mean_absolute_error\n",
    "\n",
    "## Create Time Series Models\n",
    "def generate_models_for_cluster(cluster_labels):\n",
    "    n_days_train = np.shape(vectorized_day_dataset_no_nans)[0]\n",
    "    n_past_intervals_for_classification = 5\n",
    "\n",
    "    arr_train = np.zeros((n_days_train*(nintvals-1-n_past_intervals_for_classification),7))\n",
    "\n",
    "    index = 0\n",
    "\n",
    "    for i in range(0,n_days_train):\n",
    "        day_type = cluster_labels[i]\n",
    "        for j in range(n_past_intervals_for_classification, nintvals - 1):\n",
    "            arr_train[index] = [day_type,vectorized_day_dataset_no_nans[i, j-4],\n",
    "                                vectorized_day_dataset_no_nans[i, j-3],\n",
    "                                vectorized_day_dataset_no_nans[i, j-2],\n",
    "                                vectorized_day_dataset_no_nans[i, j-1],\n",
    "                                vectorized_day_dataset_no_nans[i, j],\n",
    "                                vectorized_day_dataset_no_nans[i, j+1]]\n",
    "\n",
    "            index += 1\n",
    "\n",
    "    train_df = pd.DataFrame(data=arr_train\n",
    "                            ,columns=[\"day_type\", \"j-4\", \"j-3\", \"j-2\", \"j-1\",\"j\", \"j+1\"])\n",
    "\n",
    "\n",
    "    arima_models_dict = dict.fromkeys(np.unique(cluster_labels))\n",
    "    wma_models_dict = dict.fromkeys(np.unique(cluster_labels))\n",
    "    #map_results_arima = []\n",
    "    #mape_results_arima = []\n",
    "    #map_results_wma = []\n",
    "    #mape_results_wma =[]\n",
    "\n",
    "    for day_type_it in np.unique(cluster_labels):\n",
    "        X_train = train_df[train_df[\"day_type\"] == day_type_it][[\"j-4\", \"j-3\", \"j-2\", \"j-1\",\"j\"]].to_numpy()\n",
    "        y_train = train_df[train_df[\"day_type\"] == day_type_it][\"j+1\"].to_numpy()\n",
    "        model_arima = LinearRegression(fit_intercept=True) # Similar to an ARIMA 5\n",
    "        model_wma = LinearRegression(fit_intercept=False) # Similar to weighted moving averages\n",
    "\n",
    "        model_arima.fit(X_train,y_train)\n",
    "        model_wma.fit(X_train,y_train)\n",
    "        arima_models_dict[day_type_it] = model_arima\n",
    "        wma_models_dict[day_type_it] = model_wma\n",
    "\n",
    "        #map_results_arima.append(mean_absolute_error(y_train, model_arima.predict(X_train)))\n",
    "        #mape_results_arima.append(mean_absolute_percentage_error(y_train, model_arima.predict(X_train)))\n",
    "        #map_results_wma.append(mean_absolute_error(y_train, model_wma.predict(X_train)))\n",
    "        #mape_results_wma.append(mean_absolute_percentage_error(y_train, model_wma.predict(X_train)))\n",
    "\n",
    "    return [arima_models_dict, wma_models_dict]\n",
    "    #print(map_results_arima)\n",
    "    #print(mape_results_arima)    \n",
    "    #print(map_results_wma)\n",
    "    #print(mape_results_wma)    "
   ]
  },
  {
   "cell_type": "code",
   "execution_count": 92,
   "metadata": {},
   "outputs": [],
   "source": [
    "def external_evaluation_clustering_with_models(cluster_labels):\n",
    "    centroids = []\n",
    "\n",
    "\n",
    "    # Calculate centroids for each cluster\n",
    "    for i in np.unique(cluster_labels):\n",
    "        centroid = np.nanmean(vectorized_day_dataset_no_nans[np.where(cluster_labels == i)[0], :], 0).reshape(1, nintvals)\n",
    "        centroids.append(centroid)\n",
    "\n",
    "    # Define the number of past intervals to consider for classification\n",
    "    n_past_intervals_for_classification = 5\n",
    "\n",
    "    # Fit models for each cluster\n",
    "    [arima_models_dict, wma_models_dict] = generate_models_for_cluster(cluster_labels)\n",
    "\n",
    "    # Initialize variables to calculate accuracy metrics\n",
    "    total_mae_arima = 0\n",
    "    total_mape_arima = 0\n",
    "    total_mae_wma = 0\n",
    "    total_mape_wma = 0\n",
    "\n",
    "    prediction_counts = 0\n",
    "\n",
    "    # Loop through each day in the evaluation dataset with no missing values\n",
    "    for i in range(0, ndays_eval_not_nans):\n",
    "        # Loop through intervals from n_past_intervals_for_classification to nintvals - 1\n",
    "        for j in range(n_past_intervals_for_classification, nintvals - 1):\n",
    "            # Find the closest centroid for the current data point\n",
    "            centroid_index = find_the_closest_centroid(centroids, vectorized_day_dataset_no_nans_eval[i].reshape(1, nintvals), j - n_past_intervals_for_classification, j)\n",
    "\n",
    "            # Predict the value for the next interval\n",
    "            features_to_predict = np.array([vectorized_day_dataset_no_nans_eval[i][j -4],vectorized_day_dataset_no_nans_eval[i][j -3],\n",
    "                vectorized_day_dataset_no_nans_eval[i][j -2],vectorized_day_dataset_no_nans_eval[i][j -1],\n",
    "                vectorized_day_dataset_no_nans_eval[i][j]]).reshape(1,-1)\n",
    "            predicted_value_arima = arima_models_dict[centroid_index].predict(features_to_predict)\n",
    "            predicted_value_wma = wma_models_dict[centroid_index].predict(features_to_predict)\n",
    "           \n",
    "            #print(np.shape(centroids[centroid_index][0, j + 1]))\n",
    "\n",
    "            # Calculate Mean Absolute Error (MAE) and Mean Absolute Percentage Error (MAPE)\n",
    "            mae_t_arima = abs(predicted_value_arima - vectorized_day_dataset_no_nans_eval[i][j + 1])\n",
    "            mape_t_arima = abs(predicted_value_arima - vectorized_day_dataset_no_nans_eval[i][j + 1]) / float(vectorized_day_dataset_no_nans_eval[i][j + 1])\n",
    "            mae_t_wma = abs(predicted_value_wma - vectorized_day_dataset_no_nans_eval[i][j + 1])\n",
    "            mape_t_wma = abs(predicted_value_wma - vectorized_day_dataset_no_nans_eval[i][j + 1]) / float(vectorized_day_dataset_no_nans_eval[i][j + 1])\n",
    "\n",
    "            # Accumulate MAE, MAPE, and count of predictions\n",
    "            total_mae_arima += mae_t_arima\n",
    "            total_mape_arima += mape_t_arima\n",
    "            total_mae_wma += mae_t_wma\n",
    "            total_mape_wma += mape_t_wma\n",
    "\n",
    "            prediction_counts += 1\n",
    "\n",
    "\n",
    "    # Calculate the prediction accuracy metrics\n",
    "    mae_arima = total_mae_arima / prediction_counts\n",
    "    mape_arima = total_mape_arima / prediction_counts\n",
    "\n",
    "    mae_wma = total_mae_wma / prediction_counts\n",
    "    mape_wma = total_mape_wma / prediction_counts\n",
    "\n",
    "    return [mae_arima,mape_arima, mae_wma, mape_wma]\n"
   ]
  },
  {
   "cell_type": "code",
   "execution_count": 96,
   "metadata": {},
   "outputs": [
    {
     "data": {
      "application/vnd.microsoft.datawrangler.viewer.v0+json": {
       "columns": [
        {
         "name": "index",
         "rawType": "int64",
         "type": "integer"
        },
        {
         "name": "num_clusters",
         "rawType": "object",
         "type": "unknown"
        },
        {
         "name": "clustering_method",
         "rawType": "object",
         "type": "string"
        },
        {
         "name": "mae_arima",
         "rawType": "object",
         "type": "unknown"
        },
        {
         "name": "mape_arima",
         "rawType": "object",
         "type": "unknown"
        },
        {
         "name": "mae_wma",
         "rawType": "object",
         "type": "unknown"
        },
        {
         "name": "mape_wma",
         "rawType": "object",
         "type": "unknown"
        }
       ],
       "ref": "daa3049b-1e06-497c-a4a5-16cdfd5ee9ce",
       "rows": [
        [
         "0",
         "5",
         "K-Means",
         "[17.35585329]",
         "[0.14857014]",
         "[17.27862635]",
         "[0.13920496]"
        ],
        [
         "1",
         "5",
         "Agglomerative",
         "[17.328467]",
         "[0.14801369]",
         "[17.25659885]",
         "[0.13906574]"
        ],
        [
         "2",
         "5",
         "GMM",
         "[17.3009274]",
         "[0.14719621]",
         "[17.23825653]",
         "[0.13899658]"
        ],
        [
         "0",
         "5",
         "K-Means",
         "[17.35585329]",
         "[0.14857014]",
         "[17.27862635]",
         "[0.13920496]"
        ],
        [
         "1",
         "5",
         "Agglomerative",
         "[17.328467]",
         "[0.14801369]",
         "[17.25659885]",
         "[0.13906574]"
        ],
        [
         "2",
         "5",
         "GMM",
         "[17.29182936]",
         "[0.14763547]",
         "[17.22615691]",
         "[0.13901367]"
        ],
        [
         "0",
         "5",
         "K-Means",
         "[17.35585329]",
         "[0.14857014]",
         "[17.27862635]",
         "[0.13920496]"
        ],
        [
         "1",
         "5",
         "Agglomerative",
         "[17.328467]",
         "[0.14801369]",
         "[17.25659885]",
         "[0.13906574]"
        ],
        [
         "2",
         "5",
         "GMM",
         "[17.31911752]",
         "[0.14904107]",
         "[17.24330714]",
         "[0.13910085]"
        ],
        [
         "0",
         "5",
         "K-Means",
         "[17.35585329]",
         "[0.14857014]",
         "[17.27862635]",
         "[0.13920496]"
        ],
        [
         "1",
         "5",
         "Agglomerative",
         "[17.328467]",
         "[0.14801369]",
         "[17.25659885]",
         "[0.13906574]"
        ],
        [
         "2",
         "5",
         "GMM",
         "[17.30128999]",
         "[0.14737734]",
         "[17.23746935]",
         "[0.13898923]"
        ],
        [
         "0",
         "10",
         "K-Means",
         "[17.33604775]",
         "[0.14810444]",
         "[17.26376515]",
         "[0.13902788]"
        ],
        [
         "1",
         "10",
         "Agglomerative",
         "[17.32815124]",
         "[0.14816342]",
         "[17.25120656]",
         "[0.13877993]"
        ],
        [
         "2",
         "10",
         "GMM",
         "[17.33468414]",
         "[0.14843521]",
         "[17.25509025]",
         "[0.13887517]"
        ],
        [
         "0",
         "10",
         "K-Means",
         "[17.33604775]",
         "[0.14810444]",
         "[17.26376515]",
         "[0.13902788]"
        ],
        [
         "1",
         "10",
         "Agglomerative",
         "[17.32815124]",
         "[0.14816342]",
         "[17.25120656]",
         "[0.13877993]"
        ],
        [
         "2",
         "10",
         "GMM",
         "[17.31644517]",
         "[0.14778709]",
         "[17.24561188]",
         "[0.13888342]"
        ],
        [
         "0",
         "10",
         "K-Means",
         "[17.33604775]",
         "[0.14810444]",
         "[17.26376515]",
         "[0.13902788]"
        ],
        [
         "1",
         "10",
         "Agglomerative",
         "[17.32815124]",
         "[0.14816342]",
         "[17.25120656]",
         "[0.13877993]"
        ],
        [
         "2",
         "10",
         "GMM",
         "[17.3249503]",
         "[0.14772579]",
         "[17.25434839]",
         "[0.13887116]"
        ],
        [
         "0",
         "10",
         "K-Means",
         "[17.33604775]",
         "[0.14810444]",
         "[17.26376515]",
         "[0.13902788]"
        ],
        [
         "1",
         "10",
         "Agglomerative",
         "[17.32815124]",
         "[0.14816342]",
         "[17.25120656]",
         "[0.13877993]"
        ],
        [
         "2",
         "10",
         "GMM",
         "[17.39453385]",
         "[0.15022897]",
         "[17.29789016]",
         "[0.13924996]"
        ]
       ],
       "shape": {
        "columns": 6,
        "rows": 24
       }
      },
      "text/html": [
       "<div>\n",
       "<style scoped>\n",
       "    .dataframe tbody tr th:only-of-type {\n",
       "        vertical-align: middle;\n",
       "    }\n",
       "\n",
       "    .dataframe tbody tr th {\n",
       "        vertical-align: top;\n",
       "    }\n",
       "\n",
       "    .dataframe thead th {\n",
       "        text-align: right;\n",
       "    }\n",
       "</style>\n",
       "<table border=\"1\" class=\"dataframe\">\n",
       "  <thead>\n",
       "    <tr style=\"text-align: right;\">\n",
       "      <th></th>\n",
       "      <th>num_clusters</th>\n",
       "      <th>clustering_method</th>\n",
       "      <th>mae_arima</th>\n",
       "      <th>mape_arima</th>\n",
       "      <th>mae_wma</th>\n",
       "      <th>mape_wma</th>\n",
       "    </tr>\n",
       "  </thead>\n",
       "  <tbody>\n",
       "    <tr>\n",
       "      <th>0</th>\n",
       "      <td>5</td>\n",
       "      <td>K-Means</td>\n",
       "      <td>[17.355853294254732]</td>\n",
       "      <td>[0.1485701442935521]</td>\n",
       "      <td>[17.278626345981028]</td>\n",
       "      <td>[0.1392049578464121]</td>\n",
       "    </tr>\n",
       "    <tr>\n",
       "      <th>1</th>\n",
       "      <td>5</td>\n",
       "      <td>Agglomerative</td>\n",
       "      <td>[17.32846699898808]</td>\n",
       "      <td>[0.1480136898844551]</td>\n",
       "      <td>[17.25659885274891]</td>\n",
       "      <td>[0.13906573818480467]</td>\n",
       "    </tr>\n",
       "    <tr>\n",
       "      <th>2</th>\n",
       "      <td>5</td>\n",
       "      <td>GMM</td>\n",
       "      <td>[17.3009273991582]</td>\n",
       "      <td>[0.14719620968242694]</td>\n",
       "      <td>[17.238256530255352]</td>\n",
       "      <td>[0.13899657548631325]</td>\n",
       "    </tr>\n",
       "    <tr>\n",
       "      <th>0</th>\n",
       "      <td>5</td>\n",
       "      <td>K-Means</td>\n",
       "      <td>[17.355853294254732]</td>\n",
       "      <td>[0.1485701442935521]</td>\n",
       "      <td>[17.278626345981028]</td>\n",
       "      <td>[0.1392049578464121]</td>\n",
       "    </tr>\n",
       "    <tr>\n",
       "      <th>1</th>\n",
       "      <td>5</td>\n",
       "      <td>Agglomerative</td>\n",
       "      <td>[17.32846699898808]</td>\n",
       "      <td>[0.1480136898844551]</td>\n",
       "      <td>[17.25659885274891]</td>\n",
       "      <td>[0.13906573818480467]</td>\n",
       "    </tr>\n",
       "    <tr>\n",
       "      <th>2</th>\n",
       "      <td>5</td>\n",
       "      <td>GMM</td>\n",
       "      <td>[17.29182935641689]</td>\n",
       "      <td>[0.1476354725279891]</td>\n",
       "      <td>[17.226156912984347]</td>\n",
       "      <td>[0.13901366801884207]</td>\n",
       "    </tr>\n",
       "    <tr>\n",
       "      <th>0</th>\n",
       "      <td>5</td>\n",
       "      <td>K-Means</td>\n",
       "      <td>[17.355853294254732]</td>\n",
       "      <td>[0.1485701442935521]</td>\n",
       "      <td>[17.278626345981028]</td>\n",
       "      <td>[0.1392049578464121]</td>\n",
       "    </tr>\n",
       "    <tr>\n",
       "      <th>1</th>\n",
       "      <td>5</td>\n",
       "      <td>Agglomerative</td>\n",
       "      <td>[17.32846699898808]</td>\n",
       "      <td>[0.1480136898844551]</td>\n",
       "      <td>[17.25659885274891]</td>\n",
       "      <td>[0.13906573818480467]</td>\n",
       "    </tr>\n",
       "    <tr>\n",
       "      <th>2</th>\n",
       "      <td>5</td>\n",
       "      <td>GMM</td>\n",
       "      <td>[17.319117518946396]</td>\n",
       "      <td>[0.1490410730424579]</td>\n",
       "      <td>[17.24330713583309]</td>\n",
       "      <td>[0.1391008523929826]</td>\n",
       "    </tr>\n",
       "    <tr>\n",
       "      <th>0</th>\n",
       "      <td>5</td>\n",
       "      <td>K-Means</td>\n",
       "      <td>[17.355853294254732]</td>\n",
       "      <td>[0.1485701442935521]</td>\n",
       "      <td>[17.278626345981028]</td>\n",
       "      <td>[0.1392049578464121]</td>\n",
       "    </tr>\n",
       "    <tr>\n",
       "      <th>1</th>\n",
       "      <td>5</td>\n",
       "      <td>Agglomerative</td>\n",
       "      <td>[17.32846699898808]</td>\n",
       "      <td>[0.1480136898844551]</td>\n",
       "      <td>[17.25659885274891]</td>\n",
       "      <td>[0.13906573818480467]</td>\n",
       "    </tr>\n",
       "    <tr>\n",
       "      <th>2</th>\n",
       "      <td>5</td>\n",
       "      <td>GMM</td>\n",
       "      <td>[17.30128998814364]</td>\n",
       "      <td>[0.14737734393221372]</td>\n",
       "      <td>[17.237469347222607]</td>\n",
       "      <td>[0.1389892334532481]</td>\n",
       "    </tr>\n",
       "    <tr>\n",
       "      <th>0</th>\n",
       "      <td>10</td>\n",
       "      <td>K-Means</td>\n",
       "      <td>[17.336047752166248]</td>\n",
       "      <td>[0.14810443578240706]</td>\n",
       "      <td>[17.26376514896317]</td>\n",
       "      <td>[0.13902787820047466]</td>\n",
       "    </tr>\n",
       "    <tr>\n",
       "      <th>1</th>\n",
       "      <td>10</td>\n",
       "      <td>Agglomerative</td>\n",
       "      <td>[17.32815123772709]</td>\n",
       "      <td>[0.14816342246719416]</td>\n",
       "      <td>[17.251206557491315]</td>\n",
       "      <td>[0.13877993205968425]</td>\n",
       "    </tr>\n",
       "    <tr>\n",
       "      <th>2</th>\n",
       "      <td>10</td>\n",
       "      <td>GMM</td>\n",
       "      <td>[17.33468414289589]</td>\n",
       "      <td>[0.148435211047543]</td>\n",
       "      <td>[17.255090251380576]</td>\n",
       "      <td>[0.13887517387132894]</td>\n",
       "    </tr>\n",
       "    <tr>\n",
       "      <th>0</th>\n",
       "      <td>10</td>\n",
       "      <td>K-Means</td>\n",
       "      <td>[17.336047752166248]</td>\n",
       "      <td>[0.14810443578240706]</td>\n",
       "      <td>[17.26376514896317]</td>\n",
       "      <td>[0.13902787820047466]</td>\n",
       "    </tr>\n",
       "    <tr>\n",
       "      <th>1</th>\n",
       "      <td>10</td>\n",
       "      <td>Agglomerative</td>\n",
       "      <td>[17.32815123772709]</td>\n",
       "      <td>[0.14816342246719416]</td>\n",
       "      <td>[17.251206557491315]</td>\n",
       "      <td>[0.13877993205968425]</td>\n",
       "    </tr>\n",
       "    <tr>\n",
       "      <th>2</th>\n",
       "      <td>10</td>\n",
       "      <td>GMM</td>\n",
       "      <td>[17.31644517335939]</td>\n",
       "      <td>[0.14778709468624376]</td>\n",
       "      <td>[17.245611877493886]</td>\n",
       "      <td>[0.13888341548878835]</td>\n",
       "    </tr>\n",
       "    <tr>\n",
       "      <th>0</th>\n",
       "      <td>10</td>\n",
       "      <td>K-Means</td>\n",
       "      <td>[17.336047752166248]</td>\n",
       "      <td>[0.14810443578240706]</td>\n",
       "      <td>[17.26376514896317]</td>\n",
       "      <td>[0.13902787820047466]</td>\n",
       "    </tr>\n",
       "    <tr>\n",
       "      <th>1</th>\n",
       "      <td>10</td>\n",
       "      <td>Agglomerative</td>\n",
       "      <td>[17.32815123772709]</td>\n",
       "      <td>[0.14816342246719416]</td>\n",
       "      <td>[17.251206557491315]</td>\n",
       "      <td>[0.13877993205968425]</td>\n",
       "    </tr>\n",
       "    <tr>\n",
       "      <th>2</th>\n",
       "      <td>10</td>\n",
       "      <td>GMM</td>\n",
       "      <td>[17.324950298907186]</td>\n",
       "      <td>[0.1477257865199944]</td>\n",
       "      <td>[17.254348392319514]</td>\n",
       "      <td>[0.13887115826325427]</td>\n",
       "    </tr>\n",
       "    <tr>\n",
       "      <th>0</th>\n",
       "      <td>10</td>\n",
       "      <td>K-Means</td>\n",
       "      <td>[17.336047752166248]</td>\n",
       "      <td>[0.14810443578240706]</td>\n",
       "      <td>[17.26376514896317]</td>\n",
       "      <td>[0.13902787820047466]</td>\n",
       "    </tr>\n",
       "    <tr>\n",
       "      <th>1</th>\n",
       "      <td>10</td>\n",
       "      <td>Agglomerative</td>\n",
       "      <td>[17.32815123772709]</td>\n",
       "      <td>[0.14816342246719416]</td>\n",
       "      <td>[17.251206557491315]</td>\n",
       "      <td>[0.13877993205968425]</td>\n",
       "    </tr>\n",
       "    <tr>\n",
       "      <th>2</th>\n",
       "      <td>10</td>\n",
       "      <td>GMM</td>\n",
       "      <td>[17.394533852054177]</td>\n",
       "      <td>[0.1502289688961546]</td>\n",
       "      <td>[17.29789016428354]</td>\n",
       "      <td>[0.13924995545951324]</td>\n",
       "    </tr>\n",
       "  </tbody>\n",
       "</table>\n",
       "</div>"
      ],
      "text/plain": [
       "  num_clusters clustering_method             mae_arima             mape_arima  \\\n",
       "0            5           K-Means  [17.355853294254732]   [0.1485701442935521]   \n",
       "1            5     Agglomerative   [17.32846699898808]   [0.1480136898844551]   \n",
       "2            5               GMM    [17.3009273991582]  [0.14719620968242694]   \n",
       "0            5           K-Means  [17.355853294254732]   [0.1485701442935521]   \n",
       "1            5     Agglomerative   [17.32846699898808]   [0.1480136898844551]   \n",
       "2            5               GMM   [17.29182935641689]   [0.1476354725279891]   \n",
       "0            5           K-Means  [17.355853294254732]   [0.1485701442935521]   \n",
       "1            5     Agglomerative   [17.32846699898808]   [0.1480136898844551]   \n",
       "2            5               GMM  [17.319117518946396]   [0.1490410730424579]   \n",
       "0            5           K-Means  [17.355853294254732]   [0.1485701442935521]   \n",
       "1            5     Agglomerative   [17.32846699898808]   [0.1480136898844551]   \n",
       "2            5               GMM   [17.30128998814364]  [0.14737734393221372]   \n",
       "0           10           K-Means  [17.336047752166248]  [0.14810443578240706]   \n",
       "1           10     Agglomerative   [17.32815123772709]  [0.14816342246719416]   \n",
       "2           10               GMM   [17.33468414289589]    [0.148435211047543]   \n",
       "0           10           K-Means  [17.336047752166248]  [0.14810443578240706]   \n",
       "1           10     Agglomerative   [17.32815123772709]  [0.14816342246719416]   \n",
       "2           10               GMM   [17.31644517335939]  [0.14778709468624376]   \n",
       "0           10           K-Means  [17.336047752166248]  [0.14810443578240706]   \n",
       "1           10     Agglomerative   [17.32815123772709]  [0.14816342246719416]   \n",
       "2           10               GMM  [17.324950298907186]   [0.1477257865199944]   \n",
       "0           10           K-Means  [17.336047752166248]  [0.14810443578240706]   \n",
       "1           10     Agglomerative   [17.32815123772709]  [0.14816342246719416]   \n",
       "2           10               GMM  [17.394533852054177]   [0.1502289688961546]   \n",
       "\n",
       "                mae_wma               mape_wma  \n",
       "0  [17.278626345981028]   [0.1392049578464121]  \n",
       "1   [17.25659885274891]  [0.13906573818480467]  \n",
       "2  [17.238256530255352]  [0.13899657548631325]  \n",
       "0  [17.278626345981028]   [0.1392049578464121]  \n",
       "1   [17.25659885274891]  [0.13906573818480467]  \n",
       "2  [17.226156912984347]  [0.13901366801884207]  \n",
       "0  [17.278626345981028]   [0.1392049578464121]  \n",
       "1   [17.25659885274891]  [0.13906573818480467]  \n",
       "2   [17.24330713583309]   [0.1391008523929826]  \n",
       "0  [17.278626345981028]   [0.1392049578464121]  \n",
       "1   [17.25659885274891]  [0.13906573818480467]  \n",
       "2  [17.237469347222607]   [0.1389892334532481]  \n",
       "0   [17.26376514896317]  [0.13902787820047466]  \n",
       "1  [17.251206557491315]  [0.13877993205968425]  \n",
       "2  [17.255090251380576]  [0.13887517387132894]  \n",
       "0   [17.26376514896317]  [0.13902787820047466]  \n",
       "1  [17.251206557491315]  [0.13877993205968425]  \n",
       "2  [17.245611877493886]  [0.13888341548878835]  \n",
       "0   [17.26376514896317]  [0.13902787820047466]  \n",
       "1  [17.251206557491315]  [0.13877993205968425]  \n",
       "2  [17.254348392319514]  [0.13887115826325427]  \n",
       "0   [17.26376514896317]  [0.13902787820047466]  \n",
       "1  [17.251206557491315]  [0.13877993205968425]  \n",
       "2   [17.29789016428354]  [0.13924995545951324]  "
      ]
     },
     "execution_count": 96,
     "metadata": {},
     "output_type": "execute_result"
    }
   ],
   "source": [
    "vect_clusters = [5,10] ## Number of clusters to try\n",
    "\n",
    "\n",
    "evaluation_df = pd.DataFrame(columns = [\"num_clusters\", \"clustering_method\" ,\"mae_arima\",\n",
    "                                          \"mape_arima\", \"mae_wma\", \"mape_wma\"])\n",
    "\n",
    "for n_clusters in vect_clusters:\n",
    "    for prediction_method in list_methods:\n",
    "        clusters_k_means = KMeans(n_clusters=n_clusters, random_state=0, n_init=\"auto\").fit(vectorized_day_dataset_no_nans) # check the parameters at https://scikit-learn.org/stable/modules/generated/sklearn.cluster.KMeans.html\n",
    "        clusters_agg = AgglomerativeClustering(n_clusters=n_clusters,metric='euclidean', linkage='ward').fit(vectorized_day_dataset_no_nans) # check the parameters at https://scikit-learn.org/stable/modules/generated/sklearn.cluster.AgglomerativeClustering.html\n",
    "\n",
    "        cluster_labels_k_means = clusters_k_means.labels_\n",
    "        cluster_labels_agg = clusters_agg.labels_\n",
    "        cluster_labels_gmm = GaussianMixture(n_components=n_clusters).fit(vectorized_day_dataset_no_nans).predict(vectorized_day_dataset_no_nans) #check the parameters at  https://scikit-learn.org/stable/auto_examples/mixture/plot_gmm_init.html#sphx-glr-auto-examples-mixture-plot-gmm-init-py\n",
    "\n",
    "        [mae_k_mans_arima, mape_k_means_arima, mae_k_mans_wma, mape_k_means_wma] = external_evaluation_clustering_with_models(cluster_labels_k_means)\n",
    "        [mae_agg_arima, mape_agg_arima,mae_agg_wma, mape_agg_wma] = external_evaluation_clustering_with_models(cluster_labels_agg)\n",
    "        [mae_gmm_arima, mape_gmm_arima,mae_gmm_wma, mape_gmm_wma] = external_evaluation_clustering_with_models(cluster_labels_gmm)\n",
    "\n",
    "\n",
    "\n",
    "        curr_eval_df = pd.DataFrame(data=[[n_clusters, \"K-Means\" ,mae_k_mans_arima, mape_k_means_arima, mae_k_mans_wma, mape_k_means_wma],\n",
    "                                [n_clusters, \"Agglomerative\" ,mae_agg_arima, mape_agg_arima,mae_agg_wma, mape_agg_wma], \n",
    "                                [n_clusters, \"GMM\" , mae_gmm_arima, mape_gmm_arima,mae_gmm_wma, mape_gmm_wma]], \n",
    "                                columns = [\"num_clusters\", \"clustering_method\" ,\"mae_arima\",\n",
    "                                          \"mape_arima\", \"mae_wma\", \"mape_wma\"])\n",
    "        \n",
    "        evaluation_df = pd.concat([evaluation_df, curr_eval_df], axis=0)\n",
    "        \n",
    "evaluation_df"
   ]
  },
  {
   "cell_type": "code",
   "execution_count": 114,
   "metadata": {},
   "outputs": [
    {
     "name": "stdout",
     "output_type": "stream",
     "text": [
      "Minimum MAE Arima:  [17.29182936]\n",
      "Maximum MAE Arima:  [17.39453385]\n",
      "Minimum MAPE Arima:  [0.14719621]\n",
      "Maximum MAPE Arima:  [0.15022897]\n",
      "Minimum MAE WMA:  [17.22615691]\n",
      "Maximum MAE WMA:  [17.29789016]\n",
      "Minimum MAPE WMA:  [0.13877993]\n",
      "Maximum MAPE WMA:  [0.13924996]\n"
     ]
    }
   ],
   "source": [
    "## See results from evaluation\n",
    "print(\"Minimum MAE Arima: \", evaluation_df[\"mae_arima\"].min())\n",
    "print(\"Maximum MAE Arima: \", evaluation_df[\"mae_arima\"].max())\n",
    "print(\"Minimum MAPE Arima: \",evaluation_df[\"mape_arima\"].min())\n",
    "print(\"Maximum MAPE Arima: \",evaluation_df[\"mape_arima\"].max())\n",
    "\n",
    "print(\"Minimum MAE WMA: \", evaluation_df[\"mae_wma\"].min())\n",
    "print(\"Maximum MAE WMA: \", evaluation_df[\"mae_wma\"].max())\n",
    "print(\"Minimum MAPE WMA: \",evaluation_df[\"mape_wma\"].min())\n",
    "print(\"Maximum MAPE WMA: \",evaluation_df[\"mape_wma\"].max())"
   ]
  },
  {
   "cell_type": "markdown",
   "metadata": {},
   "source": [
    "#### Test performance without using cluseting at all"
   ]
  },
  {
   "cell_type": "code",
   "execution_count": 97,
   "metadata": {},
   "outputs": [
    {
     "name": "stdout",
     "output_type": "stream",
     "text": [
      "16.98683414262643\n",
      "0.15242038646149692\n",
      "16.917069414281794\n",
      "0.14276129747602082\n"
     ]
    }
   ],
   "source": [
    "n_days_train = np.shape(vectorized_day_dataset_no_nans)[0]\n",
    "n_past_intervals_for_classification = 5\n",
    "\n",
    "arr_train = np.zeros((n_days_train*(nintvals-1-n_past_intervals_for_classification),6))\n",
    "\n",
    "index = 0\n",
    "\n",
    "for i in range(0,n_days_train):\n",
    "    day_type = cluster_labels[i]\n",
    "    for j in range(n_past_intervals_for_classification, nintvals - 1):\n",
    "        arr_train[index] = [vectorized_day_dataset_no_nans[i, j-4],\n",
    "                            vectorized_day_dataset_no_nans[i, j-3],\n",
    "                            vectorized_day_dataset_no_nans[i, j-2],\n",
    "                            vectorized_day_dataset_no_nans[i, j-1],\n",
    "                            vectorized_day_dataset_no_nans[i, j],\n",
    "                            vectorized_day_dataset_no_nans[i, j+1]]\n",
    "\n",
    "        index += 1\n",
    "\n",
    "train_df = pd.DataFrame(data=arr_train\n",
    "                        ,columns=[\"j-4\", \"j-3\", \"j-2\", \"j-1\",\"j\", \"j+1\"])\n",
    "\n",
    "X_train = train_df[[\"j-4\", \"j-3\", \"j-2\", \"j-1\",\"j\"]].to_numpy()\n",
    "y_train = train_df[\"j+1\"].to_numpy()\n",
    "model_arima = LinearRegression(fit_intercept=True) # Similar to an ARIMA 5\n",
    "model_wma = LinearRegression(fit_intercept=False) # Similar to weighted moving averages\n",
    "\n",
    "model_arima.fit(X_train,y_train)\n",
    "model_wma.fit(X_train,y_train)\n",
    "\n",
    "print(mean_absolute_error(y_train, model_arima.predict(X_train)))\n",
    "print(mean_absolute_percentage_error(y_train, model_arima.predict(X_train)))\n",
    "print(mean_absolute_error(y_train, model_wma.predict(X_train)))\n",
    "print(mean_absolute_percentage_error(y_train, model_wma.predict(X_train)))\n"
   ]
  },
  {
   "cell_type": "code",
   "execution_count": 103,
   "metadata": {},
   "outputs": [],
   "source": [
    "def external_evaluation_clustering_with_models_no_clustering(model_arima, model_wma):\n",
    "    # Define the number of past intervals to consider for classification\n",
    "    n_past_intervals_for_classification = 5\n",
    "\n",
    "\n",
    "    # Initialize variables to calculate accuracy metrics\n",
    "    total_mae_arima = 0\n",
    "    total_mape_arima = 0\n",
    "    total_mae_wma = 0\n",
    "    total_mape_wma = 0\n",
    "\n",
    "    prediction_counts = 0\n",
    "\n",
    "    # Loop through each day in the evaluation dataset with no missing values\n",
    "    for i in range(0, ndays_eval_not_nans):\n",
    "        # Loop through intervals from n_past_intervals_for_classification to nintvals - 1\n",
    "        for j in range(n_past_intervals_for_classification, nintvals - 1):\n",
    "\n",
    "            # Predict the value for the next interval\n",
    "            features_to_predict = np.array([vectorized_day_dataset_no_nans_eval[i][j -4],vectorized_day_dataset_no_nans_eval[i][j -3],\n",
    "                vectorized_day_dataset_no_nans_eval[i][j -2],vectorized_day_dataset_no_nans_eval[i][j -1],\n",
    "                vectorized_day_dataset_no_nans_eval[i][j]]).reshape(1,-1)\n",
    "            predicted_value_arima = model_arima.predict(features_to_predict)\n",
    "            predicted_value_wma = model_wma.predict(features_to_predict)\n",
    "           \n",
    "            #print(np.shape(centroids[centroid_index][0, j + 1]))\n",
    "\n",
    "            # Calculate Mean Absolute Error (MAE) and Mean Absolute Percentage Error (MAPE)\n",
    "            mae_t_arima = abs(predicted_value_arima - vectorized_day_dataset_no_nans_eval[i][j + 1])\n",
    "            mape_t_arima = abs(predicted_value_arima - vectorized_day_dataset_no_nans_eval[i][j + 1]) / float(vectorized_day_dataset_no_nans_eval[i][j + 1])\n",
    "            mae_t_wma = abs(predicted_value_wma - vectorized_day_dataset_no_nans_eval[i][j + 1])\n",
    "            mape_t_wma = abs(predicted_value_wma - vectorized_day_dataset_no_nans_eval[i][j + 1]) / float(vectorized_day_dataset_no_nans_eval[i][j + 1])\n",
    "\n",
    "            # Accumulate MAE, MAPE, and count of predictions\n",
    "            total_mae_arima += mae_t_arima\n",
    "            total_mape_arima += mape_t_arima\n",
    "            total_mae_wma += mae_t_wma\n",
    "            total_mape_wma += mape_t_wma\n",
    "\n",
    "            prediction_counts += 1\n",
    "\n",
    "\n",
    "    # Calculate the prediction accuracy metrics\n",
    "    mae_arima = total_mae_arima / prediction_counts\n",
    "    mape_arima = total_mape_arima / prediction_counts\n",
    "\n",
    "    mae_wma = total_mae_wma / prediction_counts\n",
    "    mape_wma = total_mape_wma / prediction_counts\n",
    "\n",
    "    return [mae_arima,mape_arima, mae_wma, mape_wma]"
   ]
  },
  {
   "cell_type": "code",
   "execution_count": null,
   "metadata": {},
   "outputs": [
    {
     "data": {
      "text/plain": [
       "[array([17.31716401]),\n",
       " array([0.14789264]),\n",
       " array([17.25772747]),\n",
       " array([0.13944771])]"
      ]
     },
     "execution_count": 105,
     "metadata": {},
     "output_type": "execute_result"
    }
   ],
   "source": [
    "external_evaluation_clustering_with_models_no_clustering(model_arima, model_wma)"
   ]
  },
  {
   "cell_type": "markdown",
   "metadata": {},
   "source": [
    "We can see the performance is very similar to the case where no clustering is used. In the end, it seeems that for predictive performance the choice of predictive method is much more relevant than whether to do the clustering beforehand or not."
   ]
  },
  {
   "cell_type": "markdown",
   "metadata": {},
   "source": []
  }
 ],
 "metadata": {
  "colab": {
   "provenance": []
  },
  "kernelspec": {
   "display_name": ".venv",
   "language": "python",
   "name": "python3"
  },
  "language_info": {
   "codemirror_mode": {
    "name": "ipython",
    "version": 3
   },
   "file_extension": ".py",
   "mimetype": "text/x-python",
   "name": "python",
   "nbconvert_exporter": "python",
   "pygments_lexer": "ipython3",
   "version": "3.13.7"
  }
 },
 "nbformat": 4,
 "nbformat_minor": 4
}
